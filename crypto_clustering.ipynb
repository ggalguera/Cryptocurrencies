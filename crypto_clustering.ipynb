{
 "cells": [
  {
   "cell_type": "markdown",
   "metadata": {},
   "source": [
    "# Clustering Crypto"
   ]
  },
  {
   "cell_type": "code",
   "execution_count": 81,
   "metadata": {},
   "outputs": [],
   "source": [
    "# Initial imports\n",
    "import pandas as pd\n",
    "import hvplot.pandas\n",
    "import plotly.express as px\n",
    "from sklearn.preprocessing import StandardScaler, MinMaxScaler\n",
    "from sklearn.decomposition import PCA\n",
    "from sklearn.cluster import KMeans"
   ]
  },
  {
   "cell_type": "markdown",
   "metadata": {},
   "source": [
    "### Deliverable 1: Preprocessing the Data for PCA"
   ]
  },
  {
   "cell_type": "code",
   "execution_count": 107,
   "metadata": {},
   "outputs": [
    {
     "data": {
      "text/html": [
       "<div>\n",
       "<style scoped>\n",
       "    .dataframe tbody tr th:only-of-type {\n",
       "        vertical-align: middle;\n",
       "    }\n",
       "\n",
       "    .dataframe tbody tr th {\n",
       "        vertical-align: top;\n",
       "    }\n",
       "\n",
       "    .dataframe thead th {\n",
       "        text-align: right;\n",
       "    }\n",
       "</style>\n",
       "<table border=\"1\" class=\"dataframe\">\n",
       "  <thead>\n",
       "    <tr style=\"text-align: right;\">\n",
       "      <th></th>\n",
       "      <th>CoinName</th>\n",
       "      <th>Algorithm</th>\n",
       "      <th>IsTrading</th>\n",
       "      <th>ProofType</th>\n",
       "      <th>TotalCoinsMined</th>\n",
       "      <th>TotalCoinSupply</th>\n",
       "    </tr>\n",
       "  </thead>\n",
       "  <tbody>\n",
       "    <tr>\n",
       "      <th>42</th>\n",
       "      <td>42 Coin</td>\n",
       "      <td>Scrypt</td>\n",
       "      <td>True</td>\n",
       "      <td>PoW/PoS</td>\n",
       "      <td>4.199995e+01</td>\n",
       "      <td>42</td>\n",
       "    </tr>\n",
       "    <tr>\n",
       "      <th>365</th>\n",
       "      <td>365Coin</td>\n",
       "      <td>X11</td>\n",
       "      <td>True</td>\n",
       "      <td>PoW/PoS</td>\n",
       "      <td>NaN</td>\n",
       "      <td>2300000000</td>\n",
       "    </tr>\n",
       "    <tr>\n",
       "      <th>404</th>\n",
       "      <td>404Coin</td>\n",
       "      <td>Scrypt</td>\n",
       "      <td>True</td>\n",
       "      <td>PoW/PoS</td>\n",
       "      <td>1.055185e+09</td>\n",
       "      <td>532000000</td>\n",
       "    </tr>\n",
       "    <tr>\n",
       "      <th>611</th>\n",
       "      <td>SixEleven</td>\n",
       "      <td>SHA-256</td>\n",
       "      <td>True</td>\n",
       "      <td>PoW</td>\n",
       "      <td>NaN</td>\n",
       "      <td>611000</td>\n",
       "    </tr>\n",
       "    <tr>\n",
       "      <th>808</th>\n",
       "      <td>808</td>\n",
       "      <td>SHA-256</td>\n",
       "      <td>True</td>\n",
       "      <td>PoW/PoS</td>\n",
       "      <td>0.000000e+00</td>\n",
       "      <td>0</td>\n",
       "    </tr>\n",
       "    <tr>\n",
       "      <th>1337</th>\n",
       "      <td>EliteCoin</td>\n",
       "      <td>X13</td>\n",
       "      <td>True</td>\n",
       "      <td>PoW/PoS</td>\n",
       "      <td>2.927942e+10</td>\n",
       "      <td>314159265359</td>\n",
       "    </tr>\n",
       "    <tr>\n",
       "      <th>2015</th>\n",
       "      <td>2015 coin</td>\n",
       "      <td>X11</td>\n",
       "      <td>True</td>\n",
       "      <td>PoW/PoS</td>\n",
       "      <td>NaN</td>\n",
       "      <td>0</td>\n",
       "    </tr>\n",
       "    <tr>\n",
       "      <th>BTC</th>\n",
       "      <td>Bitcoin</td>\n",
       "      <td>SHA-256</td>\n",
       "      <td>True</td>\n",
       "      <td>PoW</td>\n",
       "      <td>1.792718e+07</td>\n",
       "      <td>21000000</td>\n",
       "    </tr>\n",
       "    <tr>\n",
       "      <th>ETH</th>\n",
       "      <td>Ethereum</td>\n",
       "      <td>Ethash</td>\n",
       "      <td>True</td>\n",
       "      <td>PoW</td>\n",
       "      <td>1.076842e+08</td>\n",
       "      <td>0</td>\n",
       "    </tr>\n",
       "    <tr>\n",
       "      <th>LTC</th>\n",
       "      <td>Litecoin</td>\n",
       "      <td>Scrypt</td>\n",
       "      <td>True</td>\n",
       "      <td>PoW</td>\n",
       "      <td>6.303924e+07</td>\n",
       "      <td>84000000</td>\n",
       "    </tr>\n",
       "  </tbody>\n",
       "</table>\n",
       "</div>"
      ],
      "text/plain": [
       "       CoinName Algorithm  IsTrading ProofType  TotalCoinsMined  \\\n",
       "42      42 Coin    Scrypt       True   PoW/PoS     4.199995e+01   \n",
       "365     365Coin       X11       True   PoW/PoS              NaN   \n",
       "404     404Coin    Scrypt       True   PoW/PoS     1.055185e+09   \n",
       "611   SixEleven   SHA-256       True       PoW              NaN   \n",
       "808         808   SHA-256       True   PoW/PoS     0.000000e+00   \n",
       "1337  EliteCoin       X13       True   PoW/PoS     2.927942e+10   \n",
       "2015  2015 coin       X11       True   PoW/PoS              NaN   \n",
       "BTC     Bitcoin   SHA-256       True       PoW     1.792718e+07   \n",
       "ETH    Ethereum    Ethash       True       PoW     1.076842e+08   \n",
       "LTC    Litecoin    Scrypt       True       PoW     6.303924e+07   \n",
       "\n",
       "     TotalCoinSupply  \n",
       "42                42  \n",
       "365       2300000000  \n",
       "404        532000000  \n",
       "611           611000  \n",
       "808                0  \n",
       "1337    314159265359  \n",
       "2015               0  \n",
       "BTC         21000000  \n",
       "ETH                0  \n",
       "LTC         84000000  "
      ]
     },
     "execution_count": 107,
     "metadata": {},
     "output_type": "execute_result"
    }
   ],
   "source": [
    "# Load the crypto_data.csv dataset.\n",
    "# Loading data\n",
    "file_path = \"crypto_data.csv\"\n",
    "crypto_df = pd.read_csv(file_path,index_col=0)\n",
    "crypto_df.head(10)"
   ]
  },
  {
   "cell_type": "code",
   "execution_count": 108,
   "metadata": {},
   "outputs": [
    {
     "data": {
      "text/html": [
       "<div>\n",
       "<style scoped>\n",
       "    .dataframe tbody tr th:only-of-type {\n",
       "        vertical-align: middle;\n",
       "    }\n",
       "\n",
       "    .dataframe tbody tr th {\n",
       "        vertical-align: top;\n",
       "    }\n",
       "\n",
       "    .dataframe thead th {\n",
       "        text-align: right;\n",
       "    }\n",
       "</style>\n",
       "<table border=\"1\" class=\"dataframe\">\n",
       "  <thead>\n",
       "    <tr style=\"text-align: right;\">\n",
       "      <th></th>\n",
       "      <th>CoinName</th>\n",
       "      <th>Algorithm</th>\n",
       "      <th>IsTrading</th>\n",
       "      <th>ProofType</th>\n",
       "      <th>TotalCoinsMined</th>\n",
       "      <th>TotalCoinSupply</th>\n",
       "    </tr>\n",
       "  </thead>\n",
       "  <tbody>\n",
       "    <tr>\n",
       "      <th>42</th>\n",
       "      <td>42 Coin</td>\n",
       "      <td>Scrypt</td>\n",
       "      <td>True</td>\n",
       "      <td>PoW/PoS</td>\n",
       "      <td>4.199995e+01</td>\n",
       "      <td>42</td>\n",
       "    </tr>\n",
       "    <tr>\n",
       "      <th>365</th>\n",
       "      <td>365Coin</td>\n",
       "      <td>X11</td>\n",
       "      <td>True</td>\n",
       "      <td>PoW/PoS</td>\n",
       "      <td>NaN</td>\n",
       "      <td>2300000000</td>\n",
       "    </tr>\n",
       "    <tr>\n",
       "      <th>404</th>\n",
       "      <td>404Coin</td>\n",
       "      <td>Scrypt</td>\n",
       "      <td>True</td>\n",
       "      <td>PoW/PoS</td>\n",
       "      <td>1.055185e+09</td>\n",
       "      <td>532000000</td>\n",
       "    </tr>\n",
       "    <tr>\n",
       "      <th>611</th>\n",
       "      <td>SixEleven</td>\n",
       "      <td>SHA-256</td>\n",
       "      <td>True</td>\n",
       "      <td>PoW</td>\n",
       "      <td>NaN</td>\n",
       "      <td>611000</td>\n",
       "    </tr>\n",
       "    <tr>\n",
       "      <th>808</th>\n",
       "      <td>808</td>\n",
       "      <td>SHA-256</td>\n",
       "      <td>True</td>\n",
       "      <td>PoW/PoS</td>\n",
       "      <td>0.000000e+00</td>\n",
       "      <td>0</td>\n",
       "    </tr>\n",
       "    <tr>\n",
       "      <th>1337</th>\n",
       "      <td>EliteCoin</td>\n",
       "      <td>X13</td>\n",
       "      <td>True</td>\n",
       "      <td>PoW/PoS</td>\n",
       "      <td>2.927942e+10</td>\n",
       "      <td>314159265359</td>\n",
       "    </tr>\n",
       "    <tr>\n",
       "      <th>2015</th>\n",
       "      <td>2015 coin</td>\n",
       "      <td>X11</td>\n",
       "      <td>True</td>\n",
       "      <td>PoW/PoS</td>\n",
       "      <td>NaN</td>\n",
       "      <td>0</td>\n",
       "    </tr>\n",
       "    <tr>\n",
       "      <th>BTC</th>\n",
       "      <td>Bitcoin</td>\n",
       "      <td>SHA-256</td>\n",
       "      <td>True</td>\n",
       "      <td>PoW</td>\n",
       "      <td>1.792718e+07</td>\n",
       "      <td>21000000</td>\n",
       "    </tr>\n",
       "    <tr>\n",
       "      <th>ETH</th>\n",
       "      <td>Ethereum</td>\n",
       "      <td>Ethash</td>\n",
       "      <td>True</td>\n",
       "      <td>PoW</td>\n",
       "      <td>1.076842e+08</td>\n",
       "      <td>0</td>\n",
       "    </tr>\n",
       "    <tr>\n",
       "      <th>LTC</th>\n",
       "      <td>Litecoin</td>\n",
       "      <td>Scrypt</td>\n",
       "      <td>True</td>\n",
       "      <td>PoW</td>\n",
       "      <td>6.303924e+07</td>\n",
       "      <td>84000000</td>\n",
       "    </tr>\n",
       "  </tbody>\n",
       "</table>\n",
       "</div>"
      ],
      "text/plain": [
       "       CoinName Algorithm  IsTrading ProofType  TotalCoinsMined  \\\n",
       "42      42 Coin    Scrypt       True   PoW/PoS     4.199995e+01   \n",
       "365     365Coin       X11       True   PoW/PoS              NaN   \n",
       "404     404Coin    Scrypt       True   PoW/PoS     1.055185e+09   \n",
       "611   SixEleven   SHA-256       True       PoW              NaN   \n",
       "808         808   SHA-256       True   PoW/PoS     0.000000e+00   \n",
       "1337  EliteCoin       X13       True   PoW/PoS     2.927942e+10   \n",
       "2015  2015 coin       X11       True   PoW/PoS              NaN   \n",
       "BTC     Bitcoin   SHA-256       True       PoW     1.792718e+07   \n",
       "ETH    Ethereum    Ethash       True       PoW     1.076842e+08   \n",
       "LTC    Litecoin    Scrypt       True       PoW     6.303924e+07   \n",
       "\n",
       "     TotalCoinSupply  \n",
       "42                42  \n",
       "365       2300000000  \n",
       "404        532000000  \n",
       "611           611000  \n",
       "808                0  \n",
       "1337    314159265359  \n",
       "2015               0  \n",
       "BTC         21000000  \n",
       "ETH                0  \n",
       "LTC         84000000  "
      ]
     },
     "execution_count": 108,
     "metadata": {},
     "output_type": "execute_result"
    }
   ],
   "source": [
    "# Keep all the cryptocurrencies that are being traded.\n",
    "crypto_df = crypto_df[crypto_df['IsTrading'] == True]\n",
    "crypto_df.head(10)"
   ]
  },
  {
   "cell_type": "code",
   "execution_count": 84,
   "metadata": {},
   "outputs": [
    {
     "data": {
      "text/html": [
       "<div>\n",
       "<style scoped>\n",
       "    .dataframe tbody tr th:only-of-type {\n",
       "        vertical-align: middle;\n",
       "    }\n",
       "\n",
       "    .dataframe tbody tr th {\n",
       "        vertical-align: top;\n",
       "    }\n",
       "\n",
       "    .dataframe thead th {\n",
       "        text-align: right;\n",
       "    }\n",
       "</style>\n",
       "<table border=\"1\" class=\"dataframe\">\n",
       "  <thead>\n",
       "    <tr style=\"text-align: right;\">\n",
       "      <th></th>\n",
       "      <th>CoinName</th>\n",
       "      <th>Algorithm</th>\n",
       "      <th>ProofType</th>\n",
       "      <th>TotalCoinsMined</th>\n",
       "      <th>TotalCoinSupply</th>\n",
       "    </tr>\n",
       "  </thead>\n",
       "  <tbody>\n",
       "    <tr>\n",
       "      <th>42</th>\n",
       "      <td>42 Coin</td>\n",
       "      <td>Scrypt</td>\n",
       "      <td>PoW/PoS</td>\n",
       "      <td>4.199995e+01</td>\n",
       "      <td>42</td>\n",
       "    </tr>\n",
       "    <tr>\n",
       "      <th>365</th>\n",
       "      <td>365Coin</td>\n",
       "      <td>X11</td>\n",
       "      <td>PoW/PoS</td>\n",
       "      <td>NaN</td>\n",
       "      <td>2300000000</td>\n",
       "    </tr>\n",
       "    <tr>\n",
       "      <th>404</th>\n",
       "      <td>404Coin</td>\n",
       "      <td>Scrypt</td>\n",
       "      <td>PoW/PoS</td>\n",
       "      <td>1.055185e+09</td>\n",
       "      <td>532000000</td>\n",
       "    </tr>\n",
       "    <tr>\n",
       "      <th>611</th>\n",
       "      <td>SixEleven</td>\n",
       "      <td>SHA-256</td>\n",
       "      <td>PoW</td>\n",
       "      <td>NaN</td>\n",
       "      <td>611000</td>\n",
       "    </tr>\n",
       "    <tr>\n",
       "      <th>808</th>\n",
       "      <td>808</td>\n",
       "      <td>SHA-256</td>\n",
       "      <td>PoW/PoS</td>\n",
       "      <td>0.000000e+00</td>\n",
       "      <td>0</td>\n",
       "    </tr>\n",
       "    <tr>\n",
       "      <th>...</th>\n",
       "      <td>...</td>\n",
       "      <td>...</td>\n",
       "      <td>...</td>\n",
       "      <td>...</td>\n",
       "      <td>...</td>\n",
       "    </tr>\n",
       "    <tr>\n",
       "      <th>SERO</th>\n",
       "      <td>Super Zero</td>\n",
       "      <td>Ethash</td>\n",
       "      <td>PoW</td>\n",
       "      <td>NaN</td>\n",
       "      <td>1000000000</td>\n",
       "    </tr>\n",
       "    <tr>\n",
       "      <th>UOS</th>\n",
       "      <td>UOS</td>\n",
       "      <td>SHA-256</td>\n",
       "      <td>DPoI</td>\n",
       "      <td>NaN</td>\n",
       "      <td>1000000000</td>\n",
       "    </tr>\n",
       "    <tr>\n",
       "      <th>BDX</th>\n",
       "      <td>Beldex</td>\n",
       "      <td>CryptoNight</td>\n",
       "      <td>PoW</td>\n",
       "      <td>9.802226e+08</td>\n",
       "      <td>1400222610</td>\n",
       "    </tr>\n",
       "    <tr>\n",
       "      <th>ZEN</th>\n",
       "      <td>Horizen</td>\n",
       "      <td>Equihash</td>\n",
       "      <td>PoW</td>\n",
       "      <td>7.296538e+06</td>\n",
       "      <td>21000000</td>\n",
       "    </tr>\n",
       "    <tr>\n",
       "      <th>XBC</th>\n",
       "      <td>BitcoinPlus</td>\n",
       "      <td>Scrypt</td>\n",
       "      <td>PoS</td>\n",
       "      <td>1.283270e+05</td>\n",
       "      <td>1000000</td>\n",
       "    </tr>\n",
       "  </tbody>\n",
       "</table>\n",
       "<p>1144 rows × 5 columns</p>\n",
       "</div>"
      ],
      "text/plain": [
       "         CoinName    Algorithm ProofType  TotalCoinsMined TotalCoinSupply\n",
       "42        42 Coin       Scrypt   PoW/PoS     4.199995e+01              42\n",
       "365       365Coin          X11   PoW/PoS              NaN      2300000000\n",
       "404       404Coin       Scrypt   PoW/PoS     1.055185e+09       532000000\n",
       "611     SixEleven      SHA-256       PoW              NaN          611000\n",
       "808           808      SHA-256   PoW/PoS     0.000000e+00               0\n",
       "...           ...          ...       ...              ...             ...\n",
       "SERO   Super Zero       Ethash       PoW              NaN      1000000000\n",
       "UOS           UOS      SHA-256      DPoI              NaN      1000000000\n",
       "BDX        Beldex  CryptoNight       PoW     9.802226e+08      1400222610\n",
       "ZEN       Horizen     Equihash       PoW     7.296538e+06        21000000\n",
       "XBC   BitcoinPlus       Scrypt       PoS     1.283270e+05         1000000\n",
       "\n",
       "[1144 rows x 5 columns]"
      ]
     },
     "execution_count": 84,
     "metadata": {},
     "output_type": "execute_result"
    }
   ],
   "source": [
    "# Remove the \"IsTrading\" column. \n",
    "crypto_df = crypto_df.drop('IsTrading', axis=1)\n",
    "crypto_df"
   ]
  },
  {
   "cell_type": "code",
   "execution_count": 85,
   "metadata": {},
   "outputs": [],
   "source": [
    "# Remove rows that have at least 1 null value.\n",
    "crypto_df = crypto_df.dropna()"
   ]
  },
  {
   "cell_type": "code",
   "execution_count": 109,
   "metadata": {},
   "outputs": [
    {
     "name": "stdout",
     "output_type": "stream",
     "text": [
      "(532, 6)\n"
     ]
    },
    {
     "data": {
      "text/html": [
       "<div>\n",
       "<style scoped>\n",
       "    .dataframe tbody tr th:only-of-type {\n",
       "        vertical-align: middle;\n",
       "    }\n",
       "\n",
       "    .dataframe tbody tr th {\n",
       "        vertical-align: top;\n",
       "    }\n",
       "\n",
       "    .dataframe thead th {\n",
       "        text-align: right;\n",
       "    }\n",
       "</style>\n",
       "<table border=\"1\" class=\"dataframe\">\n",
       "  <thead>\n",
       "    <tr style=\"text-align: right;\">\n",
       "      <th></th>\n",
       "      <th>CoinName</th>\n",
       "      <th>Algorithm</th>\n",
       "      <th>IsTrading</th>\n",
       "      <th>ProofType</th>\n",
       "      <th>TotalCoinsMined</th>\n",
       "      <th>TotalCoinSupply</th>\n",
       "    </tr>\n",
       "  </thead>\n",
       "  <tbody>\n",
       "    <tr>\n",
       "      <th>42</th>\n",
       "      <td>42 Coin</td>\n",
       "      <td>Scrypt</td>\n",
       "      <td>True</td>\n",
       "      <td>PoW/PoS</td>\n",
       "      <td>4.199995e+01</td>\n",
       "      <td>42</td>\n",
       "    </tr>\n",
       "    <tr>\n",
       "      <th>404</th>\n",
       "      <td>404Coin</td>\n",
       "      <td>Scrypt</td>\n",
       "      <td>True</td>\n",
       "      <td>PoW/PoS</td>\n",
       "      <td>1.055185e+09</td>\n",
       "      <td>532000000</td>\n",
       "    </tr>\n",
       "    <tr>\n",
       "      <th>1337</th>\n",
       "      <td>EliteCoin</td>\n",
       "      <td>X13</td>\n",
       "      <td>True</td>\n",
       "      <td>PoW/PoS</td>\n",
       "      <td>2.927942e+10</td>\n",
       "      <td>314159265359</td>\n",
       "    </tr>\n",
       "    <tr>\n",
       "      <th>BTC</th>\n",
       "      <td>Bitcoin</td>\n",
       "      <td>SHA-256</td>\n",
       "      <td>True</td>\n",
       "      <td>PoW</td>\n",
       "      <td>1.792718e+07</td>\n",
       "      <td>21000000</td>\n",
       "    </tr>\n",
       "    <tr>\n",
       "      <th>ETH</th>\n",
       "      <td>Ethereum</td>\n",
       "      <td>Ethash</td>\n",
       "      <td>True</td>\n",
       "      <td>PoW</td>\n",
       "      <td>1.076842e+08</td>\n",
       "      <td>0</td>\n",
       "    </tr>\n",
       "    <tr>\n",
       "      <th>LTC</th>\n",
       "      <td>Litecoin</td>\n",
       "      <td>Scrypt</td>\n",
       "      <td>True</td>\n",
       "      <td>PoW</td>\n",
       "      <td>6.303924e+07</td>\n",
       "      <td>84000000</td>\n",
       "    </tr>\n",
       "    <tr>\n",
       "      <th>DASH</th>\n",
       "      <td>Dash</td>\n",
       "      <td>X11</td>\n",
       "      <td>True</td>\n",
       "      <td>PoW/PoS</td>\n",
       "      <td>9.031294e+06</td>\n",
       "      <td>22000000</td>\n",
       "    </tr>\n",
       "    <tr>\n",
       "      <th>XMR</th>\n",
       "      <td>Monero</td>\n",
       "      <td>CryptoNight-V7</td>\n",
       "      <td>True</td>\n",
       "      <td>PoW</td>\n",
       "      <td>1.720114e+07</td>\n",
       "      <td>0</td>\n",
       "    </tr>\n",
       "    <tr>\n",
       "      <th>ETC</th>\n",
       "      <td>Ethereum Classic</td>\n",
       "      <td>Ethash</td>\n",
       "      <td>True</td>\n",
       "      <td>PoW</td>\n",
       "      <td>1.133597e+08</td>\n",
       "      <td>210000000</td>\n",
       "    </tr>\n",
       "    <tr>\n",
       "      <th>ZEC</th>\n",
       "      <td>ZCash</td>\n",
       "      <td>Equihash</td>\n",
       "      <td>True</td>\n",
       "      <td>PoW</td>\n",
       "      <td>7.383056e+06</td>\n",
       "      <td>21000000</td>\n",
       "    </tr>\n",
       "  </tbody>\n",
       "</table>\n",
       "</div>"
      ],
      "text/plain": [
       "              CoinName       Algorithm  IsTrading ProofType  TotalCoinsMined  \\\n",
       "42             42 Coin          Scrypt       True   PoW/PoS     4.199995e+01   \n",
       "404            404Coin          Scrypt       True   PoW/PoS     1.055185e+09   \n",
       "1337         EliteCoin             X13       True   PoW/PoS     2.927942e+10   \n",
       "BTC            Bitcoin         SHA-256       True       PoW     1.792718e+07   \n",
       "ETH           Ethereum          Ethash       True       PoW     1.076842e+08   \n",
       "LTC           Litecoin          Scrypt       True       PoW     6.303924e+07   \n",
       "DASH              Dash             X11       True   PoW/PoS     9.031294e+06   \n",
       "XMR             Monero  CryptoNight-V7       True       PoW     1.720114e+07   \n",
       "ETC   Ethereum Classic          Ethash       True       PoW     1.133597e+08   \n",
       "ZEC              ZCash        Equihash       True       PoW     7.383056e+06   \n",
       "\n",
       "     TotalCoinSupply  \n",
       "42                42  \n",
       "404        532000000  \n",
       "1337    314159265359  \n",
       "BTC         21000000  \n",
       "ETH                0  \n",
       "LTC         84000000  \n",
       "DASH        22000000  \n",
       "XMR                0  \n",
       "ETC        210000000  \n",
       "ZEC         21000000  "
      ]
     },
     "execution_count": 109,
     "metadata": {},
     "output_type": "execute_result"
    }
   ],
   "source": [
    "# Keep the rows where coins are mined.\n",
    "crypto_df = crypto_df[crypto_df['TotalCoinsMined'] > 0]\n",
    "print(crypto_df.shape)\n",
    "crypto_df.head(10)"
   ]
  },
  {
   "cell_type": "code",
   "execution_count": 110,
   "metadata": {},
   "outputs": [
    {
     "data": {
      "text/html": [
       "<div>\n",
       "<style scoped>\n",
       "    .dataframe tbody tr th:only-of-type {\n",
       "        vertical-align: middle;\n",
       "    }\n",
       "\n",
       "    .dataframe tbody tr th {\n",
       "        vertical-align: top;\n",
       "    }\n",
       "\n",
       "    .dataframe thead th {\n",
       "        text-align: right;\n",
       "    }\n",
       "</style>\n",
       "<table border=\"1\" class=\"dataframe\">\n",
       "  <thead>\n",
       "    <tr style=\"text-align: right;\">\n",
       "      <th></th>\n",
       "      <th>CoinName</th>\n",
       "    </tr>\n",
       "  </thead>\n",
       "  <tbody>\n",
       "    <tr>\n",
       "      <th>42</th>\n",
       "      <td>42 Coin</td>\n",
       "    </tr>\n",
       "    <tr>\n",
       "      <th>404</th>\n",
       "      <td>404Coin</td>\n",
       "    </tr>\n",
       "    <tr>\n",
       "      <th>1337</th>\n",
       "      <td>EliteCoin</td>\n",
       "    </tr>\n",
       "    <tr>\n",
       "      <th>BTC</th>\n",
       "      <td>Bitcoin</td>\n",
       "    </tr>\n",
       "    <tr>\n",
       "      <th>ETH</th>\n",
       "      <td>Ethereum</td>\n",
       "    </tr>\n",
       "    <tr>\n",
       "      <th>LTC</th>\n",
       "      <td>Litecoin</td>\n",
       "    </tr>\n",
       "    <tr>\n",
       "      <th>DASH</th>\n",
       "      <td>Dash</td>\n",
       "    </tr>\n",
       "    <tr>\n",
       "      <th>XMR</th>\n",
       "      <td>Monero</td>\n",
       "    </tr>\n",
       "    <tr>\n",
       "      <th>ETC</th>\n",
       "      <td>Ethereum Classic</td>\n",
       "    </tr>\n",
       "    <tr>\n",
       "      <th>ZEC</th>\n",
       "      <td>ZCash</td>\n",
       "    </tr>\n",
       "  </tbody>\n",
       "</table>\n",
       "</div>"
      ],
      "text/plain": [
       "              CoinName\n",
       "42             42 Coin\n",
       "404            404Coin\n",
       "1337         EliteCoin\n",
       "BTC            Bitcoin\n",
       "ETH           Ethereum\n",
       "LTC           Litecoin\n",
       "DASH              Dash\n",
       "XMR             Monero\n",
       "ETC   Ethereum Classic\n",
       "ZEC              ZCash"
      ]
     },
     "execution_count": 110,
     "metadata": {},
     "output_type": "execute_result"
    }
   ],
   "source": [
    "# Create a new DataFrame that holds only the cryptocurrencies names.\n",
    "crypto_names_df = crypto_df[['CoinName']]\n",
    "crypto_names_df.head(10)"
   ]
  },
  {
   "cell_type": "code",
   "execution_count": 111,
   "metadata": {},
   "outputs": [
    {
     "data": {
      "text/html": [
       "<div>\n",
       "<style scoped>\n",
       "    .dataframe tbody tr th:only-of-type {\n",
       "        vertical-align: middle;\n",
       "    }\n",
       "\n",
       "    .dataframe tbody tr th {\n",
       "        vertical-align: top;\n",
       "    }\n",
       "\n",
       "    .dataframe thead th {\n",
       "        text-align: right;\n",
       "    }\n",
       "</style>\n",
       "<table border=\"1\" class=\"dataframe\">\n",
       "  <thead>\n",
       "    <tr style=\"text-align: right;\">\n",
       "      <th></th>\n",
       "      <th>Algorithm</th>\n",
       "      <th>IsTrading</th>\n",
       "      <th>ProofType</th>\n",
       "      <th>TotalCoinsMined</th>\n",
       "      <th>TotalCoinSupply</th>\n",
       "    </tr>\n",
       "  </thead>\n",
       "  <tbody>\n",
       "    <tr>\n",
       "      <th>42</th>\n",
       "      <td>Scrypt</td>\n",
       "      <td>True</td>\n",
       "      <td>PoW/PoS</td>\n",
       "      <td>4.199995e+01</td>\n",
       "      <td>42</td>\n",
       "    </tr>\n",
       "    <tr>\n",
       "      <th>404</th>\n",
       "      <td>Scrypt</td>\n",
       "      <td>True</td>\n",
       "      <td>PoW/PoS</td>\n",
       "      <td>1.055185e+09</td>\n",
       "      <td>532000000</td>\n",
       "    </tr>\n",
       "    <tr>\n",
       "      <th>1337</th>\n",
       "      <td>X13</td>\n",
       "      <td>True</td>\n",
       "      <td>PoW/PoS</td>\n",
       "      <td>2.927942e+10</td>\n",
       "      <td>314159265359</td>\n",
       "    </tr>\n",
       "    <tr>\n",
       "      <th>BTC</th>\n",
       "      <td>SHA-256</td>\n",
       "      <td>True</td>\n",
       "      <td>PoW</td>\n",
       "      <td>1.792718e+07</td>\n",
       "      <td>21000000</td>\n",
       "    </tr>\n",
       "    <tr>\n",
       "      <th>ETH</th>\n",
       "      <td>Ethash</td>\n",
       "      <td>True</td>\n",
       "      <td>PoW</td>\n",
       "      <td>1.076842e+08</td>\n",
       "      <td>0</td>\n",
       "    </tr>\n",
       "    <tr>\n",
       "      <th>LTC</th>\n",
       "      <td>Scrypt</td>\n",
       "      <td>True</td>\n",
       "      <td>PoW</td>\n",
       "      <td>6.303924e+07</td>\n",
       "      <td>84000000</td>\n",
       "    </tr>\n",
       "    <tr>\n",
       "      <th>DASH</th>\n",
       "      <td>X11</td>\n",
       "      <td>True</td>\n",
       "      <td>PoW/PoS</td>\n",
       "      <td>9.031294e+06</td>\n",
       "      <td>22000000</td>\n",
       "    </tr>\n",
       "    <tr>\n",
       "      <th>XMR</th>\n",
       "      <td>CryptoNight-V7</td>\n",
       "      <td>True</td>\n",
       "      <td>PoW</td>\n",
       "      <td>1.720114e+07</td>\n",
       "      <td>0</td>\n",
       "    </tr>\n",
       "    <tr>\n",
       "      <th>ETC</th>\n",
       "      <td>Ethash</td>\n",
       "      <td>True</td>\n",
       "      <td>PoW</td>\n",
       "      <td>1.133597e+08</td>\n",
       "      <td>210000000</td>\n",
       "    </tr>\n",
       "    <tr>\n",
       "      <th>ZEC</th>\n",
       "      <td>Equihash</td>\n",
       "      <td>True</td>\n",
       "      <td>PoW</td>\n",
       "      <td>7.383056e+06</td>\n",
       "      <td>21000000</td>\n",
       "    </tr>\n",
       "  </tbody>\n",
       "</table>\n",
       "</div>"
      ],
      "text/plain": [
       "           Algorithm  IsTrading ProofType  TotalCoinsMined TotalCoinSupply\n",
       "42            Scrypt       True   PoW/PoS     4.199995e+01              42\n",
       "404           Scrypt       True   PoW/PoS     1.055185e+09       532000000\n",
       "1337             X13       True   PoW/PoS     2.927942e+10    314159265359\n",
       "BTC          SHA-256       True       PoW     1.792718e+07        21000000\n",
       "ETH           Ethash       True       PoW     1.076842e+08               0\n",
       "LTC           Scrypt       True       PoW     6.303924e+07        84000000\n",
       "DASH             X11       True   PoW/PoS     9.031294e+06        22000000\n",
       "XMR   CryptoNight-V7       True       PoW     1.720114e+07               0\n",
       "ETC           Ethash       True       PoW     1.133597e+08       210000000\n",
       "ZEC         Equihash       True       PoW     7.383056e+06        21000000"
      ]
     },
     "execution_count": 111,
     "metadata": {},
     "output_type": "execute_result"
    }
   ],
   "source": [
    "# Drop the 'CoinName' column since it's not going to be used on the clustering algorithm.\n",
    "crypto_df = crypto_df.drop('CoinName', axis=1)\n",
    "crypto_df.head(10)"
   ]
  },
  {
   "cell_type": "code",
   "execution_count": 89,
   "metadata": {},
   "outputs": [
    {
     "data": {
      "text/html": [
       "<div>\n",
       "<style scoped>\n",
       "    .dataframe tbody tr th:only-of-type {\n",
       "        vertical-align: middle;\n",
       "    }\n",
       "\n",
       "    .dataframe tbody tr th {\n",
       "        vertical-align: top;\n",
       "    }\n",
       "\n",
       "    .dataframe thead th {\n",
       "        text-align: right;\n",
       "    }\n",
       "</style>\n",
       "<table border=\"1\" class=\"dataframe\">\n",
       "  <thead>\n",
       "    <tr style=\"text-align: right;\">\n",
       "      <th></th>\n",
       "      <th>TotalCoinsMined</th>\n",
       "      <th>TotalCoinSupply</th>\n",
       "      <th>Algorithm_1GB AES Pattern Search</th>\n",
       "      <th>Algorithm_536</th>\n",
       "      <th>Algorithm_Argon2d</th>\n",
       "      <th>Algorithm_BLAKE256</th>\n",
       "      <th>Algorithm_Blake</th>\n",
       "      <th>Algorithm_Blake2S</th>\n",
       "      <th>Algorithm_Blake2b</th>\n",
       "      <th>Algorithm_C11</th>\n",
       "      <th>...</th>\n",
       "      <th>ProofType_PoW/PoS</th>\n",
       "      <th>ProofType_PoW/PoS</th>\n",
       "      <th>ProofType_PoW/PoW</th>\n",
       "      <th>ProofType_PoW/nPoS</th>\n",
       "      <th>ProofType_Pos</th>\n",
       "      <th>ProofType_Proof of Authority</th>\n",
       "      <th>ProofType_Proof of Trust</th>\n",
       "      <th>ProofType_TPoS</th>\n",
       "      <th>ProofType_Zero-Knowledge Proof</th>\n",
       "      <th>ProofType_dPoW/PoW</th>\n",
       "    </tr>\n",
       "  </thead>\n",
       "  <tbody>\n",
       "    <tr>\n",
       "      <th>42</th>\n",
       "      <td>4.199995e+01</td>\n",
       "      <td>42</td>\n",
       "      <td>0</td>\n",
       "      <td>0</td>\n",
       "      <td>0</td>\n",
       "      <td>0</td>\n",
       "      <td>0</td>\n",
       "      <td>0</td>\n",
       "      <td>0</td>\n",
       "      <td>0</td>\n",
       "      <td>...</td>\n",
       "      <td>1</td>\n",
       "      <td>0</td>\n",
       "      <td>0</td>\n",
       "      <td>0</td>\n",
       "      <td>0</td>\n",
       "      <td>0</td>\n",
       "      <td>0</td>\n",
       "      <td>0</td>\n",
       "      <td>0</td>\n",
       "      <td>0</td>\n",
       "    </tr>\n",
       "    <tr>\n",
       "      <th>404</th>\n",
       "      <td>1.055185e+09</td>\n",
       "      <td>532000000</td>\n",
       "      <td>0</td>\n",
       "      <td>0</td>\n",
       "      <td>0</td>\n",
       "      <td>0</td>\n",
       "      <td>0</td>\n",
       "      <td>0</td>\n",
       "      <td>0</td>\n",
       "      <td>0</td>\n",
       "      <td>...</td>\n",
       "      <td>1</td>\n",
       "      <td>0</td>\n",
       "      <td>0</td>\n",
       "      <td>0</td>\n",
       "      <td>0</td>\n",
       "      <td>0</td>\n",
       "      <td>0</td>\n",
       "      <td>0</td>\n",
       "      <td>0</td>\n",
       "      <td>0</td>\n",
       "    </tr>\n",
       "    <tr>\n",
       "      <th>1337</th>\n",
       "      <td>2.927942e+10</td>\n",
       "      <td>314159265359</td>\n",
       "      <td>0</td>\n",
       "      <td>0</td>\n",
       "      <td>0</td>\n",
       "      <td>0</td>\n",
       "      <td>0</td>\n",
       "      <td>0</td>\n",
       "      <td>0</td>\n",
       "      <td>0</td>\n",
       "      <td>...</td>\n",
       "      <td>1</td>\n",
       "      <td>0</td>\n",
       "      <td>0</td>\n",
       "      <td>0</td>\n",
       "      <td>0</td>\n",
       "      <td>0</td>\n",
       "      <td>0</td>\n",
       "      <td>0</td>\n",
       "      <td>0</td>\n",
       "      <td>0</td>\n",
       "    </tr>\n",
       "    <tr>\n",
       "      <th>BTC</th>\n",
       "      <td>1.792718e+07</td>\n",
       "      <td>21000000</td>\n",
       "      <td>0</td>\n",
       "      <td>0</td>\n",
       "      <td>0</td>\n",
       "      <td>0</td>\n",
       "      <td>0</td>\n",
       "      <td>0</td>\n",
       "      <td>0</td>\n",
       "      <td>0</td>\n",
       "      <td>...</td>\n",
       "      <td>0</td>\n",
       "      <td>0</td>\n",
       "      <td>0</td>\n",
       "      <td>0</td>\n",
       "      <td>0</td>\n",
       "      <td>0</td>\n",
       "      <td>0</td>\n",
       "      <td>0</td>\n",
       "      <td>0</td>\n",
       "      <td>0</td>\n",
       "    </tr>\n",
       "    <tr>\n",
       "      <th>ETH</th>\n",
       "      <td>1.076842e+08</td>\n",
       "      <td>0</td>\n",
       "      <td>0</td>\n",
       "      <td>0</td>\n",
       "      <td>0</td>\n",
       "      <td>0</td>\n",
       "      <td>0</td>\n",
       "      <td>0</td>\n",
       "      <td>0</td>\n",
       "      <td>0</td>\n",
       "      <td>...</td>\n",
       "      <td>0</td>\n",
       "      <td>0</td>\n",
       "      <td>0</td>\n",
       "      <td>0</td>\n",
       "      <td>0</td>\n",
       "      <td>0</td>\n",
       "      <td>0</td>\n",
       "      <td>0</td>\n",
       "      <td>0</td>\n",
       "      <td>0</td>\n",
       "    </tr>\n",
       "    <tr>\n",
       "      <th>...</th>\n",
       "      <td>...</td>\n",
       "      <td>...</td>\n",
       "      <td>...</td>\n",
       "      <td>...</td>\n",
       "      <td>...</td>\n",
       "      <td>...</td>\n",
       "      <td>...</td>\n",
       "      <td>...</td>\n",
       "      <td>...</td>\n",
       "      <td>...</td>\n",
       "      <td>...</td>\n",
       "      <td>...</td>\n",
       "      <td>...</td>\n",
       "      <td>...</td>\n",
       "      <td>...</td>\n",
       "      <td>...</td>\n",
       "      <td>...</td>\n",
       "      <td>...</td>\n",
       "      <td>...</td>\n",
       "      <td>...</td>\n",
       "      <td>...</td>\n",
       "    </tr>\n",
       "    <tr>\n",
       "      <th>ZEPH</th>\n",
       "      <td>2.000000e+09</td>\n",
       "      <td>2000000000</td>\n",
       "      <td>0</td>\n",
       "      <td>0</td>\n",
       "      <td>0</td>\n",
       "      <td>0</td>\n",
       "      <td>0</td>\n",
       "      <td>0</td>\n",
       "      <td>0</td>\n",
       "      <td>0</td>\n",
       "      <td>...</td>\n",
       "      <td>0</td>\n",
       "      <td>0</td>\n",
       "      <td>0</td>\n",
       "      <td>0</td>\n",
       "      <td>0</td>\n",
       "      <td>0</td>\n",
       "      <td>0</td>\n",
       "      <td>0</td>\n",
       "      <td>0</td>\n",
       "      <td>0</td>\n",
       "    </tr>\n",
       "    <tr>\n",
       "      <th>GAP</th>\n",
       "      <td>1.493105e+07</td>\n",
       "      <td>250000000</td>\n",
       "      <td>0</td>\n",
       "      <td>0</td>\n",
       "      <td>0</td>\n",
       "      <td>0</td>\n",
       "      <td>0</td>\n",
       "      <td>0</td>\n",
       "      <td>0</td>\n",
       "      <td>0</td>\n",
       "      <td>...</td>\n",
       "      <td>1</td>\n",
       "      <td>0</td>\n",
       "      <td>0</td>\n",
       "      <td>0</td>\n",
       "      <td>0</td>\n",
       "      <td>0</td>\n",
       "      <td>0</td>\n",
       "      <td>0</td>\n",
       "      <td>0</td>\n",
       "      <td>0</td>\n",
       "    </tr>\n",
       "    <tr>\n",
       "      <th>BDX</th>\n",
       "      <td>9.802226e+08</td>\n",
       "      <td>1400222610</td>\n",
       "      <td>0</td>\n",
       "      <td>0</td>\n",
       "      <td>0</td>\n",
       "      <td>0</td>\n",
       "      <td>0</td>\n",
       "      <td>0</td>\n",
       "      <td>0</td>\n",
       "      <td>0</td>\n",
       "      <td>...</td>\n",
       "      <td>0</td>\n",
       "      <td>0</td>\n",
       "      <td>0</td>\n",
       "      <td>0</td>\n",
       "      <td>0</td>\n",
       "      <td>0</td>\n",
       "      <td>0</td>\n",
       "      <td>0</td>\n",
       "      <td>0</td>\n",
       "      <td>0</td>\n",
       "    </tr>\n",
       "    <tr>\n",
       "      <th>ZEN</th>\n",
       "      <td>7.296538e+06</td>\n",
       "      <td>21000000</td>\n",
       "      <td>0</td>\n",
       "      <td>0</td>\n",
       "      <td>0</td>\n",
       "      <td>0</td>\n",
       "      <td>0</td>\n",
       "      <td>0</td>\n",
       "      <td>0</td>\n",
       "      <td>0</td>\n",
       "      <td>...</td>\n",
       "      <td>0</td>\n",
       "      <td>0</td>\n",
       "      <td>0</td>\n",
       "      <td>0</td>\n",
       "      <td>0</td>\n",
       "      <td>0</td>\n",
       "      <td>0</td>\n",
       "      <td>0</td>\n",
       "      <td>0</td>\n",
       "      <td>0</td>\n",
       "    </tr>\n",
       "    <tr>\n",
       "      <th>XBC</th>\n",
       "      <td>1.283270e+05</td>\n",
       "      <td>1000000</td>\n",
       "      <td>0</td>\n",
       "      <td>0</td>\n",
       "      <td>0</td>\n",
       "      <td>0</td>\n",
       "      <td>0</td>\n",
       "      <td>0</td>\n",
       "      <td>0</td>\n",
       "      <td>0</td>\n",
       "      <td>...</td>\n",
       "      <td>0</td>\n",
       "      <td>0</td>\n",
       "      <td>0</td>\n",
       "      <td>0</td>\n",
       "      <td>0</td>\n",
       "      <td>0</td>\n",
       "      <td>0</td>\n",
       "      <td>0</td>\n",
       "      <td>0</td>\n",
       "      <td>0</td>\n",
       "    </tr>\n",
       "  </tbody>\n",
       "</table>\n",
       "<p>532 rows × 98 columns</p>\n",
       "</div>"
      ],
      "text/plain": [
       "      TotalCoinsMined TotalCoinSupply  Algorithm_1GB AES Pattern Search  \\\n",
       "42       4.199995e+01              42                                 0   \n",
       "404      1.055185e+09       532000000                                 0   \n",
       "1337     2.927942e+10    314159265359                                 0   \n",
       "BTC      1.792718e+07        21000000                                 0   \n",
       "ETH      1.076842e+08               0                                 0   \n",
       "...               ...             ...                               ...   \n",
       "ZEPH     2.000000e+09      2000000000                                 0   \n",
       "GAP      1.493105e+07       250000000                                 0   \n",
       "BDX      9.802226e+08      1400222610                                 0   \n",
       "ZEN      7.296538e+06        21000000                                 0   \n",
       "XBC      1.283270e+05         1000000                                 0   \n",
       "\n",
       "      Algorithm_536  Algorithm_Argon2d  Algorithm_BLAKE256  Algorithm_Blake  \\\n",
       "42                0                  0                   0                0   \n",
       "404               0                  0                   0                0   \n",
       "1337              0                  0                   0                0   \n",
       "BTC               0                  0                   0                0   \n",
       "ETH               0                  0                   0                0   \n",
       "...             ...                ...                 ...              ...   \n",
       "ZEPH              0                  0                   0                0   \n",
       "GAP               0                  0                   0                0   \n",
       "BDX               0                  0                   0                0   \n",
       "ZEN               0                  0                   0                0   \n",
       "XBC               0                  0                   0                0   \n",
       "\n",
       "      Algorithm_Blake2S  Algorithm_Blake2b  Algorithm_C11  ...  \\\n",
       "42                    0                  0              0  ...   \n",
       "404                   0                  0              0  ...   \n",
       "1337                  0                  0              0  ...   \n",
       "BTC                   0                  0              0  ...   \n",
       "ETH                   0                  0              0  ...   \n",
       "...                 ...                ...            ...  ...   \n",
       "ZEPH                  0                  0              0  ...   \n",
       "GAP                   0                  0              0  ...   \n",
       "BDX                   0                  0              0  ...   \n",
       "ZEN                   0                  0              0  ...   \n",
       "XBC                   0                  0              0  ...   \n",
       "\n",
       "      ProofType_PoW/PoS  ProofType_PoW/PoS   ProofType_PoW/PoW  \\\n",
       "42                    1                   0                  0   \n",
       "404                   1                   0                  0   \n",
       "1337                  1                   0                  0   \n",
       "BTC                   0                   0                  0   \n",
       "ETH                   0                   0                  0   \n",
       "...                 ...                 ...                ...   \n",
       "ZEPH                  0                   0                  0   \n",
       "GAP                   1                   0                  0   \n",
       "BDX                   0                   0                  0   \n",
       "ZEN                   0                   0                  0   \n",
       "XBC                   0                   0                  0   \n",
       "\n",
       "      ProofType_PoW/nPoS  ProofType_Pos  ProofType_Proof of Authority  \\\n",
       "42                     0              0                             0   \n",
       "404                    0              0                             0   \n",
       "1337                   0              0                             0   \n",
       "BTC                    0              0                             0   \n",
       "ETH                    0              0                             0   \n",
       "...                  ...            ...                           ...   \n",
       "ZEPH                   0              0                             0   \n",
       "GAP                    0              0                             0   \n",
       "BDX                    0              0                             0   \n",
       "ZEN                    0              0                             0   \n",
       "XBC                    0              0                             0   \n",
       "\n",
       "      ProofType_Proof of Trust  ProofType_TPoS  \\\n",
       "42                           0               0   \n",
       "404                          0               0   \n",
       "1337                         0               0   \n",
       "BTC                          0               0   \n",
       "ETH                          0               0   \n",
       "...                        ...             ...   \n",
       "ZEPH                         0               0   \n",
       "GAP                          0               0   \n",
       "BDX                          0               0   \n",
       "ZEN                          0               0   \n",
       "XBC                          0               0   \n",
       "\n",
       "      ProofType_Zero-Knowledge Proof  ProofType_dPoW/PoW  \n",
       "42                                 0                   0  \n",
       "404                                0                   0  \n",
       "1337                               0                   0  \n",
       "BTC                                0                   0  \n",
       "ETH                                0                   0  \n",
       "...                              ...                 ...  \n",
       "ZEPH                               0                   0  \n",
       "GAP                                0                   0  \n",
       "BDX                                0                   0  \n",
       "ZEN                                0                   0  \n",
       "XBC                                0                   0  \n",
       "\n",
       "[532 rows x 98 columns]"
      ]
     },
     "execution_count": 89,
     "metadata": {},
     "output_type": "execute_result"
    }
   ],
   "source": [
    "# Use get_dummies() to create variables for text features.\n",
    "# create dummy variables for the Algorithm and ProofType columns\n",
    "X = pd.get_dummies(data=crypto_df, columns=[\"Algorithm\", \"ProofType\"])\n",
    "X"
   ]
  },
  {
   "cell_type": "code",
   "execution_count": 112,
   "metadata": {},
   "outputs": [
    {
     "data": {
      "text/plain": [
       "array([[-0.11710817, -0.1528703 , -0.0433963 , ..., -0.0433963 ,\n",
       "        -0.0433963 , -0.0433963 ],\n",
       "       [-0.09396955, -0.145009  , -0.0433963 , ..., -0.0433963 ,\n",
       "        -0.0433963 , -0.0433963 ],\n",
       "       [ 0.52494561,  4.48942416, -0.0433963 , ..., -0.0433963 ,\n",
       "        -0.0433963 , -0.0433963 ],\n",
       "       ...,\n",
       "       [-0.09561336, -0.13217937, -0.0433963 , ..., -0.0433963 ,\n",
       "        -0.0433963 , -0.0433963 ],\n",
       "       [-0.11694817, -0.15255998, -0.0433963 , ..., -0.0433963 ,\n",
       "        -0.0433963 , -0.0433963 ],\n",
       "       [-0.11710536, -0.15285552, -0.0433963 , ..., -0.0433963 ,\n",
       "        -0.0433963 , -0.0433963 ]])"
      ]
     },
     "execution_count": 112,
     "metadata": {},
     "output_type": "execute_result"
    }
   ],
   "source": [
    "# Standardize the data with StandardScaler().\n",
    "X_std = StandardScaler().fit_transform(X)\n",
    "X_std"
   ]
  },
  {
   "cell_type": "markdown",
   "metadata": {},
   "source": [
    "### Deliverable 2: Reducing Data Dimensions Using PCA"
   ]
  },
  {
   "cell_type": "code",
   "execution_count": 113,
   "metadata": {},
   "outputs": [
    {
     "data": {
      "text/plain": [
       "array([[-0.33997742,  1.03170834, -0.42931245],\n",
       "       [-0.32331999,  1.03187572, -0.42959415],\n",
       "       [ 2.3036658 ,  1.63358065, -0.52350738],\n",
       "       ...,\n",
       "       [ 0.32238142, -2.31678394,  0.28150728],\n",
       "       [-0.15552471, -1.99505996,  0.3428818 ],\n",
       "       [-0.29990848,  0.8515598 , -0.12635124]])"
      ]
     },
     "execution_count": 113,
     "metadata": {},
     "output_type": "execute_result"
    }
   ],
   "source": [
    "# Using PCA to reduce dimension to three principal components.\n",
    "# Initialize PCA model\n",
    "pca = PCA(n_components=3)\n",
    "# Get two principal components for the iris data.\n",
    "X_pca = pca.fit_transform(X_std)\n",
    "X_pca"
   ]
  },
  {
   "cell_type": "code",
   "execution_count": 114,
   "metadata": {},
   "outputs": [
    {
     "data": {
      "text/html": [
       "<div>\n",
       "<style scoped>\n",
       "    .dataframe tbody tr th:only-of-type {\n",
       "        vertical-align: middle;\n",
       "    }\n",
       "\n",
       "    .dataframe tbody tr th {\n",
       "        vertical-align: top;\n",
       "    }\n",
       "\n",
       "    .dataframe thead th {\n",
       "        text-align: right;\n",
       "    }\n",
       "</style>\n",
       "<table border=\"1\" class=\"dataframe\">\n",
       "  <thead>\n",
       "    <tr style=\"text-align: right;\">\n",
       "      <th></th>\n",
       "      <th>PC 1</th>\n",
       "      <th>PC 2</th>\n",
       "      <th>PC 3</th>\n",
       "    </tr>\n",
       "  </thead>\n",
       "  <tbody>\n",
       "    <tr>\n",
       "      <th>42</th>\n",
       "      <td>-0.339977</td>\n",
       "      <td>1.031708</td>\n",
       "      <td>-0.429312</td>\n",
       "    </tr>\n",
       "    <tr>\n",
       "      <th>404</th>\n",
       "      <td>-0.323320</td>\n",
       "      <td>1.031876</td>\n",
       "      <td>-0.429594</td>\n",
       "    </tr>\n",
       "    <tr>\n",
       "      <th>1337</th>\n",
       "      <td>2.303666</td>\n",
       "      <td>1.633581</td>\n",
       "      <td>-0.523507</td>\n",
       "    </tr>\n",
       "    <tr>\n",
       "      <th>BTC</th>\n",
       "      <td>-0.144908</td>\n",
       "      <td>-1.327686</td>\n",
       "      <td>0.105366</td>\n",
       "    </tr>\n",
       "    <tr>\n",
       "      <th>ETH</th>\n",
       "      <td>-0.145062</td>\n",
       "      <td>-2.047139</td>\n",
       "      <td>0.219457</td>\n",
       "    </tr>\n",
       "    <tr>\n",
       "      <th>LTC</th>\n",
       "      <td>-0.171384</td>\n",
       "      <td>-1.124358</td>\n",
       "      <td>-0.002206</td>\n",
       "    </tr>\n",
       "    <tr>\n",
       "      <th>DASH</th>\n",
       "      <td>-0.376627</td>\n",
       "      <td>1.215344</td>\n",
       "      <td>-0.395920</td>\n",
       "    </tr>\n",
       "    <tr>\n",
       "      <th>XMR</th>\n",
       "      <td>-0.149626</td>\n",
       "      <td>-2.236914</td>\n",
       "      <td>0.288637</td>\n",
       "    </tr>\n",
       "    <tr>\n",
       "      <th>ETC</th>\n",
       "      <td>-0.143505</td>\n",
       "      <td>-2.047240</td>\n",
       "      <td>0.219443</td>\n",
       "    </tr>\n",
       "    <tr>\n",
       "      <th>ZEC</th>\n",
       "      <td>-0.155524</td>\n",
       "      <td>-1.995060</td>\n",
       "      <td>0.342882</td>\n",
       "    </tr>\n",
       "  </tbody>\n",
       "</table>\n",
       "</div>"
      ],
      "text/plain": [
       "          PC 1      PC 2      PC 3\n",
       "42   -0.339977  1.031708 -0.429312\n",
       "404  -0.323320  1.031876 -0.429594\n",
       "1337  2.303666  1.633581 -0.523507\n",
       "BTC  -0.144908 -1.327686  0.105366\n",
       "ETH  -0.145062 -2.047139  0.219457\n",
       "LTC  -0.171384 -1.124358 -0.002206\n",
       "DASH -0.376627  1.215344 -0.395920\n",
       "XMR  -0.149626 -2.236914  0.288637\n",
       "ETC  -0.143505 -2.047240  0.219443\n",
       "ZEC  -0.155524 -1.995060  0.342882"
      ]
     },
     "execution_count": 114,
     "metadata": {},
     "output_type": "execute_result"
    }
   ],
   "source": [
    "# Create a DataFrame with the three principal components.\n",
    "pcs_df = pd.DataFrame(X_pca, columns=[\"PC 1\", \"PC 2\", \"PC 3\"], index=crypto_names_df.index)\n",
    "pcs_df.head(10)"
   ]
  },
  {
   "cell_type": "markdown",
   "metadata": {},
   "source": [
    "### Deliverable 3: Clustering Crytocurrencies Using K-Means\n",
    "\n",
    "#### Finding the Best Value for `k` Using the Elbow Curve"
   ]
  },
  {
   "cell_type": "code",
   "execution_count": 115,
   "metadata": {},
   "outputs": [],
   "source": [
    "# Create an elbow curve to find the best value for K.\n",
    "inertia = []\n",
    "k = list(range(1, 11))"
   ]
  },
  {
   "cell_type": "code",
   "execution_count": 116,
   "metadata": {},
   "outputs": [
    {
     "name": "stderr",
     "output_type": "stream",
     "text": [
      "C:\\Users\\galgu\\anaconda3\\envs\\PythonData\\envs\\mlenv\\lib\\site-packages\\sklearn\\cluster\\_kmeans.py:1037: UserWarning:\n",
      "\n",
      "KMeans is known to have a memory leak on Windows with MKL, when there are less chunks than available threads. You can avoid it by setting the environment variable OMP_NUM_THREADS=3.\n",
      "\n"
     ]
    }
   ],
   "source": [
    "# Looking for the best K\n",
    "for i in k:\n",
    "    km = KMeans(n_clusters=i, random_state=0)\n",
    "    km.fit(pcs_df)\n",
    "    inertia.append(km.inertia_)"
   ]
  },
  {
   "cell_type": "code",
   "execution_count": 117,
   "metadata": {},
   "outputs": [
    {
     "data": {},
     "metadata": {},
     "output_type": "display_data"
    },
    {
     "data": {
      "application/vnd.holoviews_exec.v0+json": "",
      "text/html": [
       "<div id='2642'>\n",
       "  <div class=\"bk-root\" id=\"b30e063e-89e8-4663-87a5-4e1331ef6e51\" data-root-id=\"2642\"></div>\n",
       "</div>\n",
       "<script type=\"application/javascript\">(function(root) {\n",
       "  function embed_document(root) {\n",
       "    var docs_json = {\"73f956ef-4164-4735-a8fc-20cf98f18744\":{\"defs\":[{\"extends\":null,\"module\":null,\"name\":\"ReactiveHTML1\",\"overrides\":[],\"properties\":[]},{\"extends\":null,\"module\":null,\"name\":\"FlexBox1\",\"overrides\":[],\"properties\":[{\"default\":\"flex-start\",\"kind\":null,\"name\":\"align_content\"},{\"default\":\"flex-start\",\"kind\":null,\"name\":\"align_items\"},{\"default\":\"row\",\"kind\":null,\"name\":\"flex_direction\"},{\"default\":\"wrap\",\"kind\":null,\"name\":\"flex_wrap\"},{\"default\":\"flex-start\",\"kind\":null,\"name\":\"justify_content\"}]},{\"extends\":null,\"module\":null,\"name\":\"GridStack1\",\"overrides\":[],\"properties\":[{\"default\":\"warn\",\"kind\":null,\"name\":\"mode\"},{\"default\":null,\"kind\":null,\"name\":\"ncols\"},{\"default\":null,\"kind\":null,\"name\":\"nrows\"},{\"default\":true,\"kind\":null,\"name\":\"allow_resize\"},{\"default\":true,\"kind\":null,\"name\":\"allow_drag\"},{\"default\":[],\"kind\":null,\"name\":\"state\"}]},{\"extends\":null,\"module\":null,\"name\":\"click1\",\"overrides\":[],\"properties\":[{\"default\":\"\",\"kind\":null,\"name\":\"terminal_output\"},{\"default\":\"\",\"kind\":null,\"name\":\"debug_name\"},{\"default\":0,\"kind\":null,\"name\":\"clears\"}]},{\"extends\":null,\"module\":null,\"name\":\"NotificationAreaBase1\",\"overrides\":[],\"properties\":[{\"default\":\"bottom-right\",\"kind\":null,\"name\":\"position\"},{\"default\":0,\"kind\":null,\"name\":\"_clear\"}]},{\"extends\":null,\"module\":null,\"name\":\"NotificationArea1\",\"overrides\":[],\"properties\":[{\"default\":[],\"kind\":null,\"name\":\"notifications\"},{\"default\":\"bottom-right\",\"kind\":null,\"name\":\"position\"},{\"default\":0,\"kind\":null,\"name\":\"_clear\"},{\"default\":[{\"background\":\"#ffc107\",\"icon\":{\"className\":\"fas fa-exclamation-triangle\",\"color\":\"white\",\"tagName\":\"i\"},\"type\":\"warning\"},{\"background\":\"#007bff\",\"icon\":{\"className\":\"fas fa-info-circle\",\"color\":\"white\",\"tagName\":\"i\"},\"type\":\"info\"}],\"kind\":null,\"name\":\"types\"}]},{\"extends\":null,\"module\":null,\"name\":\"Notification\",\"overrides\":[],\"properties\":[{\"default\":null,\"kind\":null,\"name\":\"background\"},{\"default\":3000,\"kind\":null,\"name\":\"duration\"},{\"default\":null,\"kind\":null,\"name\":\"icon\"},{\"default\":\"\",\"kind\":null,\"name\":\"message\"},{\"default\":null,\"kind\":null,\"name\":\"notification_type\"},{\"default\":false,\"kind\":null,\"name\":\"_destroyed\"}]},{\"extends\":null,\"module\":null,\"name\":\"TemplateActions1\",\"overrides\":[],\"properties\":[{\"default\":0,\"kind\":null,\"name\":\"open_modal\"},{\"default\":0,\"kind\":null,\"name\":\"close_modal\"}]},{\"extends\":null,\"module\":null,\"name\":\"MaterialTemplateActions1\",\"overrides\":[],\"properties\":[{\"default\":0,\"kind\":null,\"name\":\"open_modal\"},{\"default\":0,\"kind\":null,\"name\":\"close_modal\"}]}],\"roots\":{\"references\":[{\"attributes\":{\"end\":10.0,\"reset_end\":10.0,\"reset_start\":1.0,\"start\":1.0,\"tags\":[[[\"k\",\"k\",null]]]},\"id\":\"2644\",\"type\":\"Range1d\"},{\"attributes\":{\"end\":3993.3047015276015,\"reset_end\":3993.3047015276015,\"reset_start\":-256.8411455449491,\"start\":-256.8411455449491,\"tags\":[[[\"inertia\",\"inertia\",null]]]},\"id\":\"2645\",\"type\":\"Range1d\"},{\"attributes\":{\"data\":{\"inertia\":{\"__ndarray__\":\"tWF3c0BurECT3dOqe1KjQKHkVsLIKZdAVM79scm4gUBRWwDHVGd3QFYgBDaxXHBA6FXBPbYwaUAcBv7ogHZjQMPt+EFlOl5ALyDKd5xVWEA=\",\"dtype\":\"float64\",\"order\":\"little\",\"shape\":[10]},\"k\":[1,2,3,4,5,6,7,8,9,10]},\"selected\":{\"id\":\"2678\"},\"selection_policy\":{\"id\":\"2701\"}},\"id\":\"2677\",\"type\":\"ColumnDataSource\"},{\"attributes\":{\"line_color\":\"#30a2da\",\"line_width\":2,\"x\":{\"field\":\"k\"},\"y\":{\"field\":\"inertia\"}},\"id\":\"2685\",\"type\":\"Line\"},{\"attributes\":{\"ticks\":[1,2,3,4,5,6,7,8,9,10]},\"id\":\"2686\",\"type\":\"FixedTicker\"},{\"attributes\":{\"below\":[{\"id\":\"2656\"}],\"center\":[{\"id\":\"2659\"},{\"id\":\"2663\"}],\"height\":800,\"left\":[{\"id\":\"2660\"}],\"margin\":[5,5,5,5],\"min_border_bottom\":10,\"min_border_left\":10,\"min_border_right\":10,\"min_border_top\":10,\"renderers\":[{\"id\":\"2683\"}],\"sizing_mode\":\"fixed\",\"title\":{\"id\":\"2648\"},\"toolbar\":{\"id\":\"2670\"},\"width\":800,\"x_range\":{\"id\":\"2644\"},\"x_scale\":{\"id\":\"2652\"},\"y_range\":{\"id\":\"2645\"},\"y_scale\":{\"id\":\"2654\"}},\"id\":\"2647\",\"subtype\":\"Figure\",\"type\":\"Plot\"},{\"attributes\":{\"source\":{\"id\":\"2677\"}},\"id\":\"2684\",\"type\":\"CDSView\"},{\"attributes\":{},\"id\":\"2689\",\"type\":\"AllLabels\"},{\"attributes\":{\"tools\":[{\"id\":\"2646\"},{\"id\":\"2664\"},{\"id\":\"2665\"},{\"id\":\"2666\"},{\"id\":\"2667\"},{\"id\":\"2668\"}]},\"id\":\"2670\",\"type\":\"Toolbar\"},{\"attributes\":{\"coordinates\":null,\"data_source\":{\"id\":\"2677\"},\"glyph\":{\"id\":\"2680\"},\"group\":null,\"hover_glyph\":null,\"muted_glyph\":{\"id\":\"2682\"},\"nonselection_glyph\":{\"id\":\"2681\"},\"selection_glyph\":{\"id\":\"2685\"},\"view\":{\"id\":\"2684\"}},\"id\":\"2683\",\"type\":\"GlyphRenderer\"},{\"attributes\":{\"bottom_units\":\"screen\",\"coordinates\":null,\"fill_alpha\":0.5,\"fill_color\":\"lightgrey\",\"group\":null,\"left_units\":\"screen\",\"level\":\"overlay\",\"line_alpha\":1.0,\"line_color\":\"black\",\"line_dash\":[4,4],\"line_width\":2,\"right_units\":\"screen\",\"syncable\":false,\"top_units\":\"screen\"},\"id\":\"2669\",\"type\":\"BoxAnnotation\"},{\"attributes\":{\"margin\":[5,5,5,5],\"name\":\"HSpacer02606\",\"sizing_mode\":\"stretch_width\"},\"id\":\"2704\",\"type\":\"Spacer\"},{\"attributes\":{},\"id\":\"2664\",\"type\":\"SaveTool\"},{\"attributes\":{\"line_alpha\":0.1,\"line_color\":\"#30a2da\",\"line_width\":2,\"x\":{\"field\":\"k\"},\"y\":{\"field\":\"inertia\"}},\"id\":\"2681\",\"type\":\"Line\"},{\"attributes\":{},\"id\":\"2665\",\"type\":\"PanTool\"},{\"attributes\":{},\"id\":\"2694\",\"type\":\"AllLabels\"},{\"attributes\":{\"axis\":{\"id\":\"2656\"},\"coordinates\":null,\"grid_line_color\":null,\"group\":null,\"ticker\":null},\"id\":\"2659\",\"type\":\"Grid\"},{\"attributes\":{\"line_alpha\":0.2,\"line_color\":\"#30a2da\",\"line_width\":2,\"x\":{\"field\":\"k\"},\"y\":{\"field\":\"inertia\"}},\"id\":\"2682\",\"type\":\"Line\"},{\"attributes\":{},\"id\":\"2668\",\"type\":\"ResetTool\"},{\"attributes\":{},\"id\":\"2666\",\"type\":\"WheelZoomTool\"},{\"attributes\":{\"overlay\":{\"id\":\"2669\"}},\"id\":\"2667\",\"type\":\"BoxZoomTool\"},{\"attributes\":{\"line_color\":\"#30a2da\",\"line_width\":2,\"x\":{\"field\":\"k\"},\"y\":{\"field\":\"inertia\"}},\"id\":\"2680\",\"type\":\"Line\"},{\"attributes\":{},\"id\":\"2688\",\"type\":\"BasicTickFormatter\"},{\"attributes\":{\"coordinates\":null,\"group\":null,\"text\":\"Elbow Curve\",\"text_color\":\"black\",\"text_font_size\":\"12pt\"},\"id\":\"2648\",\"type\":\"Title\"},{\"attributes\":{},\"id\":\"2652\",\"type\":\"LinearScale\"},{\"attributes\":{},\"id\":\"2678\",\"type\":\"Selection\"},{\"attributes\":{\"margin\":[5,5,5,5],\"name\":\"HSpacer02605\",\"sizing_mode\":\"stretch_width\"},\"id\":\"2643\",\"type\":\"Spacer\"},{\"attributes\":{},\"id\":\"2661\",\"type\":\"BasicTicker\"},{\"attributes\":{\"axis_label\":\"inertia\",\"coordinates\":null,\"formatter\":{\"id\":\"2693\"},\"group\":null,\"major_label_policy\":{\"id\":\"2694\"},\"ticker\":{\"id\":\"2661\"}},\"id\":\"2660\",\"type\":\"LinearAxis\"},{\"attributes\":{},\"id\":\"2701\",\"type\":\"UnionRenderers\"},{\"attributes\":{},\"id\":\"2654\",\"type\":\"LinearScale\"},{\"attributes\":{},\"id\":\"2693\",\"type\":\"BasicTickFormatter\"},{\"attributes\":{\"children\":[{\"id\":\"2643\"},{\"id\":\"2647\"},{\"id\":\"2704\"}],\"margin\":[0,0,0,0],\"name\":\"Row02601\",\"tags\":[\"embedded\"]},\"id\":\"2642\",\"type\":\"Row\"},{\"attributes\":{\"callback\":null,\"renderers\":[{\"id\":\"2683\"}],\"tags\":[\"hv_created\"],\"tooltips\":[[\"k\",\"@{k}\"],[\"inertia\",\"@{inertia}\"]]},\"id\":\"2646\",\"type\":\"HoverTool\"},{\"attributes\":{\"axis\":{\"id\":\"2660\"},\"coordinates\":null,\"dimension\":1,\"grid_line_color\":null,\"group\":null,\"ticker\":null},\"id\":\"2663\",\"type\":\"Grid\"},{\"attributes\":{\"axis_label\":\"k\",\"coordinates\":null,\"formatter\":{\"id\":\"2688\"},\"group\":null,\"major_label_policy\":{\"id\":\"2689\"},\"ticker\":{\"id\":\"2686\"}},\"id\":\"2656\",\"type\":\"LinearAxis\"}],\"root_ids\":[\"2642\"]},\"title\":\"Bokeh Application\",\"version\":\"2.4.3\"}};\n",
       "    var render_items = [{\"docid\":\"73f956ef-4164-4735-a8fc-20cf98f18744\",\"root_ids\":[\"2642\"],\"roots\":{\"2642\":\"b30e063e-89e8-4663-87a5-4e1331ef6e51\"}}];\n",
       "    root.Bokeh.embed.embed_items_notebook(docs_json, render_items);\n",
       "  }\n",
       "  if (root.Bokeh !== undefined && root.Bokeh.Panel !== undefined) {\n",
       "    embed_document(root);\n",
       "  } else {\n",
       "    var attempts = 0;\n",
       "    var timer = setInterval(function(root) {\n",
       "      if (root.Bokeh !== undefined && root.Bokeh.Panel !== undefined) {\n",
       "        clearInterval(timer);\n",
       "        embed_document(root);\n",
       "      } else if (document.readyState == \"complete\") {\n",
       "        attempts++;\n",
       "        if (attempts > 200) {\n",
       "          clearInterval(timer);\n",
       "          console.log(\"Bokeh: ERROR: Unable to run BokehJS code because BokehJS library is missing\");\n",
       "        }\n",
       "      }\n",
       "    }, 25, root)\n",
       "  }\n",
       "})(window);</script>"
      ],
      "text/plain": [
       ":Curve   [k]   (inertia)"
      ]
     },
     "execution_count": 117,
     "metadata": {
      "application/vnd.holoviews_exec.v0+json": {
       "id": "2642"
      }
     },
     "output_type": "execute_result"
    }
   ],
   "source": [
    "# Define a DataFrame to plot the Elbow Curve using hvPlot\n",
    "elbow_data = {\"k\": k, \"inertia\": inertia}\n",
    "df_elbow = pd.DataFrame(elbow_data)\n",
    "df_elbow.hvplot.line(x=\"k\", y=\"inertia\", title=\"Elbow Curve\", xticks=k, width=800, height=800,)"
   ]
  },
  {
   "cell_type": "markdown",
   "metadata": {},
   "source": [
    "Running K-Means with `k=4`"
   ]
  },
  {
   "cell_type": "code",
   "execution_count": 118,
   "metadata": {},
   "outputs": [
    {
     "data": {
      "text/plain": [
       "array([0, 0, 0, 2, 2, 2, 0, 2, 2, 2, 0, 2, 0, 0, 2, 0, 2, 2, 0, 0, 2, 2,\n",
       "       2, 2, 2, 0, 2, 2, 2, 0, 2, 0, 2, 2, 0, 0, 2, 2, 2, 2, 2, 2, 0, 0,\n",
       "       2, 2, 2, 2, 2, 0, 0, 2, 0, 2, 2, 2, 2, 0, 2, 2, 0, 2, 0, 0, 0, 2,\n",
       "       2, 2, 0, 0, 0, 0, 0, 2, 2, 2, 0, 0, 2, 0, 2, 0, 0, 2, 2, 2, 2, 0,\n",
       "       0, 2, 0, 2, 2, 0, 0, 2, 0, 0, 2, 2, 0, 0, 2, 0, 0, 2, 0, 2, 0, 2,\n",
       "       0, 2, 0, 0, 2, 2, 0, 2, 2, 2, 0, 2, 2, 2, 2, 2, 0, 0, 2, 2, 2, 0,\n",
       "       2, 0, 2, 2, 0, 2, 0, 2, 0, 0, 2, 2, 0, 2, 2, 0, 0, 2, 0, 2, 0, 0,\n",
       "       0, 2, 2, 2, 2, 0, 0, 0, 0, 0, 2, 2, 0, 0, 0, 0, 0, 2, 0, 0, 0, 0,\n",
       "       0, 2, 0, 2, 0, 0, 2, 0, 2, 0, 0, 2, 0, 2, 0, 2, 0, 2, 0, 0, 0, 0,\n",
       "       2, 0, 0, 0, 0, 0, 2, 2, 0, 0, 2, 2, 0, 0, 0, 0, 0, 2, 0, 0, 0, 0,\n",
       "       0, 0, 0, 0, 2, 0, 0, 0, 0, 0, 0, 2, 2, 2, 0, 0, 0, 0, 2, 0, 2, 0,\n",
       "       0, 2, 0, 2, 2, 0, 2, 2, 0, 2, 0, 0, 0, 2, 0, 0, 2, 0, 0, 0, 0, 0,\n",
       "       0, 0, 2, 0, 2, 0, 0, 0, 0, 2, 0, 2, 0, 2, 2, 2, 2, 0, 2, 0, 0, 2,\n",
       "       0, 2, 2, 2, 0, 2, 0, 2, 2, 2, 0, 2, 0, 2, 0, 0, 0, 2, 0, 2, 2, 2,\n",
       "       2, 2, 0, 0, 2, 0, 0, 0, 2, 0, 2, 0, 2, 0, 2, 0, 0, 0, 0, 2, 0, 0,\n",
       "       2, 0, 0, 0, 2, 2, 2, 2, 0, 0, 0, 0, 2, 0, 2, 2, 2, 0, 0, 2, 2, 0,\n",
       "       0, 2, 0, 2, 2, 2, 0, 2, 2, 0, 0, 0, 2, 2, 2, 0, 0, 0, 2, 2, 0, 2,\n",
       "       2, 2, 2, 0, 3, 3, 2, 2, 2, 0, 3, 0, 0, 0, 0, 2, 2, 2, 2, 0, 0, 0,\n",
       "       2, 0, 2, 0, 0, 0, 0, 2, 0, 0, 2, 0, 0, 2, 2, 0, 2, 0, 2, 2, 2, 2,\n",
       "       0, 0, 2, 0, 2, 0, 0, 0, 0, 0, 0, 2, 2, 2, 0, 0, 0, 0, 0, 0, 2, 0,\n",
       "       2, 2, 2, 2, 0, 0, 0, 0, 2, 0, 0, 2, 0, 0, 2, 0, 2, 0, 2, 2, 0, 0,\n",
       "       2, 0, 2, 2, 0, 2, 2, 0, 2, 0, 2, 0, 0, 2, 0, 0, 0, 0, 0, 2, 2, 2,\n",
       "       0, 0, 0, 2, 0, 2, 0, 2, 0, 0, 0, 0, 2, 0, 0, 0, 2, 0, 2, 0, 2, 0,\n",
       "       0, 0, 2, 2, 0, 0, 0, 0, 0, 0, 2, 0, 2, 0, 2, 0, 0, 0, 0, 1, 0, 0,\n",
       "       0, 2, 2, 0])"
      ]
     },
     "execution_count": 118,
     "metadata": {},
     "output_type": "execute_result"
    }
   ],
   "source": [
    "# Initialize the K-Means model.\n",
    "model = KMeans(n_clusters=4, random_state=0)\n",
    "\n",
    "# Fit the model\n",
    "model.fit(pcs_df)\n",
    "\n",
    "# Predict clusters\n",
    "predictions = model.predict(pcs_df)\n",
    "predictions"
   ]
  },
  {
   "cell_type": "code",
   "execution_count": 97,
   "metadata": {},
   "outputs": [
    {
     "data": {
      "text/html": [
       "<div>\n",
       "<style scoped>\n",
       "    .dataframe tbody tr th:only-of-type {\n",
       "        vertical-align: middle;\n",
       "    }\n",
       "\n",
       "    .dataframe tbody tr th {\n",
       "        vertical-align: top;\n",
       "    }\n",
       "\n",
       "    .dataframe thead th {\n",
       "        text-align: right;\n",
       "    }\n",
       "</style>\n",
       "<table border=\"1\" class=\"dataframe\">\n",
       "  <thead>\n",
       "    <tr style=\"text-align: right;\">\n",
       "      <th></th>\n",
       "      <th>Algorithm</th>\n",
       "      <th>ProofType</th>\n",
       "      <th>TotalCoinsMined</th>\n",
       "      <th>TotalCoinSupply</th>\n",
       "      <th>PC 1</th>\n",
       "      <th>PC 2</th>\n",
       "      <th>PC 3</th>\n",
       "    </tr>\n",
       "  </thead>\n",
       "  <tbody>\n",
       "    <tr>\n",
       "      <th>42</th>\n",
       "      <td>Scrypt</td>\n",
       "      <td>PoW/PoS</td>\n",
       "      <td>4.199995e+01</td>\n",
       "      <td>42</td>\n",
       "      <td>-0.342056</td>\n",
       "      <td>1.045991</td>\n",
       "      <td>-0.480772</td>\n",
       "    </tr>\n",
       "    <tr>\n",
       "      <th>404</th>\n",
       "      <td>Scrypt</td>\n",
       "      <td>PoW/PoS</td>\n",
       "      <td>1.055185e+09</td>\n",
       "      <td>532000000</td>\n",
       "      <td>-0.325417</td>\n",
       "      <td>1.046215</td>\n",
       "      <td>-0.481095</td>\n",
       "    </tr>\n",
       "    <tr>\n",
       "      <th>1337</th>\n",
       "      <td>X13</td>\n",
       "      <td>PoW/PoS</td>\n",
       "      <td>2.927942e+10</td>\n",
       "      <td>314159265359</td>\n",
       "      <td>2.302010</td>\n",
       "      <td>1.654424</td>\n",
       "      <td>-0.548763</td>\n",
       "    </tr>\n",
       "    <tr>\n",
       "      <th>BTC</th>\n",
       "      <td>SHA-256</td>\n",
       "      <td>PoW</td>\n",
       "      <td>1.792718e+07</td>\n",
       "      <td>21000000</td>\n",
       "      <td>-0.139125</td>\n",
       "      <td>-1.354779</td>\n",
       "      <td>0.151707</td>\n",
       "    </tr>\n",
       "    <tr>\n",
       "      <th>ETH</th>\n",
       "      <td>Ethash</td>\n",
       "      <td>PoW</td>\n",
       "      <td>1.076842e+08</td>\n",
       "      <td>0</td>\n",
       "      <td>-0.155984</td>\n",
       "      <td>-2.025155</td>\n",
       "      <td>0.335603</td>\n",
       "    </tr>\n",
       "    <tr>\n",
       "      <th>...</th>\n",
       "      <td>...</td>\n",
       "      <td>...</td>\n",
       "      <td>...</td>\n",
       "      <td>...</td>\n",
       "      <td>...</td>\n",
       "      <td>...</td>\n",
       "      <td>...</td>\n",
       "    </tr>\n",
       "    <tr>\n",
       "      <th>ZEPH</th>\n",
       "      <td>SHA-256</td>\n",
       "      <td>DPoS</td>\n",
       "      <td>2.000000e+09</td>\n",
       "      <td>2000000000</td>\n",
       "      <td>2.496003</td>\n",
       "      <td>0.730469</td>\n",
       "      <td>-0.237514</td>\n",
       "    </tr>\n",
       "    <tr>\n",
       "      <th>GAP</th>\n",
       "      <td>Scrypt</td>\n",
       "      <td>PoW/PoS</td>\n",
       "      <td>1.493105e+07</td>\n",
       "      <td>250000000</td>\n",
       "      <td>-0.340105</td>\n",
       "      <td>1.045887</td>\n",
       "      <td>-0.480775</td>\n",
       "    </tr>\n",
       "    <tr>\n",
       "      <th>BDX</th>\n",
       "      <td>CryptoNight</td>\n",
       "      <td>PoW</td>\n",
       "      <td>9.802226e+08</td>\n",
       "      <td>1400222610</td>\n",
       "      <td>0.326209</td>\n",
       "      <td>-2.298240</td>\n",
       "      <td>0.404264</td>\n",
       "    </tr>\n",
       "    <tr>\n",
       "      <th>ZEN</th>\n",
       "      <td>Equihash</td>\n",
       "      <td>PoW</td>\n",
       "      <td>7.296538e+06</td>\n",
       "      <td>21000000</td>\n",
       "      <td>-0.128759</td>\n",
       "      <td>-2.092014</td>\n",
       "      <td>0.348246</td>\n",
       "    </tr>\n",
       "    <tr>\n",
       "      <th>XBC</th>\n",
       "      <td>Scrypt</td>\n",
       "      <td>PoS</td>\n",
       "      <td>1.283270e+05</td>\n",
       "      <td>1000000</td>\n",
       "      <td>-0.284631</td>\n",
       "      <td>0.800158</td>\n",
       "      <td>-0.279291</td>\n",
       "    </tr>\n",
       "  </tbody>\n",
       "</table>\n",
       "<p>532 rows × 7 columns</p>\n",
       "</div>"
      ],
      "text/plain": [
       "        Algorithm ProofType  TotalCoinsMined TotalCoinSupply      PC 1  \\\n",
       "42         Scrypt   PoW/PoS     4.199995e+01              42 -0.342056   \n",
       "404        Scrypt   PoW/PoS     1.055185e+09       532000000 -0.325417   \n",
       "1337          X13   PoW/PoS     2.927942e+10    314159265359  2.302010   \n",
       "BTC       SHA-256       PoW     1.792718e+07        21000000 -0.139125   \n",
       "ETH        Ethash       PoW     1.076842e+08               0 -0.155984   \n",
       "...           ...       ...              ...             ...       ...   \n",
       "ZEPH      SHA-256      DPoS     2.000000e+09      2000000000  2.496003   \n",
       "GAP        Scrypt   PoW/PoS     1.493105e+07       250000000 -0.340105   \n",
       "BDX   CryptoNight       PoW     9.802226e+08      1400222610  0.326209   \n",
       "ZEN      Equihash       PoW     7.296538e+06        21000000 -0.128759   \n",
       "XBC        Scrypt       PoS     1.283270e+05         1000000 -0.284631   \n",
       "\n",
       "          PC 2      PC 3  \n",
       "42    1.045991 -0.480772  \n",
       "404   1.046215 -0.481095  \n",
       "1337  1.654424 -0.548763  \n",
       "BTC  -1.354779  0.151707  \n",
       "ETH  -2.025155  0.335603  \n",
       "...        ...       ...  \n",
       "ZEPH  0.730469 -0.237514  \n",
       "GAP   1.045887 -0.480775  \n",
       "BDX  -2.298240  0.404264  \n",
       "ZEN  -2.092014  0.348246  \n",
       "XBC   0.800158 -0.279291  \n",
       "\n",
       "[532 rows x 7 columns]"
      ]
     },
     "execution_count": 97,
     "metadata": {},
     "output_type": "execute_result"
    }
   ],
   "source": [
    "clustered_df = pd.concat([crypto_df,pcs_df],axis =1)\n",
    "clustered_df"
   ]
  },
  {
   "cell_type": "code",
   "execution_count": 98,
   "metadata": {},
   "outputs": [
    {
     "name": "stdout",
     "output_type": "stream",
     "text": [
      "(532, 9)\n"
     ]
    },
    {
     "data": {
      "text/html": [
       "<div>\n",
       "<style scoped>\n",
       "    .dataframe tbody tr th:only-of-type {\n",
       "        vertical-align: middle;\n",
       "    }\n",
       "\n",
       "    .dataframe tbody tr th {\n",
       "        vertical-align: top;\n",
       "    }\n",
       "\n",
       "    .dataframe thead th {\n",
       "        text-align: right;\n",
       "    }\n",
       "</style>\n",
       "<table border=\"1\" class=\"dataframe\">\n",
       "  <thead>\n",
       "    <tr style=\"text-align: right;\">\n",
       "      <th></th>\n",
       "      <th>Algorithm</th>\n",
       "      <th>ProofType</th>\n",
       "      <th>TotalCoinsMined</th>\n",
       "      <th>TotalCoinSupply</th>\n",
       "      <th>PC 1</th>\n",
       "      <th>PC 2</th>\n",
       "      <th>PC 3</th>\n",
       "      <th>CoinName</th>\n",
       "      <th>Class</th>\n",
       "    </tr>\n",
       "  </thead>\n",
       "  <tbody>\n",
       "    <tr>\n",
       "      <th>42</th>\n",
       "      <td>Scrypt</td>\n",
       "      <td>PoW/PoS</td>\n",
       "      <td>4.199995e+01</td>\n",
       "      <td>42</td>\n",
       "      <td>-0.342056</td>\n",
       "      <td>1.045991</td>\n",
       "      <td>-0.480772</td>\n",
       "      <td>42 Coin</td>\n",
       "      <td>0</td>\n",
       "    </tr>\n",
       "    <tr>\n",
       "      <th>404</th>\n",
       "      <td>Scrypt</td>\n",
       "      <td>PoW/PoS</td>\n",
       "      <td>1.055185e+09</td>\n",
       "      <td>532000000</td>\n",
       "      <td>-0.325417</td>\n",
       "      <td>1.046215</td>\n",
       "      <td>-0.481095</td>\n",
       "      <td>404Coin</td>\n",
       "      <td>0</td>\n",
       "    </tr>\n",
       "    <tr>\n",
       "      <th>1337</th>\n",
       "      <td>X13</td>\n",
       "      <td>PoW/PoS</td>\n",
       "      <td>2.927942e+10</td>\n",
       "      <td>314159265359</td>\n",
       "      <td>2.302010</td>\n",
       "      <td>1.654424</td>\n",
       "      <td>-0.548763</td>\n",
       "      <td>EliteCoin</td>\n",
       "      <td>0</td>\n",
       "    </tr>\n",
       "    <tr>\n",
       "      <th>BTC</th>\n",
       "      <td>SHA-256</td>\n",
       "      <td>PoW</td>\n",
       "      <td>1.792718e+07</td>\n",
       "      <td>21000000</td>\n",
       "      <td>-0.139125</td>\n",
       "      <td>-1.354779</td>\n",
       "      <td>0.151707</td>\n",
       "      <td>Bitcoin</td>\n",
       "      <td>2</td>\n",
       "    </tr>\n",
       "    <tr>\n",
       "      <th>ETH</th>\n",
       "      <td>Ethash</td>\n",
       "      <td>PoW</td>\n",
       "      <td>1.076842e+08</td>\n",
       "      <td>0</td>\n",
       "      <td>-0.155984</td>\n",
       "      <td>-2.025155</td>\n",
       "      <td>0.335603</td>\n",
       "      <td>Ethereum</td>\n",
       "      <td>2</td>\n",
       "    </tr>\n",
       "    <tr>\n",
       "      <th>LTC</th>\n",
       "      <td>Scrypt</td>\n",
       "      <td>PoW</td>\n",
       "      <td>6.303924e+07</td>\n",
       "      <td>84000000</td>\n",
       "      <td>-0.170976</td>\n",
       "      <td>-1.121520</td>\n",
       "      <td>0.001363</td>\n",
       "      <td>Litecoin</td>\n",
       "      <td>2</td>\n",
       "    </tr>\n",
       "    <tr>\n",
       "      <th>DASH</th>\n",
       "      <td>X11</td>\n",
       "      <td>PoW/PoS</td>\n",
       "      <td>9.031294e+06</td>\n",
       "      <td>22000000</td>\n",
       "      <td>-0.399505</td>\n",
       "      <td>1.286039</td>\n",
       "      <td>-0.448552</td>\n",
       "      <td>Dash</td>\n",
       "      <td>0</td>\n",
       "    </tr>\n",
       "    <tr>\n",
       "      <th>XMR</th>\n",
       "      <td>CryptoNight-V7</td>\n",
       "      <td>PoW</td>\n",
       "      <td>1.720114e+07</td>\n",
       "      <td>0</td>\n",
       "      <td>-0.153819</td>\n",
       "      <td>-2.206019</td>\n",
       "      <td>0.396765</td>\n",
       "      <td>Monero</td>\n",
       "      <td>2</td>\n",
       "    </tr>\n",
       "    <tr>\n",
       "      <th>ETC</th>\n",
       "      <td>Ethash</td>\n",
       "      <td>PoW</td>\n",
       "      <td>1.133597e+08</td>\n",
       "      <td>210000000</td>\n",
       "      <td>-0.154429</td>\n",
       "      <td>-2.025246</td>\n",
       "      <td>0.335603</td>\n",
       "      <td>Ethereum Classic</td>\n",
       "      <td>2</td>\n",
       "    </tr>\n",
       "    <tr>\n",
       "      <th>ZEC</th>\n",
       "      <td>Equihash</td>\n",
       "      <td>PoW</td>\n",
       "      <td>7.383056e+06</td>\n",
       "      <td>21000000</td>\n",
       "      <td>-0.128758</td>\n",
       "      <td>-2.092014</td>\n",
       "      <td>0.348246</td>\n",
       "      <td>ZCash</td>\n",
       "      <td>2</td>\n",
       "    </tr>\n",
       "  </tbody>\n",
       "</table>\n",
       "</div>"
      ],
      "text/plain": [
       "           Algorithm ProofType  TotalCoinsMined TotalCoinSupply      PC 1  \\\n",
       "42            Scrypt   PoW/PoS     4.199995e+01              42 -0.342056   \n",
       "404           Scrypt   PoW/PoS     1.055185e+09       532000000 -0.325417   \n",
       "1337             X13   PoW/PoS     2.927942e+10    314159265359  2.302010   \n",
       "BTC          SHA-256       PoW     1.792718e+07        21000000 -0.139125   \n",
       "ETH           Ethash       PoW     1.076842e+08               0 -0.155984   \n",
       "LTC           Scrypt       PoW     6.303924e+07        84000000 -0.170976   \n",
       "DASH             X11   PoW/PoS     9.031294e+06        22000000 -0.399505   \n",
       "XMR   CryptoNight-V7       PoW     1.720114e+07               0 -0.153819   \n",
       "ETC           Ethash       PoW     1.133597e+08       210000000 -0.154429   \n",
       "ZEC         Equihash       PoW     7.383056e+06        21000000 -0.128758   \n",
       "\n",
       "          PC 2      PC 3          CoinName  Class  \n",
       "42    1.045991 -0.480772           42 Coin      0  \n",
       "404   1.046215 -0.481095           404Coin      0  \n",
       "1337  1.654424 -0.548763         EliteCoin      0  \n",
       "BTC  -1.354779  0.151707           Bitcoin      2  \n",
       "ETH  -2.025155  0.335603          Ethereum      2  \n",
       "LTC  -1.121520  0.001363          Litecoin      2  \n",
       "DASH  1.286039 -0.448552              Dash      0  \n",
       "XMR  -2.206019  0.396765            Monero      2  \n",
       "ETC  -2.025246  0.335603  Ethereum Classic      2  \n",
       "ZEC  -2.092014  0.348246             ZCash      2  "
      ]
     },
     "execution_count": 98,
     "metadata": {},
     "output_type": "execute_result"
    }
   ],
   "source": [
    "# Create a new DataFrame including predicted clusters and cryptocurrencies features.\n",
    "# Concatentate the crypto_df and pcs_df DataFrames on the same columns.\n",
    "clustered_df = pd.concat([crypto_df,pcs_df],axis =1)\n",
    "\n",
    "#  Add a new column, \"CoinName\" to the clustered_df DataFrame that holds the names of the cryptocurrencies. \n",
    "clustered_df['CoinName'] = crypto_names_df['CoinName']\n",
    "\n",
    "#  Add a new column, \"Class\" to the clustered_df DataFrame that holds the predictions.\n",
    "clustered_df['Class'] = model.labels_\n",
    "\n",
    "# Print the shape of the clustered_df\n",
    "print(clustered_df.shape)\n",
    "clustered_df.head(10)"
   ]
  },
  {
   "cell_type": "markdown",
   "metadata": {},
   "source": [
    "### Deliverable 4: Visualizing Cryptocurrencies Results\n",
    "\n",
    "#### 3D-Scatter with Clusters"
   ]
  },
  {
   "cell_type": "code",
   "execution_count": 99,
   "metadata": {},
   "outputs": [
    {
     "data": {
      "application/vnd.plotly.v1+json": {
       "config": {
        "plotlyServerURL": "https://plot.ly"
       },
       "data": [
        {
         "customdata": [
          [
           "Scrypt"
          ],
          [
           "Scrypt"
          ],
          [
           "X13"
          ],
          [
           "X11"
          ],
          [
           "SHA-512"
          ],
          [
           "SHA-256"
          ],
          [
           "SHA-256"
          ],
          [
           "X15"
          ],
          [
           "Scrypt"
          ],
          [
           "Scrypt"
          ],
          [
           "Scrypt"
          ],
          [
           "Scrypt"
          ],
          [
           "Scrypt"
          ],
          [
           "Scrypt"
          ],
          [
           "Groestl"
          ],
          [
           "PoS"
          ],
          [
           "Scrypt"
          ],
          [
           "Scrypt"
          ],
          [
           "X11"
          ],
          [
           "X11"
          ],
          [
           "SHA3"
          ],
          [
           "Scrypt"
          ],
          [
           "SHA-256"
          ],
          [
           "Scrypt"
          ],
          [
           "X13"
          ],
          [
           "X13"
          ],
          [
           "NeoScrypt"
          ],
          [
           "Scrypt"
          ],
          [
           "Scrypt"
          ],
          [
           "Scrypt"
          ],
          [
           "X11"
          ],
          [
           "X11"
          ],
          [
           "Multiple"
          ],
          [
           "PHI1612"
          ],
          [
           "X11"
          ],
          [
           "Scrypt"
          ],
          [
           "Scrypt"
          ],
          [
           "Scrypt"
          ],
          [
           "X11"
          ],
          [
           "Multiple"
          ],
          [
           "X13"
          ],
          [
           "Scrypt"
          ],
          [
           "Shabal256"
          ],
          [
           "Counterparty"
          ],
          [
           "SHA-256"
          ],
          [
           "Groestl"
          ],
          [
           "Scrypt"
          ],
          [
           "X13"
          ],
          [
           "Scrypt"
          ],
          [
           "Scrypt"
          ],
          [
           "X13"
          ],
          [
           "X11"
          ],
          [
           "Scrypt"
          ],
          [
           "X11"
          ],
          [
           "SHA3"
          ],
          [
           "QUAIT"
          ],
          [
           "X11"
          ],
          [
           "Scrypt"
          ],
          [
           "X13"
          ],
          [
           "SHA-256"
          ],
          [
           "X15"
          ],
          [
           "BLAKE256"
          ],
          [
           "SHA-256"
          ],
          [
           "X11"
          ],
          [
           "SHA-256"
          ],
          [
           "NIST5"
          ],
          [
           "Scrypt"
          ],
          [
           "Scrypt"
          ],
          [
           "X11"
          ],
          [
           "Scrypt"
          ],
          [
           "SHA-256"
          ],
          [
           "Scrypt"
          ],
          [
           "PoS"
          ],
          [
           "X11"
          ],
          [
           "SHA-256"
          ],
          [
           "SHA-256"
          ],
          [
           "NIST5"
          ],
          [
           "X11"
          ],
          [
           "POS 3.0"
          ],
          [
           "Scrypt"
          ],
          [
           "Scrypt"
          ],
          [
           "Scrypt"
          ],
          [
           "X13"
          ],
          [
           "X11"
          ],
          [
           "X11"
          ],
          [
           "Scrypt"
          ],
          [
           "SHA-256"
          ],
          [
           "X11"
          ],
          [
           "Scrypt"
          ],
          [
           "Scrypt"
          ],
          [
           "Scrypt"
          ],
          [
           "Scrypt"
          ],
          [
           "SHA-256D"
          ],
          [
           "PoS"
          ],
          [
           "Scrypt"
          ],
          [
           "X11"
          ],
          [
           "PoS"
          ],
          [
           "X13"
          ],
          [
           "X14"
          ],
          [
           "PoS"
          ],
          [
           "SHA-256D"
          ],
          [
           "DPoS"
          ],
          [
           "X11"
          ],
          [
           "X13"
          ],
          [
           "X11"
          ],
          [
           "PoS"
          ],
          [
           "Scrypt"
          ],
          [
           "Scrypt"
          ],
          [
           "PoS"
          ],
          [
           "X11"
          ],
          [
           "SHA-256"
          ],
          [
           "Scrypt"
          ],
          [
           "X11"
          ],
          [
           "Scrypt"
          ],
          [
           "Scrypt"
          ],
          [
           "X11"
          ],
          [
           "Scrypt"
          ],
          [
           "Scrypt"
          ],
          [
           "Scrypt"
          ],
          [
           "Scrypt"
          ],
          [
           "Quark"
          ],
          [
           "QuBit"
          ],
          [
           "Scrypt"
          ],
          [
           "SHA-256"
          ],
          [
           "X11"
          ],
          [
           "Scrypt"
          ],
          [
           "Scrypt"
          ],
          [
           "Scrypt"
          ],
          [
           "Scrypt"
          ],
          [
           "X13"
          ],
          [
           "Scrypt"
          ],
          [
           "Scrypt"
          ],
          [
           "X11"
          ],
          [
           "Blake2S"
          ],
          [
           "X11"
          ],
          [
           "PoS"
          ],
          [
           "X11"
          ],
          [
           "PoS"
          ],
          [
           "X11"
          ],
          [
           "Scrypt"
          ],
          [
           "Scrypt"
          ],
          [
           "Scrypt"
          ],
          [
           "SHA-256"
          ],
          [
           "X11"
          ],
          [
           "Scrypt"
          ],
          [
           "PoS"
          ],
          [
           "Scrypt"
          ],
          [
           "X15"
          ],
          [
           "SHA-256"
          ],
          [
           "POS 3.0"
          ],
          [
           "536"
          ],
          [
           "NIST5"
          ],
          [
           "NIST5"
          ],
          [
           "Skein"
          ],
          [
           "X13"
          ],
          [
           "Scrypt"
          ],
          [
           "X13"
          ],
          [
           "SkunkHash v2 Raptor"
          ],
          [
           "Skein"
          ],
          [
           "X11"
          ],
          [
           "Scrypt"
          ],
          [
           "PoS"
          ],
          [
           "Scrypt"
          ],
          [
           "Scrypt"
          ],
          [
           "SHA-512"
          ],
          [
           "Ouroboros"
          ],
          [
           "X11"
          ],
          [
           "NeoScrypt"
          ],
          [
           "Scrypt"
          ],
          [
           "Lyra2REv2"
          ],
          [
           "Scrypt"
          ],
          [
           "SHA-256"
          ],
          [
           "NIST5"
          ],
          [
           "PHI1612"
          ],
          [
           "Scrypt"
          ],
          [
           "Quark"
          ],
          [
           "POS 2.0"
          ],
          [
           "Scrypt"
          ],
          [
           "SHA-256"
          ],
          [
           "X11"
          ],
          [
           "DPoS"
          ],
          [
           "NIST5"
          ],
          [
           "X13"
          ],
          [
           "Scrypt"
          ],
          [
           "NIST5"
          ],
          [
           "Quark"
          ],
          [
           "Scrypt"
          ],
          [
           "Scrypt"
          ],
          [
           "X11"
          ],
          [
           "Quark"
          ],
          [
           "Scrypt"
          ],
          [
           "Scrypt"
          ],
          [
           "X11"
          ],
          [
           "POS 3.0"
          ],
          [
           "Ethash"
          ],
          [
           "Scrypt"
          ],
          [
           "Scrypt"
          ],
          [
           "X13"
          ],
          [
           "C11"
          ],
          [
           "X11"
          ],
          [
           "XEVAN"
          ],
          [
           "Scrypt"
          ],
          [
           "VBFT"
          ],
          [
           "NIST5"
          ],
          [
           "Scrypt"
          ],
          [
           "Scrypt"
          ],
          [
           "Scrypt"
          ],
          [
           "Green Protocol"
          ],
          [
           "PoS"
          ],
          [
           "Scrypt"
          ],
          [
           "Semux BFT consensus"
          ],
          [
           "Quark"
          ],
          [
           "PoS"
          ],
          [
           "X16R"
          ],
          [
           "Scrypt"
          ],
          [
           "XEVAN"
          ],
          [
           "Scrypt"
          ],
          [
           "Scrypt"
          ],
          [
           "Scrypt"
          ],
          [
           "SHA-256D"
          ],
          [
           "Scrypt"
          ],
          [
           "X15"
          ],
          [
           "Scrypt"
          ],
          [
           "Quark"
          ],
          [
           "SHA-256"
          ],
          [
           "DPoS"
          ],
          [
           "X16R"
          ],
          [
           "Quark"
          ],
          [
           "Quark"
          ],
          [
           "Scrypt"
          ],
          [
           "Lyra2REv2"
          ],
          [
           "Quark"
          ],
          [
           "Scrypt"
          ],
          [
           "X11"
          ],
          [
           "X11"
          ],
          [
           "Scrypt"
          ],
          [
           "PoS"
          ],
          [
           "Keccak"
          ],
          [
           "X11"
          ],
          [
           "Scrypt"
          ],
          [
           "SHA-512"
          ],
          [
           "XEVAN"
          ],
          [
           "XEVAN"
          ],
          [
           "X11"
          ],
          [
           "Quark"
          ],
          [
           "Scrypt"
          ],
          [
           "Quark"
          ],
          [
           "Quark"
          ],
          [
           "Scrypt"
          ],
          [
           "X11"
          ],
          [
           "Scrypt"
          ],
          [
           "XEVAN"
          ],
          [
           "SHA-256D"
          ],
          [
           "X11"
          ],
          [
           "X11"
          ],
          [
           "DPoS"
          ],
          [
           "Scrypt"
          ],
          [
           "X11"
          ],
          [
           "Scrypt"
          ],
          [
           "Scrypt"
          ],
          [
           "SHA-256"
          ],
          [
           "Scrypt"
          ],
          [
           "X11"
          ],
          [
           "Scrypt"
          ],
          [
           "SHA-256"
          ],
          [
           "X11"
          ],
          [
           "Scrypt"
          ],
          [
           "Scrypt"
          ],
          [
           "X11"
          ],
          [
           "Scrypt"
          ],
          [
           "PoS"
          ],
          [
           "X11"
          ],
          [
           "SHA-256"
          ],
          [
           "DPoS"
          ],
          [
           "Scrypt"
          ],
          [
           "Scrypt"
          ],
          [
           "NeoScrypt"
          ],
          [
           "X13"
          ],
          [
           "DPoS"
          ],
          [
           "DPoS"
          ],
          [
           "SHA-256"
          ],
          [
           "Leased POS"
          ],
          [
           "PoS"
          ],
          [
           "PoS"
          ],
          [
           "SHA-256"
          ],
          [
           "Scrypt"
          ],
          [
           "Scrypt"
          ]
         ],
         "hovertemplate": "<b>%{hovertext}</b><br><br>Class=%{marker.color}<br>PC 1=%{x}<br>PC 2=%{y}<br>PC 3=%{z}<br>Algorithm=%{customdata[0]}<extra></extra>",
         "hovertext": [
          "42 Coin",
          "404Coin",
          "EliteCoin",
          "Dash",
          "Bitshares",
          "BitcoinDark",
          "PayCoin",
          "KoboCoin",
          "Aurora Coin",
          "BlueCoin",
          "EnergyCoin",
          "BitBar",
          "CryptoBullion",
          "CasinoCoin",
          "Diamond",
          "Exclusive Coin",
          "FlutterCoin",
          "HoboNickels",
          "HyperStake",
          "IOCoin",
          "MaxCoin",
          "MintCoin",
          "MazaCoin",
          "Nautilus Coin",
          "NavCoin",
          "OpalCoin",
          "Orbitcoin",
          "PotCoin",
          "PhoenixCoin",
          "Reddcoin",
          "SuperCoin",
          "SyncCoin",
          "TeslaCoin",
          "TittieCoin",
          "TorCoin",
          "UnitaryStatus Dollar",
          "UltraCoin",
          "VeriCoin",
          "X11 Coin",
          "Crypti",
          "StealthCoin",
          "ZCC Coin",
          "BurstCoin",
          "StorjCoin",
          "Neutron",
          "FairCoin",
          "RubyCoin",
          "Kore",
          "Dnotes",
          "8BIT Coin",
          "Sativa Coin",
          "Ucoin",
          "Vtorrent",
          "IslaCoin",
          "Nexus",
          "Droidz",
          "Squall Coin",
          "Diggits",
          "Paycon",
          "Emercoin",
          "EverGreenCoin",
          "Decred",
          "EDRCoin",
          "Hitcoin",
          "DubaiCoin",
          "PWR Coin",
          "BillaryCoin",
          "GPU Coin",
          "EuropeCoin",
          "ZeitCoin",
          "SwingCoin",
          "SafeExchangeCoin",
          "Nebuchadnezzar",
          "Ratecoin",
          "Revenu",
          "Clockcoin",
          "VIP Tokens",
          "BitSend",
          "Let it Ride",
          "PutinCoin",
          "iBankCoin",
          "Frankywillcoin",
          "MudraCoin",
          "Lutetium Coin",
          "GoldBlocks",
          "CarterCoin",
          "BitTokens",
          "MustangCoin",
          "ZoneCoin",
          "RootCoin",
          "BitCurrency",
          "Swiscoin",
          "BuzzCoin",
          "Opair",
          "PesoBit",
          "Halloween Coin",
          "CoffeeCoin",
          "RoyalCoin",
          "GanjaCoin V2",
          "TeamUP",
          "LanaCoin",
          "ARK",
          "InsaneCoin",
          "EmberCoin",
          "XenixCoin",
          "FreeCoin",
          "PLNCoin",
          "AquariusCoin",
          "Creatio",
          "Eternity",
          "Eurocoin",
          "BitcoinFast",
          "Stakenet",
          "BitConnect Coin",
          "MoneyCoin",
          "Enigma",
          "Russiacoin",
          "PandaCoin",
          "GameUnits",
          "GAKHcoin",
          "Allsafe",
          "LiteCreed",
          "Klingon Empire Darsek",
          "Internet of People",
          "KushCoin",
          "Printerium",
          "Impeach",
          "Zilbercoin",
          "FirstCoin",
          "FindCoin",
          "OpenChat",
          "RenosCoin",
          "VirtacoinPlus",
          "TajCoin",
          "Impact",
          "Atmos",
          "HappyCoin",
          "MacronCoin",
          "Condensate",
          "Independent Money System",
          "ArgusCoin",
          "LomoCoin",
          "ProCurrency",
          "GoldReserve",
          "GrowthCoin",
          "Phreak",
          "Degas Coin",
          "HTML5 Coin",
          "Ultimate Secure Cash",
          "QTUM",
          "Espers",
          "Denarius",
          "Virta Unique Coin",
          "Bitcoin Planet",
          "BritCoin",
          "Linda",
          "DeepOnion",
          "Signatum",
          "Cream",
          "Monoeci",
          "Draftcoin",
          "Stakecoin",
          "CoinonatX",
          "Ethereum Dark",
          "Obsidian",
          "Cardano",
          "Regalcoin",
          "TrezarCoin",
          "TerraNovaCoin",
          "Rupee",
          "WomenCoin",
          "Theresa May Coin",
          "NamoCoin",
          "LUXCoin",
          "Xios",
          "Bitcloud 2.0",
          "KekCoin",
          "BlackholeCoin",
          "Infinity Economics",
          "Magnet",
          "Lamden Tau",
          "Electra",
          "Bitcoin Diamond",
          "Cash & Back Coin",
          "Bulwark",
          "Kalkulus",
          "GermanCoin",
          "LiteCoin Ultra",
          "PhantomX",
          "Digiwage",
          "Trollcoin",
          "Litecoin Plus",
          "Monkey Project",
          "TokenPay",
          "1717 Masonic Commemorative Token",
          "My Big Coin",
          "Unified Society USDEX",
          "Tokyo Coin",
          "Stipend",
          "Pushi",
          "Ellerium",
          "Velox",
          "Ontology",
          "Bitspace",
          "Briacoin",
          "Ignition",
          "MedicCoin",
          "Bitcoin Green",
          "Deviant Coin",
          "Abjcoin",
          "Semux",
          "Carebit",
          "Zealium",
          "Proton",
          "iDealCash",
          "Bitcoin Incognito",
          "HollyWoodCoin",
          "Swisscoin",
          "Xt3ch",
          "TheVig",
          "EmaratCoin",
          "Dekado",
          "Lynx",
          "Poseidon Quark",
          "BitcoinWSpectrum",
          "Muse",
          "Trivechain",
          "Dystem",
          "Giant",
          "Peony Coin",
          "Absolute Coin",
          "Vitae",
          "TPCash",
          "ARENON",
          "EUNO",
          "MMOCoin",
          "Ketan",
          "XDNA",
          "PAXEX",
          "ThunderStake",
          "Kcash",
          "Bettex coin",
          "BitMoney",
          "Junson Ming Chan Coin",
          "HerbCoin",
          "Oduwa",
          "Galilel",
          "Crypto Sports",
          "Credit",
          "Dash Platinum",
          "Nasdacoin",
          "Beetle Coin",
          "Titan Coin",
          "Award",
          "Insane Coin",
          "ALAX",
          "LiteDoge",
          "TruckCoin",
          "OrangeCoin",
          "BitstarCoin",
          "NeosCoin",
          "HyperCoin",
          "PinkCoin",
          "AudioCoin",
          "IncaKoin",
          "Piggy Coin",
          "Genstake",
          "XiaoMiCoin",
          "CapriCoin",
          " ClubCoin",
          "Radium",
          "Creditbit ",
          "OKCash",
          "Lisk",
          "HiCoin",
          "WhiteCoin",
          "FriendshipCoin",
          "Triangles Coin",
          "EOS",
          "Oxycoin",
          "TigerCash",
          "Waves",
          "Particl",
          "Nxt",
          "ZEPHYR",
          "Gapcoin",
          "BitcoinPlus"
         ],
         "legendgroup": "0",
         "marker": {
          "color": [
           0,
           0,
           0,
           0,
           0,
           0,
           0,
           0,
           0,
           0,
           0,
           0,
           0,
           0,
           0,
           0,
           0,
           0,
           0,
           0,
           0,
           0,
           0,
           0,
           0,
           0,
           0,
           0,
           0,
           0,
           0,
           0,
           0,
           0,
           0,
           0,
           0,
           0,
           0,
           0,
           0,
           0,
           0,
           0,
           0,
           0,
           0,
           0,
           0,
           0,
           0,
           0,
           0,
           0,
           0,
           0,
           0,
           0,
           0,
           0,
           0,
           0,
           0,
           0,
           0,
           0,
           0,
           0,
           0,
           0,
           0,
           0,
           0,
           0,
           0,
           0,
           0,
           0,
           0,
           0,
           0,
           0,
           0,
           0,
           0,
           0,
           0,
           0,
           0,
           0,
           0,
           0,
           0,
           0,
           0,
           0,
           0,
           0,
           0,
           0,
           0,
           0,
           0,
           0,
           0,
           0,
           0,
           0,
           0,
           0,
           0,
           0,
           0,
           0,
           0,
           0,
           0,
           0,
           0,
           0,
           0,
           0,
           0,
           0,
           0,
           0,
           0,
           0,
           0,
           0,
           0,
           0,
           0,
           0,
           0,
           0,
           0,
           0,
           0,
           0,
           0,
           0,
           0,
           0,
           0,
           0,
           0,
           0,
           0,
           0,
           0,
           0,
           0,
           0,
           0,
           0,
           0,
           0,
           0,
           0,
           0,
           0,
           0,
           0,
           0,
           0,
           0,
           0,
           0,
           0,
           0,
           0,
           0,
           0,
           0,
           0,
           0,
           0,
           0,
           0,
           0,
           0,
           0,
           0,
           0,
           0,
           0,
           0,
           0,
           0,
           0,
           0,
           0,
           0,
           0,
           0,
           0,
           0,
           0,
           0,
           0,
           0,
           0,
           0,
           0,
           0,
           0,
           0,
           0,
           0,
           0,
           0,
           0,
           0,
           0,
           0,
           0,
           0,
           0,
           0,
           0,
           0,
           0,
           0,
           0,
           0,
           0,
           0,
           0,
           0,
           0,
           0,
           0,
           0,
           0,
           0,
           0,
           0,
           0,
           0,
           0,
           0,
           0,
           0,
           0,
           0,
           0,
           0,
           0,
           0,
           0,
           0,
           0,
           0,
           0,
           0,
           0,
           0,
           0,
           0,
           0,
           0,
           0,
           0,
           0,
           0,
           0,
           0,
           0,
           0,
           0,
           0,
           0,
           0,
           0,
           0,
           0,
           0,
           0,
           0,
           0,
           0,
           0,
           0,
           0,
           0,
           0
          ],
          "coloraxis": "coloraxis",
          "symbol": "circle"
         },
         "mode": "markers",
         "name": "0",
         "scene": "scene",
         "showlegend": true,
         "type": "scatter3d",
         "x": [
          -0.3420560427433278,
          -0.32541726651373126,
          2.30200955882859,
          -0.399505182640939,
          -0.2811506417591649,
          -0.3090384297090552,
          -0.2515586687301772,
          -0.23722768994186147,
          -0.34171613152869584,
          -0.334302820429006,
          -0.340554473726228,
          -0.3420519866302938,
          -0.34203628984506795,
          0.6493885798248837,
          -0.374427981129357,
          -0.3269244556036742,
          -0.31771692746239216,
          -0.34011786742316236,
          -0.32187396681010605,
          -0.399400009017485,
          -0.4524173864722175,
          -0.02481857987979992,
          -0.27240305791879954,
          -0.2843278165171514,
          -0.2770445139882807,
          -0.2776659532009192,
          -0.35177912144859447,
          -0.3363676115459338,
          -0.34046029102837827,
          0.01564238936152348,
          -0.34173597226206887,
          -0.39977100277432903,
          -0.237656106394814,
          -0.29179797019479253,
          -0.3996828056075769,
          -0.31732737911758524,
          -0.34073561433288424,
          -0.2959011920821464,
          -0.39964730136021054,
          -0.23812272789736713,
          -0.27744708771172244,
          -0.33317555263125304,
          -0.016651730743170418,
          -0.30894550344235605,
          -0.3082513673550057,
          -0.37385023605249745,
          -0.28430801322291077,
          -0.27774131132766283,
          -0.2789713548290049,
          -0.3420381334636463,
          -0.27769354515729044,
          -0.3421803741900332,
          -0.3417729514379515,
          -0.39975255451665853,
          -0.4983417053352011,
          -0.43298973914747935,
          -0.44135153831468976,
          -0.282712066994117,
          -0.27721598977056483,
          -0.30160963492213344,
          -0.23966437158284956,
          -0.08652479191045405,
          -0.3090093796449831,
          -0.07776273215620975,
          -0.3090729332985111,
          -0.23421719580411957,
          -0.34164910385886266,
          -0.2825819266466719,
          -0.3969273284926702,
          0.866872299627256,
          -0.3088734025471696,
          -0.08027238988948239,
          -0.32660822900417324,
          -0.39759862387393596,
          -0.3076194863474596,
          -0.3052922351273407,
          -0.35542617574595714,
          -0.39849006126220554,
          -0.3248558324553634,
          -0.31798544123273254,
          -0.34168716699197005,
          -0.3401284015545615,
          -0.21895859007002208,
          -0.3296900817207015,
          -0.3992273809479687,
          -0.3408926241594059,
          -0.30905396550431047,
          -0.3997417756633829,
          -0.341875969178719,
          -0.3420323736968682,
          -0.2825703252136323,
          -0.25420504758957013,
          0.03168872967078095,
          -0.3255668898262086,
          -0.34164700800139775,
          -0.38592936134027434,
          -0.32489617625873185,
          -0.22038635792688535,
          -0.41500169777911794,
          -0.3246468356945907,
          -0.28238061392023206,
          3.7634457425634453,
          -0.39933496858345924,
          0.8530676687728956,
          -0.3996967458651526,
          -0.3260299364046622,
          -0.3415748607043828,
          -0.3417290145199559,
          -0.32660822900417324,
          -0.3992724805780716,
          -0.3089168029819996,
          -0.34157556571453523,
          -0.38868864990730356,
          -0.3417227469795939,
          -0.337319604103967,
          -0.3997257100504985,
          -0.3409350534616628,
          0.3579720017362192,
          -0.34192169546651824,
          -0.3419921270115908,
          -0.3345398492902917,
          -0.3612033711050176,
          -0.33822624379808613,
          -0.3090304083857386,
          -0.3996357965096194,
          -0.34177030360563476,
          -0.34189711007999957,
          -0.2842149361843219,
          -0.29877763723802014,
          -0.22015456422973909,
          -0.3227796235692249,
          -0.2839562760243901,
          -0.3989029403775826,
          -0.40740981233084067,
          -0.39764292623724834,
          -0.3248574402218055,
          -0.39880095195555715,
          -0.31926584596593083,
          -0.394749121803013,
          -0.34184046289960546,
          -0.3418396938175524,
          -0.3349751776117535,
          0.28004074177951344,
          -0.3992785143290877,
          -0.26688903766456656,
          -0.3266425348442062,
          -0.3410525809492122,
          0.8928206706924727,
          -0.25025171441733374,
          -0.32363605461514133,
          0.5872464202977367,
          -0.35695949220772716,
          -0.3554641683327609,
          -0.411664084991266,
          -0.2773791370558263,
          0.12204533782636046,
          -0.27744976179905034,
          -0.32785080885706314,
          -0.41116958314979735,
          -0.3995503966978108,
          -0.28428884328768533,
          -0.32650914550097776,
          -0.3414762566775867,
          -0.3419750825890006,
          -0.3391239265794441,
          0.686601409794117,
          -0.39949139222911945,
          -0.34678669339308105,
          -0.341930815063748,
          -0.29010414262394657,
          0.42609884235487844,
          -0.3073791521873782,
          -0.34175162054263136,
          -0.38475550232920136,
          -0.3418812437344897,
          -0.39040095479757625,
          -0.3205145177755866,
          -0.34175176984707206,
          -0.07830568649906175,
          -0.3982861719633782,
          3.768293716671772,
          0.2016784452282267,
          -0.27412576642507824,
          -0.3392162401036007,
          -0.29930708051127236,
          -0.33442592130629556,
          0.0716106433153362,
          -0.3408920981445385,
          -0.3988660857851887,
          -0.33359223191289206,
          -0.3284772993591695,
          -0.34199718561590003,
          -0.34215234381477966,
          -0.3251373541397063,
          -0.26956723645621933,
          -0.3021801500040804,
          -0.33754918496397013,
          -0.211964711276352,
          -0.36455474143530364,
          -0.3995677040045065,
          -0.3825346766495493,
          -0.28345044164309235,
          -0.30137991852644114,
          -0.3565591647231068,
          -0.3420245010768461,
          -0.34200624549835323,
          -0.27784085244170753,
          -0.31964126829075573,
          -0.3261042475113246,
          -0.3417232421196376,
          3.9448527338959005,
          -0.38907063220941485,
          -0.32629263976670797,
          -0.30132412920268026,
          -0.2886863961898436,
          -0.4242671806356762,
          -0.2839834779693023,
          -0.1454365597191164,
          -0.2842353207006373,
          -0.34757493849832277,
          -0.3411982155952712,
          -0.1815929382026307,
          2.2182893759442393,
          -0.330142564748536,
          -0.2503787447983512,
          1.0523472059948038,
          -0.3580780411151785,
          -0.33453931802671605,
          -0.3920819698741485,
          -0.165204959596178,
          -0.34744900609289486,
          -0.3332608618709768,
          -0.334915343106148,
          -0.34173045765894017,
          -0.39904182729563437,
          -0.2814853725391306,
          -0.3253942502892868,
          -0.3444871092206362,
          -0.34159224908823116,
          -0.20177707763807215,
          -0.38000159879810447,
          -0.3251113880182538,
          0.3364659999135065,
          -0.13236513997855998,
          -0.3913777351411153,
          -0.34172716292801325,
          -0.39183310097532453,
          -0.33465610882827335,
          0.5632610614970561,
          -0.34220658454773617,
          -0.34121106163743226,
          -0.3769995212749911,
          -0.30237706067649145,
          -0.39661147048281153,
          -0.39926867519499376,
          3.7805175724227555,
          0.09247650858258748,
          -0.39681121869811037,
          -0.34059793144666034,
          -0.34142112651313916,
          -0.2515913033438002,
          -0.341938526974633,
          -0.39090940532628154,
          -0.2558044500202641,
          -0.0889712619540388,
          -0.3866657050671165,
          -0.34121782278402824,
          -0.3342928074145888,
          -0.39584249504039054,
          -0.3396597227647649,
          -0.32688345899611265,
          -0.38680620123816367,
          -0.3075557788823605,
          3.7638368842689003,
          -0.0918100136403054,
          -0.3368587290992209,
          -0.3514057441170234,
          -0.2778483192341917,
          3.773693484489007,
          3.774936073692889,
          -0.23251704624670472,
          -0.35237533793145814,
          -0.3268194032508213,
          -0.325241704181842,
          2.496003252983702,
          -0.3401051688024697,
          -0.2846310684256542
         ],
         "y": [
          1.045991328387052,
          1.0462153562346033,
          1.654423747488611,
          1.2860386901162293,
          1.6130782636697785,
          0.8127145065786743,
          0.5668906162141073,
          1.865785836499184,
          1.0459917984528104,
          1.0462682517919157,
          1.0460449602540025,
          1.0459911252980678,
          1.0459913379520445,
          0.5118171275626779,
          0.9231342764970165,
          1.491246939219166,
          0.409080727324211,
          1.045977036717922,
          1.040943253032429,
          1.2860424466233502,
          2.1721782356972192,
          0.8094386434586398,
          0.8123546103571004,
          0.8001584397057031,
          1.7809564870294579,
          1.7809342909621273,
          0.5537980410670275,
          1.0459021906246897,
          1.0459801179193853,
          1.0587673140982377,
          1.0402338378533464,
          1.2860445066830721,
          0.08375512718790724,
          1.5244540423060193,
          1.2860406977105618,
          1.0457609951243292,
          1.0459688921776065,
          0.3735620581764955,
          1.2860450977436584,
          0.08380805901686783,
          1.7809421082241146,
          1.0456125322238785,
          0.9710797907070031,
          1.4794182424246145,
          0.8127106030494287,
          0.9231579603352306,
          0.8001704080193571,
          1.7809232475920218,
          0.8000130272957283,
          1.04599196808557,
          1.7809263456306115,
          1.040204045413445,
          1.0459875199961557,
          1.286045166299124,
          2.5669966584756856,
          1.945004931671978,
          1.0888502517331586,
          0.8001578125051184,
          1.7809155632742577,
          0.8122991715102055,
          1.8659240959585468,
          0.9148780582952734,
          0.8127155441655614,
          1.2790674073814767,
          0.8127212780049148,
          1.5248044276373043,
          1.0459766318715147,
          0.8000782102504949,
          1.2858788182087133,
          0.7723850839638655,
          0.812707873203001,
          0.5121003680664221,
          1.4912443142988958,
          1.2860698999849896,
          0.8126254861892472,
          0.8124982309970945,
          1.5204125440981635,
          1.2859935174648294,
          1.4774576546173857,
          1.045459098023528,
          1.0459736484043214,
          1.0459905801165668,
          1.535008438790595,
          1.0402068228628107,
          1.286029124906648,
          1.0459702440507133,
          0.812714647666016,
          1.2860434633423143,
          1.0459831445087089,
          1.0459921738082998,
          0.8002324733658439,
          0.3349423868944661,
          1.94756323760775,
          1.4912439249659666,
          1.046005937991102,
          1.2854949184026259,
          1.4912915444482806,
          1.5350948993641884,
          2.0414410414171122,
          1.491118798713235,
          1.9450411650071746,
          1.7578845349268184,
          1.2860392018260827,
          1.8207293424384288,
          1.2860444777800975,
          1.491244089817656,
          1.045981691728111,
          1.0459737776866196,
          1.4912443142988958,
          1.286020554250085,
          0.8127202427093827,
          1.0459855222897032,
          0.8744269509638789,
          1.0459837452994099,
          1.045707652930488,
          1.286042645196159,
          1.0459311455445166,
          0.8004810400225998,
          1.045987079153159,
          1.045991303576286,
          1.4451514960192235,
          0.5801496683462877,
          1.045780126895545,
          0.8127154890602818,
          1.2860428263484562,
          1.0459876145693068,
          1.0459817398315987,
          0.8001354534375359,
          0.31362569280279856,
          1.5350948093866634,
          1.0459838456793653,
          0.8001590109014591,
          1.28600591389395,
          1.9053652447955858,
          1.2860439582441856,
          1.491244007295154,
          1.2860095566346017,
          1.4912420903290924,
          1.2858758836879338,
          1.04598426506102,
          1.0459791506966076,
          1.0455482546623347,
          0.5336878762062228,
          1.286034258389707,
          0.7994006001862214,
          1.4912361291662681,
          1.0459540911061735,
          1.843753173905339,
          0.5668067416553845,
          1.477454938833278,
          1.8491215483658936,
          1.5204134569238836,
          1.5203903076369711,
          1.9205800562100077,
          1.7809236557586865,
          1.0277686085120508,
          1.7809288599069477,
          1.4621471419933116,
          1.9205977184301328,
          1.2860457699165122,
          0.8001589785215361,
          1.4912189004398806,
          1.0459784542064332,
          1.0459912969599932,
          1.6134499490380687,
          1.4265205277303747,
          1.2860357027590217,
          0.5537005874954932,
          1.0459848510749976,
          0.6185869305378408,
          1.0560281080762615,
          0.8127194846938861,
          1.5201284204116319,
          1.7705763785403998,
          1.0459829561163565,
          1.690911055307735,
          1.4646788643406632,
          1.045991903811491,
          0.5668235853091439,
          1.2859973199071872,
          1.7577966975717392,
          1.5194939260533171,
          1.7809145802065853,
          1.0459466019019583,
          1.274576791217539,
          1.4451520852954969,
          1.0259672225480279,
          1.0459285038935882,
          1.2860420293574715,
          1.44511226410303,
          1.0458499389072062,
          1.0459906466982904,
          1.0402043505974896,
          1.4774535153022048,
          -0.1035333058783387,
          0.4101728787234414,
          1.0459908328271315,
          1.5348406510944161,
          0.9066522087681341,
          1.2860343690810698,
          1.6087658999274967,
          0.8001147362537082,
          1.4998879184361469,
          1.5203999162032684,
          1.045990367048982,
          1.045989627122261,
          0.8000534056732028,
          1.4557104104152108,
          1.4912149883013825,
          1.0459823356495646,
          1.7463403418492336,
          1.690958570702865,
          1.4912138273172382,
          0.5914601976442703,
          1.044332754663387,
          1.4115933597087378,
          0.8001639039664395,
          1.04591500476575,
          0.8001423811662987,
          1.9478670521811299,
          1.0459635050754175,
          1.6200703911694738,
          0.34885419899422787,
          1.444866605867801,
          0.5668716788392825,
          1.5943000452802216,
          0.8372904933882281,
          1.445147339099979,
          1.6909866256371884,
          0.7926762521883981,
          0.864402415397578,
          1.4451380193606906,
          1.0455503917832114,
          1.0401957557866903,
          1.286035752363167,
          0.8000902694073032,
          1.4911554375580245,
          0.9069015725139594,
          1.0401693730008827,
          1.0384740165011155,
          1.9605623490117083,
          1.362940340520123,
          1.4769208600123427,
          1.0477119773009604,
          1.6909777808835125,
          1.0459884594510112,
          1.6909858508217577,
          1.445148478005636,
          1.0262672339306036,
          1.0402033180476367,
          1.0459630462507876,
          1.6086573679047071,
          1.9460710798935053,
          1.2858650444048132,
          1.2860415696401566,
          1.7578853082389718,
          1.0371522290123345,
          1.2861502225725956,
          1.0459042115829946,
          1.0459762445401841,
          0.5668835347466267,
          1.0459955257502485,
          1.2860130276011477,
          1.0417641782634155,
          0.8204577641112215,
          1.285816609475543,
          1.046010827548214,
          1.0459902164627184,
          1.2860400583248452,
          1.0459655610647431,
          1.4912421396613753,
          0.8988894412964249,
          0.8127096961711947,
          1.757874202820151,
          0.8000799235655899,
          1.0459681671716596,
          0.5537721249419035,
          1.7809276938405405,
          1.7583375533549082,
          1.7583819351593908,
          0.5668834469775154,
          2.9119305976940066,
          1.491244682185232,
          1.5990192474436329,
          0.7304686239364084,
          1.045887012563115,
          0.8001581734103389
         ],
         "z": [
          -0.4807720037054299,
          -0.4810953951146536,
          -0.5487628404455863,
          -0.44855194590442954,
          -0.15047612855153608,
          -0.33044226955548905,
          -0.1289641334244174,
          -0.5078358526741007,
          -0.48077751123120754,
          -0.48096886821050566,
          -0.4808101305226818,
          -0.480772013574549,
          -0.48077231900780104,
          -0.29203612695898445,
          -0.3131329620608271,
          -0.22313100655541618,
          -0.393999390488214,
          -0.4807988656324802,
          -0.2475878098964633,
          -0.4485546164008586,
          -0.46925690390382996,
          -0.2858876873396919,
          -0.33092599332818295,
          -0.27929539334903347,
          -0.5417917835603138,
          -0.5417760044025375,
          -0.30443743151711616,
          -0.4808382123104678,
          -0.4807942687119914,
          -0.4898544366875562,
          -0.24708348749227732,
          -0.44854929386044023,
          0.032537335415788626,
          -0.32536354512542853,
          -0.44854967091379094,
          -0.4811018849913857,
          -0.4807869053767334,
          -0.37411646770851087,
          -0.4485514105719229,
          0.032530557800531365,
          -0.5417815616847551,
          -0.48081123353994415,
          -0.22816350294939708,
          -0.29793837108579474,
          -0.3304536862582462,
          -0.31314844757487403,
          -0.2792989098267165,
          -0.5417718558709627,
          -0.27934128585201534,
          -0.4807724584533844,
          -0.5417734412317231,
          -0.2470684783940624,
          -0.48077546662368453,
          -0.4485497624721887,
          -0.23740522757488985,
          -0.47241629952069303,
          -0.07243261273299072,
          -0.2793208072494568,
          -0.5417781166909716,
          -0.3304487365958616,
          -0.5078342740459555,
          -0.29441815481742833,
          -0.33044300717476865,
          -0.4517803708414183,
          -0.33044353542506266,
          -0.4811637902558166,
          -0.48077451361180323,
          -0.279301564725561,
          -0.4485499757989576,
          -0.2900893993085229,
          -0.3304431071772196,
          -0.2805593909622009,
          -0.223135310814485,
          -0.4485904842890388,
          -0.330440911858247,
          -0.33044370284331964,
          -0.47806937189206455,
          -0.4485559290442331,
          -0.22846044398406853,
          -0.4810106729378391,
          -0.4807731125381376,
          -0.48080232330665773,
          -0.34029001776022416,
          -0.24726697730893918,
          -0.4485537844448122,
          -0.4807847812658337,
          -0.3304420613387241,
          -0.44854947738898865,
          -0.48077266461046775,
          -0.48077260470142763,
          -0.2793430320074642,
          -0.3441291948549894,
          -0.6444020576425553,
          -0.22315169387991207,
          -0.4807823896425554,
          -0.4486213652809602,
          -0.22317505695160522,
          -0.34029055068847114,
          -0.6899351547342658,
          -0.2231327748146059,
          -0.6387545254865299,
          -0.4278413477043959,
          -0.4485547778030559,
          -0.570328497254845,
          -0.4485504618162099,
          -0.22314440669867344,
          -0.4807770431938851,
          -0.48077248457516736,
          -0.223135310814485,
          -0.448550776731168,
          -0.3304457303327883,
          -0.48077805715919286,
          -0.27577821490204046,
          -0.48077525132097493,
          -0.48077107784978595,
          -0.44854951280103894,
          -0.4807736460261808,
          -0.28955109644660953,
          -0.4807729936198094,
          -0.4807730090271199,
          -0.2790639332130374,
          -0.23916474557375492,
          -0.480776118598116,
          -0.33044265948490337,
          -0.44855098485885975,
          -0.48077553385562477,
          -0.48077195397496597,
          -0.2792910290135445,
          -0.22931029615616372,
          -0.34029419653942417,
          -0.4810751998323204,
          -0.2793014287173322,
          -0.44855270954297644,
          -0.6340380293645826,
          -0.44858284038203455,
          -0.22316294844757062,
          -0.44855529916295783,
          -0.2232509657203752,
          -0.448583677459824,
          -0.4807735266524037,
          -0.4807721701326786,
          -0.48076553869815225,
          -0.12849515781849377,
          -0.44855434867591426,
          -0.2793686855324642,
          -0.22313257716934634,
          -0.4807779258906545,
          -0.5198312815776475,
          -0.12896237975044597,
          -0.22847902962297656,
          -0.6212335885626923,
          -0.478045339571755,
          -0.47806281948597484,
          -0.5966609921781119,
          -0.541777699316738,
          -0.4832432732712045,
          -0.5417779738573547,
          -0.1616460416963161,
          -0.5966735482293207,
          -0.448553124724371,
          -0.27929615459910945,
          -0.22313007837009546,
          -0.48077773794697687,
          -0.4807732771164816,
          -0.1496577220257857,
          -0.09311828147530146,
          -0.448551364773695,
          -0.30449039502077396,
          -0.4807722529575406,
          -0.11078416051746971,
          -0.4956200280908733,
          -0.3304698727075017,
          -0.4782098410048593,
          -0.5263598402543945,
          -0.4807725306825694,
          -0.48055048094457536,
          -0.07362712885029737,
          -0.48077697517467854,
          -0.13168926507955012,
          -0.4485601747739064,
          -0.427894597578926,
          -0.48664402865177936,
          -0.5418267803233864,
          -0.48080499596103593,
          -0.27656651806302845,
          -0.279065894706776,
          -0.48196267013917393,
          -0.4807736191732151,
          -0.4485629582035021,
          -0.27906843742735593,
          -0.48094915410901684,
          -0.48077275314309575,
          -0.24706900386462352,
          -0.22845487896734992,
          0.05496331847477387,
          -0.2166104005223814,
          -0.48084322701588794,
          -0.34035584703993865,
          -0.4253294625268422,
          -0.44854979963245484,
          -0.17874971090063405,
          -0.2792975887678443,
          -0.3439737540330878,
          -0.4780480541131419,
          -0.480772245825148,
          -0.4807723368433009,
          -0.27936999079237396,
          -0.310271853065582,
          -0.22313544205782218,
          -0.48077486623375787,
          -0.3733523706467479,
          -0.48058425958226797,
          -0.22313214859087682,
          -0.05414949372584862,
          -0.4811731274030687,
          0.19736356504976063,
          -0.2793023075085422,
          -0.4838646043168729,
          -0.2792925602561882,
          -0.638478578862703,
          -0.4807781394428113,
          -0.30635752683414375,
          -0.2800005611124602,
          -0.2790573125426436,
          -0.12897774687551813,
          -0.31986733954050967,
          -0.2556408362356635,
          -0.2790628291576344,
          -0.48054408984782737,
          -0.27917906651238755,
          -0.31226218298135733,
          -0.2790805764975336,
          -0.48076705797483316,
          -0.24707338335386897,
          -0.4485584958957419,
          -0.2793221534358768,
          -0.2231307464071506,
          -0.35542531284094137,
          -0.24706851106437566,
          -0.48098123622464517,
          -0.008974400293706317,
          0.02272976600877038,
          0.6301573903394746,
          -0.2523996879010954,
          -0.4805528728009435,
          -0.4807764429966079,
          -0.4805478227710908,
          -0.27906128483037157,
          -0.4898271344507897,
          -0.24706786875590112,
          -0.48077781326492947,
          -0.17880830247379434,
          -0.6387135506870504,
          -0.44855129057936394,
          -0.44855646107925545,
          -0.42811184859041984,
          -0.4852863440691386,
          -0.44862444685162434,
          -0.4807717755779961,
          -0.4807780194621801,
          -0.1289617216001329,
          -0.4807749875929586,
          -0.44868117290405896,
          -0.4810063413863477,
          -0.3359987727132437,
          -0.4486957972868804,
          -0.48079049335668805,
          -0.480894619461915,
          -0.44861030246163497,
          -0.4808030482278432,
          -0.22313037119580098,
          -0.26964681327256745,
          -0.3304644566363411,
          -0.42784477549279787,
          -0.2823224663457809,
          -0.4808480930884338,
          -0.3044364074815503,
          -0.5417713515385448,
          -0.42812483351581054,
          -0.42815638448765125,
          -0.12926369596564624,
          0.5282040544037271,
          -0.2231320657994637,
          -0.22394259020416374,
          -0.23751372239736726,
          -0.4807749745946796,
          -0.279290520773354
         ]
        },
        {
         "customdata": [
          [
           "SHA-256"
          ],
          [
           "Ethash"
          ],
          [
           "Scrypt"
          ],
          [
           "CryptoNight-V7"
          ],
          [
           "Ethash"
          ],
          [
           "Equihash"
          ],
          [
           "Multiple"
          ],
          [
           "Scrypt"
          ],
          [
           "X11"
          ],
          [
           "Scrypt"
          ],
          [
           "Multiple"
          ],
          [
           "Scrypt"
          ],
          [
           "SHA-256"
          ],
          [
           "Scrypt"
          ],
          [
           "Scrypt"
          ],
          [
           "Quark"
          ],
          [
           "Groestl"
          ],
          [
           "Scrypt"
          ],
          [
           "Scrypt"
          ],
          [
           "Scrypt"
          ],
          [
           "X11"
          ],
          [
           "Multiple"
          ],
          [
           "SHA-256"
          ],
          [
           "Scrypt"
          ],
          [
           "Scrypt"
          ],
          [
           "Scrypt"
          ],
          [
           "Scrypt"
          ],
          [
           "Scrypt"
          ],
          [
           "NeoScrypt"
          ],
          [
           "Scrypt"
          ],
          [
           "Scrypt"
          ],
          [
           "Scrypt"
          ],
          [
           "Scrypt"
          ],
          [
           "SHA-256"
          ],
          [
           "Scrypt"
          ],
          [
           "Scrypt"
          ],
          [
           "Scrypt"
          ],
          [
           "Scrypt"
          ],
          [
           "HybridScryptHash256"
          ],
          [
           "Scrypt"
          ],
          [
           "Scrypt"
          ],
          [
           "SHA-256"
          ],
          [
           "Scrypt"
          ],
          [
           "Scrypt"
          ],
          [
           "Scrypt"
          ],
          [
           "Scrypt"
          ],
          [
           "SHA-256"
          ],
          [
           "SHA-256"
          ],
          [
           "SHA-256"
          ],
          [
           "SHA-256"
          ],
          [
           "SHA-256"
          ],
          [
           "X11"
          ],
          [
           "Scrypt"
          ],
          [
           "Lyra2REv2"
          ],
          [
           "Scrypt"
          ],
          [
           "SHA-256"
          ],
          [
           "CryptoNight"
          ],
          [
           "CryptoNight"
          ],
          [
           "Scrypt"
          ],
          [
           "Scrypt"
          ],
          [
           "Scrypt"
          ],
          [
           "Scrypt"
          ],
          [
           "Scrypt"
          ],
          [
           "Scrypt"
          ],
          [
           "Stanford Folding"
          ],
          [
           "Multiple"
          ],
          [
           "QuBit"
          ],
          [
           "Scrypt"
          ],
          [
           "Scrypt"
          ],
          [
           "M7 POW"
          ],
          [
           "Scrypt"
          ],
          [
           "SHA-256"
          ],
          [
           "Scrypt"
          ],
          [
           "X11"
          ],
          [
           "Lyra2RE"
          ],
          [
           "SHA-256"
          ],
          [
           "X11"
          ],
          [
           "Scrypt"
          ],
          [
           "Scrypt"
          ],
          [
           "Ethash"
          ],
          [
           "Blake2b"
          ],
          [
           "X11"
          ],
          [
           "SHA-256"
          ],
          [
           "Scrypt"
          ],
          [
           "1GB AES Pattern Search"
          ],
          [
           "Scrypt"
          ],
          [
           "SHA-256"
          ],
          [
           "X11"
          ],
          [
           "Dagger"
          ],
          [
           "Scrypt"
          ],
          [
           "X11GOST"
          ],
          [
           "Scrypt"
          ],
          [
           "X11"
          ],
          [
           "Scrypt"
          ],
          [
           "X11"
          ],
          [
           "Equihash"
          ],
          [
           "CryptoNight"
          ],
          [
           "SHA-256"
          ],
          [
           "Multiple"
          ],
          [
           "Scrypt"
          ],
          [
           "SHA-256"
          ],
          [
           "Scrypt"
          ],
          [
           "Lyra2Z"
          ],
          [
           "Ethash"
          ],
          [
           "Equihash"
          ],
          [
           "Scrypt"
          ],
          [
           "X11"
          ],
          [
           "X11"
          ],
          [
           "CryptoNight"
          ],
          [
           "Scrypt"
          ],
          [
           "CryptoNight"
          ],
          [
           "Lyra2RE"
          ],
          [
           "X11"
          ],
          [
           "CryptoNight-V7"
          ],
          [
           "Scrypt"
          ],
          [
           "X11"
          ],
          [
           "Equihash"
          ],
          [
           "Scrypt"
          ],
          [
           "Lyra2RE"
          ],
          [
           "Dagger-Hashimoto"
          ],
          [
           "Scrypt"
          ],
          [
           "NIST5"
          ],
          [
           "Scrypt"
          ],
          [
           "SHA-256"
          ],
          [
           "Scrypt"
          ],
          [
           "CryptoNight-V7"
          ],
          [
           "Argon2d"
          ],
          [
           "Blake2b"
          ],
          [
           "Cloverhash"
          ],
          [
           "CryptoNight"
          ],
          [
           "X11"
          ],
          [
           "Scrypt"
          ],
          [
           "Scrypt"
          ],
          [
           "X11"
          ],
          [
           "X11"
          ],
          [
           "CryptoNight"
          ],
          [
           "Time Travel"
          ],
          [
           "Scrypt"
          ],
          [
           "Keccak"
          ],
          [
           "X11"
          ],
          [
           "SHA-256"
          ],
          [
           "Scrypt"
          ],
          [
           "Scrypt"
          ],
          [
           "Scrypt"
          ],
          [
           "Scrypt"
          ],
          [
           "Scrypt"
          ],
          [
           "Scrypt"
          ],
          [
           "CryptoNight"
          ],
          [
           "Equihash"
          ],
          [
           "X11"
          ],
          [
           "NeoScrypt"
          ],
          [
           "Equihash"
          ],
          [
           "Dagger"
          ],
          [
           "Scrypt"
          ],
          [
           "X11"
          ],
          [
           "NeoScrypt"
          ],
          [
           "Ethash"
          ],
          [
           "NeoScrypt"
          ],
          [
           "Multiple"
          ],
          [
           "CryptoNight"
          ],
          [
           "CryptoNight"
          ],
          [
           "Ethash"
          ],
          [
           "X11"
          ],
          [
           "CryptoNight-V7"
          ],
          [
           "Scrypt"
          ],
          [
           "BLAKE256"
          ],
          [
           "X11"
          ],
          [
           "NeoScrypt"
          ],
          [
           "NeoScrypt"
          ],
          [
           "Scrypt"
          ],
          [
           "X11"
          ],
          [
           "SHA-256"
          ],
          [
           "C11"
          ],
          [
           "CryptoNight"
          ],
          [
           "SkunkHash"
          ],
          [
           "CryptoNight"
          ],
          [
           "Scrypt"
          ],
          [
           "Dagger"
          ],
          [
           "Lyra2REv2"
          ],
          [
           "Scrypt"
          ],
          [
           "Scrypt"
          ],
          [
           "X11"
          ],
          [
           "Ethash"
          ],
          [
           "CryptoNight"
          ],
          [
           "Scrypt"
          ],
          [
           "IMesh"
          ],
          [
           "Equihash"
          ],
          [
           "Lyra2Z"
          ],
          [
           "X11"
          ],
          [
           "CryptoNight"
          ],
          [
           "NIST5"
          ],
          [
           "Lyra2RE"
          ],
          [
           "Tribus"
          ],
          [
           "Lyra2Z"
          ],
          [
           "CryptoNight"
          ],
          [
           "CryptoNight Heavy"
          ],
          [
           "CryptoNight"
          ],
          [
           "Jump Consistent Hash"
          ],
          [
           "CryptoNight"
          ],
          [
           "X16R"
          ],
          [
           "HMQ1725"
          ],
          [
           "X11"
          ],
          [
           "Scrypt"
          ],
          [
           "CryptoNight-V7"
          ],
          [
           "Cryptonight-GPU"
          ],
          [
           "XEVAN"
          ],
          [
           "CryptoNight Heavy"
          ],
          [
           "SHA-256"
          ],
          [
           "X11"
          ],
          [
           "X16R"
          ],
          [
           "Equihash"
          ],
          [
           "Lyra2Z"
          ],
          [
           "SHA-256"
          ],
          [
           "CryptoNight"
          ],
          [
           "Blake"
          ],
          [
           "Blake"
          ],
          [
           "Equihash"
          ],
          [
           "Exosis"
          ],
          [
           "Scrypt"
          ],
          [
           "Equihash"
          ],
          [
           "Equihash"
          ],
          [
           "QuBit"
          ],
          [
           "SHA-256"
          ],
          [
           "X13"
          ],
          [
           "SHA-256"
          ],
          [
           "Scrypt"
          ],
          [
           "NeoScrypt"
          ],
          [
           "Blake"
          ],
          [
           "Scrypt"
          ],
          [
           "SHA-256"
          ],
          [
           "Scrypt"
          ],
          [
           "Groestl"
          ],
          [
           "Scrypt"
          ],
          [
           "Scrypt"
          ],
          [
           "Multiple"
          ],
          [
           "Equihash+Scrypt"
          ],
          [
           "Ethash"
          ],
          [
           "CryptoNight"
          ],
          [
           "Equihash"
          ]
         ],
         "hovertemplate": "<b>%{hovertext}</b><br><br>Class=%{marker.color}<br>PC 1=%{x}<br>PC 2=%{y}<br>PC 3=%{z}<br>Algorithm=%{customdata[0]}<extra></extra>",
         "hovertext": [
          "Bitcoin",
          "Ethereum",
          "Litecoin",
          "Monero",
          "Ethereum Classic",
          "ZCash",
          "DigiByte",
          "ProsperCoin",
          "Spreadcoin",
          "Argentum",
          "MyriadCoin",
          "MoonCoin",
          "ZetaCoin",
          "SexCoin",
          "Quatloo",
          "QuarkCoin",
          "Riecoin",
          "Digitalcoin ",
          "Catcoin",
          "CannaCoin",
          "CryptCoin",
          "Verge",
          "DevCoin",
          "EarthCoin",
          "E-Gulden",
          "Einsteinium",
          "Emerald",
          "Franko",
          "FeatherCoin",
          "GrandCoin",
          "GlobalCoin",
          "GoldCoin",
          "Infinite Coin",
          "IXcoin",
          "KrugerCoin",
          "LuckyCoin",
          "Litebar ",
          "MegaCoin",
          "MediterraneanCoin",
          "MinCoin",
          "NobleCoin",
          "Namecoin",
          "NyanCoin",
          "RonPaulCoin",
          "StableCoin",
          "SmartCoin",
          "SysCoin",
          "TigerCoin",
          "TerraCoin",
          "UnbreakableCoin",
          "Unobtanium",
          "UroCoin",
          "ViaCoin",
          "Vertcoin",
          "WorldCoin",
          "JouleCoin",
          "ByteCoin",
          "DigitalNote ",
          "MonaCoin",
          "Gulden",
          "PesetaCoin",
          "Wild Beast Coin",
          "Flo",
          "ArtByte",
          "Folding Coin",
          "Unitus",
          "CypherPunkCoin",
          "OmniCron",
          "GreenCoin",
          "Cryptonite",
          "MasterCoin",
          "SoonCoin",
          "1Credit",
          "MarsCoin ",
          "Crypto",
          "Anarchists Prime",
          "BowsCoin",
          "Song Coin",
          "BitZeny",
          "Expanse",
          "Siacoin",
          "MindCoin",
          "I0coin",
          "Revolution VR",
          "HOdlcoin",
          "Gamecredits",
          "CarpeDiemCoin",
          "Adzcoin",
          "SoilCoin",
          "YoCoin",
          "SibCoin",
          "Francs",
          "BolivarCoin",
          "Omni",
          "PizzaCoin",
          "Komodo",
          "Karbo",
          "ZayedCoin",
          "Circuits of Value",
          "DopeCoin",
          "DollarCoin",
          "Shilling",
          "ZCoin",
          "Elementrem",
          "ZClassic",
          "KiloCoin",
          "ArtexCoin",
          "Kurrent",
          "Cannabis Industry Coin",
          "OsmiumCoin",
          "Bikercoins",
          "HexxCoin",
          "PacCoin",
          "Citadel",
          "BeaverCoin",
          "VaultCoin",
          "Zero",
          "Canada eCoin",
          "Zoin",
          "DubaiCoin",
          "EB3coin",
          "Coinonat",
          "BenjiRolls",
          "ILCoin",
          "EquiTrader",
          "Quantum Resistant Ledger",
          "Dynamic",
          "Nano",
          "ChanCoin",
          "Dinastycoin",
          "DigitalPrice",
          "Unify",
          "SocialCoin",
          "ArcticCoin",
          "DAS",
          "LeviarCoin",
          "Bitcore",
          "gCn Coin",
          "SmartCash",
          "Onix",
          "Bitcoin Cash",
          "Sojourn Coin",
          "NewYorkCoin",
          "FrazCoin",
          "Kronecoin",
          "AdCoin",
          "Linx",
          "Sumokoin",
          "BitcoinZ",
          "Elements",
          "VIVO Coin",
          "Bitcoin Gold",
          "Pirl",
          "eBoost",
          "Pura",
          "Innova",
          "Ellaism",
          "GoByte",
          "SHIELD",
          "UltraNote",
          "BitCoal",
          "DaxxCoin",
          "AC3",
          "Lethean",
          "PopularCoin",
          "Photon",
          "Sucre",
          "SparksPay",
          "GunCoin",
          "IrishCoin",
          "Pioneer Coin",
          "UnitedBitcoin",
          "Interzone",
          "TurtleCoin",
          "MUNcoin",
          "Niobio Cash",
          "ShareChain",
          "Travelflex",
          "KREDS",
          "BitFlip",
          "LottoCoin",
          "Crypto Improvement Fund",
          "Callisto Network",
          "BitTube",
          "Poseidon",
          "Aidos Kuneen",
          "Bitrolium",
          "Alpenschillling",
          "FuturoCoin",
          "Monero Classic",
          "Jumpcoin",
          "Infinex",
          "KEYCO",
          "GINcoin",
          "PlatinCoin",
          "Loki",
          "Newton Coin",
          "MassGrid",
          "PluraCoin",
          "Motion",
          "PlusOneCoin",
          "Axe",
          "HexCoin",
          "Webchain",
          "Ryo",
          "Urals Coin",
          "Qwertycoin",
          "Project Pai",
          "Azart",
          "Xchange",
          "CrypticCoin",
          "Actinium",
          "Bitcoin SV",
          "FREDEnergy",
          "Universal Molecule",
          "Lithium",
          "PirateCash",
          "Exosis",
          "Block-Logic",
          "Beam",
          "Bithereum",
          "SLICE",
          "BLAST",
          "Bitcoin Rhodium",
          "GlobalToken",
          "SolarCoin",
          "UFO Coin",
          "BlakeCoin",
          "Crypto Escudo",
          "Crown Coin",
          "SmileyCoin",
          "Groestlcoin",
          "Bata",
          "Pakcoin",
          "JoinCoin",
          "Vollar",
          "Reality Clash",
          "Beldex",
          "Horizen"
         ],
         "legendgroup": "2",
         "marker": {
          "color": [
           2,
           2,
           2,
           2,
           2,
           2,
           2,
           2,
           2,
           2,
           2,
           2,
           2,
           2,
           2,
           2,
           2,
           2,
           2,
           2,
           2,
           2,
           2,
           2,
           2,
           2,
           2,
           2,
           2,
           2,
           2,
           2,
           2,
           2,
           2,
           2,
           2,
           2,
           2,
           2,
           2,
           2,
           2,
           2,
           2,
           2,
           2,
           2,
           2,
           2,
           2,
           2,
           2,
           2,
           2,
           2,
           2,
           2,
           2,
           2,
           2,
           2,
           2,
           2,
           2,
           2,
           2,
           2,
           2,
           2,
           2,
           2,
           2,
           2,
           2,
           2,
           2,
           2,
           2,
           2,
           2,
           2,
           2,
           2,
           2,
           2,
           2,
           2,
           2,
           2,
           2,
           2,
           2,
           2,
           2,
           2,
           2,
           2,
           2,
           2,
           2,
           2,
           2,
           2,
           2,
           2,
           2,
           2,
           2,
           2,
           2,
           2,
           2,
           2,
           2,
           2,
           2,
           2,
           2,
           2,
           2,
           2,
           2,
           2,
           2,
           2,
           2,
           2,
           2,
           2,
           2,
           2,
           2,
           2,
           2,
           2,
           2,
           2,
           2,
           2,
           2,
           2,
           2,
           2,
           2,
           2,
           2,
           2,
           2,
           2,
           2,
           2,
           2,
           2,
           2,
           2,
           2,
           2,
           2,
           2,
           2,
           2,
           2,
           2,
           2,
           2,
           2,
           2,
           2,
           2,
           2,
           2,
           2,
           2,
           2,
           2,
           2,
           2,
           2,
           2,
           2,
           2,
           2,
           2,
           2,
           2,
           2,
           2,
           2,
           2,
           2,
           2,
           2,
           2,
           2,
           2,
           2,
           2,
           2,
           2,
           2,
           2,
           2,
           2,
           2,
           2,
           2,
           2,
           2,
           2,
           2,
           2,
           2,
           2,
           2,
           2,
           2,
           2,
           2,
           2,
           2,
           2,
           2,
           2,
           2,
           2,
           2,
           2,
           2,
           2,
           2,
           2,
           2,
           2,
           2,
           2,
           2,
           2,
           2
          ],
          "coloraxis": "coloraxis",
          "symbol": "diamond"
         },
         "mode": "markers",
         "name": "2",
         "scene": "scene",
         "showlegend": true,
         "type": "scatter3d",
         "x": [
          -0.13912545501960183,
          -0.15598380067843465,
          -0.17097554569164564,
          -0.15381901314937102,
          -0.15442884975254303,
          -0.12875823667192973,
          0.16070262327519108,
          -0.17212005605601774,
          -0.22977644920031282,
          -0.17173729318049688,
          -0.09229316752434802,
          2.544370795700194,
          -0.13621472716554217,
          -0.16899702478783302,
          -0.17154175526717272,
          -0.21755911113027232,
          -0.20358339931310407,
          -0.17159018611314644,
          -0.1721023435646468,
          -0.17218865152318313,
          -0.22986567243559872,
          0.18444717848005446,
          0.23814943089236493,
          0.07616705570316697,
          -0.1719352965382611,
          -0.16754744848615996,
          -0.17187472350993835,
          -0.1722455750900798,
          -0.17720482632653148,
          -0.1515007318161992,
          -0.1710424596236899,
          -0.17131958324798638,
          1.5740528212717846,
          -0.13908687126382696,
          -0.16861330728118054,
          -0.17196170067283553,
          -0.17231598329116107,
          -0.17157635137991734,
          -0.1469738429094713,
          -0.17219744049523442,
          -0.03734760788265887,
          -0.13916438775491918,
          -0.16587080678114277,
          -0.17217696643603897,
          -0.17027485248275143,
          -0.17166449513002555,
          -0.12633673681554794,
          -0.13862894665025613,
          -0.13891577636805852,
          -0.13889898787999216,
          -0.1394885461415156,
          -0.23003925852877774,
          -0.1718938102574278,
          -0.17704739237630102,
          -0.16900181662077315,
          -0.13869614897494598,
          3.8553259458239193,
          0.45936166278172896,
          -0.17076322185570508,
          -0.15538932131143382,
          -0.1694839242253077,
          -0.17231819685266558,
          -0.16934909253356067,
          -0.15559397794137533,
          -0.13204961922858874,
          -0.12624770340463715,
          -0.19233523868826627,
          -0.17219143231115497,
          -0.04533757258066397,
          -0.11944171034778713,
          -0.17232706773311052,
          -0.1391921316337294,
          0.4785404577578103,
          -0.22942736592463261,
          -0.1537858420584905,
          -0.13893248667191793,
          -0.2297118545712419,
          -0.17045425988235885,
          -0.16964769574060834,
          -0.1570500578509812,
          0.3725765872844512,
          -0.22974718132892696,
          -0.1390879922558979,
          -0.16829096085463066,
          -0.15563840438823676,
          -0.1708926127919905,
          0.2787717193552774,
          -0.2289092888346441,
          -0.15829869167251387,
          -0.17114019725062304,
          -0.14692823170282904,
          -0.1721173390216894,
          -0.22971051817865876,
          -0.17232712614066303,
          -0.22986030771320154,
          -0.16927007546493875,
          0.30450840756871533,
          -0.13934770119524295,
          -0.10635082043662884,
          -0.16949835088320234,
          -0.13930638584834618,
          -0.17199109345696675,
          -0.15837061241946593,
          -0.1567925774229328,
          -0.12877982757648263,
          -0.0991961978199542,
          -0.21646244353899682,
          -0.22769219099339918,
          0.3045027183483228,
          -0.17230889751861087,
          0.3046332543794387,
          -0.15432532889862655,
          0.48397459160397616,
          -0.15258622017657567,
          -0.17227722653748012,
          -0.22260847072285733,
          -0.1287921656046178,
          -0.17041327773052392,
          -0.15404410963437384,
          -0.13679686651421186,
          -0.1432578706912024,
          -0.18689921176178828,
          -0.17184030860056784,
          -0.10572715330401666,
          -0.17166278777683322,
          -0.15244369157344548,
          -0.15793096894547634,
          -0.02724413620744271,
          -0.16253360147875318,
          0.3405702370981442,
          -0.22891775955191004,
          -0.17198137523198476,
          -0.17174534626068266,
          -0.22931174385981012,
          -0.2298882730983337,
          0.30489704804191603,
          -0.13837090245517145,
          3.2321560381808268,
          -0.11469860538388327,
          -0.2207773426139904,
          -0.13912462024769184,
          -0.09804805494313219,
          1.572579019239713,
          -0.17207910837760673,
          -0.17153176415523713,
          -0.17123318839477106,
          -0.17122013512616874,
          0.3050802452692006,
          0.08316274933579028,
          -0.1843401004693125,
          -0.1818862053030373,
          -0.12863842490322147,
          -0.15705997822802162,
          -0.17041148905116432,
          -0.2254398984796462,
          -0.18173190251902674,
          -0.15516114337921944,
          -0.1818319143334566,
          -0.11649493835446154,
          1.1409673781131695,
          0.3044855553040681,
          -0.08019433353699615,
          -0.22518287825788105,
          -0.14157381554120843,
          -0.08859536801575907,
          1.0867898492015093,
          -0.22986230806680652,
          -0.1818837341143447,
          -0.1749326419495585,
          -0.1713312556134515,
          -0.22978782320799804,
          -0.13910403800374208,
          -0.19480370039471626,
          8.027501256162283,
          -0.16637292929570868,
          0.30835353211911143,
          0.0204251907858653,
          -0.15656348668140174,
          -0.1626284596178528,
          -0.17190415542994847,
          0.1347004064509167,
          -0.22393842629202557,
          -0.10829047146624984,
          0.3123937096892479,
          -0.17214077565992736,
          -0.1487122119495006,
          -0.1276310037821685,
          -0.15615832904941962,
          -0.22895848274358258,
          0.3046678212179514,
          -0.1869584521619418,
          -0.1541708435564052,
          -0.14672880339024214,
          -0.15845482727699597,
          0.30858810462571157,
          0.5847364964974667,
          2.1099604754903414,
          -0.15339820377384356,
          0.31825095389573155,
          -0.1891401979465092,
          -0.12306481365590376,
          -0.22984449640400578,
          -0.1721653338739082,
          -0.14145795239757153,
          -0.1341707845662588,
          -0.21158161576350634,
          3.103236192159352,
          -0.09901228432334801,
          -0.22981591852749134,
          -0.18856903889256335,
          -0.023553308471492625,
          -0.15785370994520764,
          -0.13912465776778038,
          0.3842874745993767,
          -0.14285151510365254,
          -0.14324262800887735,
          -0.2403903133230066,
          -0.16278119780688063,
          -0.1710595052964191,
          -0.12670219716946948,
          -0.12847149981948064,
          -0.19154771315395164,
          -0.13840190997549542,
          -0.10810471491392132,
          -0.13727178590634684,
          0.5223734344919567,
          -0.10716150870193585,
          -0.09380612477799025,
          -0.15574438225021264,
          -0.13891514757913564,
          0.5423728740309581,
          -0.20314504459448243,
          -0.17224198568209567,
          -0.17020113612544338,
          -0.1269817169307131,
          -0.128367519260492,
          -0.15682568650434567,
          0.3262087971658649,
          -0.128759292343857
         ],
         "y": [
          -1.3547793901287144,
          -2.025155187538941,
          -1.1215200261691471,
          -2.206018528281718,
          -2.0252458053561786,
          -2.092014345518396,
          -1.8422425375453224,
          -1.12151705798016,
          -0.8814610911898929,
          -1.1215333140066397,
          -1.8380551723831915,
          -1.2917342484239025,
          -1.3547789861986554,
          -1.1215648920274028,
          -1.121551385307237,
          -0.4765116375627255,
          -1.2443824559165808,
          -1.1215170395688456,
          -1.1215164253396008,
          -1.121514037596253,
          -0.8814628860290132,
          -1.8383008067335853,
          -1.3559052034573484,
          -1.1220300850499239,
          -1.1215104588879041,
          -1.1215477718989593,
          -1.1215159511956303,
          -1.1215147454658887,
          -1.6137612885562413,
          -1.1217546971753327,
          -1.1215126723934856,
          -1.1215241334405215,
          -1.1221900469542208,
          -1.3547780120250799,
          -1.1215619193189124,
          -1.1215107059871885,
          -1.1215103798975334,
          -1.1215122540033695,
          -2.2354658080872682,
          -1.1215121661289238,
          -1.1271284843744047,
          -1.3547807806969312,
          -1.1215137827503407,
          -1.1215190906594654,
          -1.1216105324520427,
          -1.121521805289353,
          -1.3549260297037917,
          -1.3547797601133498,
          -1.3547865166255464,
          -1.354812364319567,
          -1.354777917091059,
          -0.8814565583543822,
          -1.1215103690790318,
          -1.3030966479214796,
          -1.1215757957838737,
          -1.354780760097731,
          -2.299601864422665,
          -2.299469921975869,
          -1.1215271417052863,
          -1.1220741178431053,
          -1.1215240888373097,
          -1.1215113484252737,
          -1.1215148284833918,
          -1.1216081595622294,
          -2.1877795984824995,
          -1.8378759684301815,
          -1.5873273752688462,
          -1.1215073381005405,
          -1.1239339514494175,
          -2.191840923152836,
          -1.1215102673722737,
          -1.3547817716305406,
          -1.1622930542062544,
          -0.8814576706848529,
          -2.169070083921341,
          -1.354795298223977,
          -0.8814594800331594,
          -1.1215892681208144,
          -1.1215881321705803,
          -2.025205037812379,
          -2.2240591303128876,
          -0.8814572618938786,
          -1.3547780520637753,
          -1.121511834105581,
          -2.1415944720190088,
          -1.1215170640383563,
          -1.3548901690087447,
          -0.8814746615260781,
          -2.260645995096496,
          -1.1215846140829435,
          -2.210814613778697,
          -1.121516264952893,
          -0.8814622162306212,
          -1.1215102673496011,
          -0.8814675662930671,
          -1.6097122681051397,
          -2.2980479820089306,
          -1.354779488593431,
          -1.8380004864220014,
          -1.1215479988700032,
          -1.3547786409085516,
          -1.1215187156392257,
          -2.2371408143872284,
          -2.025202313372286,
          -2.0920151166850065,
          -1.1258576306247996,
          -0.8813196237742889,
          -0.8815314116694047,
          -2.2980558410185066,
          -1.121511076332658,
          -2.2980539625669123,
          -2.1690505246463188,
          -0.9255522258816314,
          -2.206103253117942,
          -1.1215103945395468,
          -0.881887133850928,
          -2.0920127734351395,
          -1.1215110792517535,
          -2.16904813608947,
          -2.2147754271960047,
          -1.1232554956235792,
          -0.647102497136412,
          -1.121517172127996,
          -1.355311836784262,
          -1.121536220741714,
          -2.206042483802417,
          -2.1971435891701305,
          -2.23857643675518,
          -2.2063907535119465,
          -2.2981449595135253,
          -0.8814860997950036,
          -1.1215109053728278,
          -1.1215412574466637,
          -0.8814723325138902,
          -0.8814643196455297,
          -2.2980647240865055,
          -2.2139238269702823,
          -1.139107722450364,
          -1.2616796165642232,
          -0.8818913293274181,
          -1.3547793603130065,
          -1.1261646133859886,
          -1.0591866802306924,
          -1.1215148994614124,
          -1.121539892734074,
          -1.1215403641631954,
          -1.1215398979370175,
          -2.298082462847415,
          -2.099046136810643,
          -0.8810770808299492,
          -1.613713435729265,
          -2.092010066177744,
          -2.2606896589881442,
          -1.1215110153651393,
          -0.8815358759466349,
          -1.6137204521496655,
          -2.025320679601604,
          -1.6137148373235533,
          -1.837986975384902,
          -2.327323556890913,
          -2.298050538183827,
          -2.029408024293965,
          -0.8816658923875216,
          -2.206276785694921,
          -1.1219990866130776,
          -1.2794016402413282,
          -0.8814640186315342,
          -1.6137091715708392,
          -1.6137942736132889,
          -1.1215188114825099,
          -0.8814635853848213,
          -1.354778044723592,
          -1.2608507146200816,
          -2.718179773398964,
          -2.257515286548269,
          -2.298137535201781,
          -1.1215850898169175,
          -2.260632737205513,
          -1.3032887621805602,
          -1.1215225702806615,
          -1.1233546094580884,
          -0.8815866449296493,
          -2.027975601159506,
          -2.2984553637036105,
          -1.1215177980263529,
          -2.2726767628650104,
          -2.0920081870565492,
          -2.2372556985251575,
          -0.881487554313299,
          -2.2980481344523613,
          -0.6470856461247324,
          -2.1690563374571923,
          -2.1772062644962347,
          -2.237136236097636,
          -2.2983128966472326,
          -2.261611498075261,
          -2.36161609777322,
          -2.225157199532686,
          -2.2982461593532384,
          -1.3301968416091048,
          -2.2833414495415054,
          -0.8814642176277473,
          -1.1215194444205538,
          -2.2067949950551156,
          -2.346431269682283,
          -0.5587959411600691,
          -2.2999412248164592,
          -1.3547936075141063,
          -0.881465980835737,
          -1.330230675350656,
          -2.093531571003151,
          -2.2371659205784504,
          -1.3547793616531187,
          -2.300815075374218,
          -2.260669163888429,
          -2.2606275304741423,
          -0.17038010317807417,
          -2.2013736871599647,
          -1.1215480803379032,
          -2.092109198096588,
          -2.0920109845636516,
          -1.5873688453050028,
          -1.3547834743710485,
          -0.38657432632944244,
          -1.3548154916772026,
          -1.1649729558341626,
          -1.613809617088953,
          -2.263716115209704,
          -1.1216135315826912,
          -1.354786494166968,
          -1.1307818777313194,
          -1.2443814147450685,
          -1.121510277246102,
          -1.121560572706099,
          -1.837904134087304,
          -2.2229078539567944,
          -2.0252023005199824,
          -2.298240475389096,
          -2.0920143832240385
         ],
         "z": [
          0.15170678109228175,
          0.3356031427832102,
          0.0013632338942154622,
          0.3967647725969713,
          0.33560277460789945,
          0.34824551431723966,
          0.3098394237147412,
          0.0013805602942393003,
          0.033601596613141306,
          0.0013788505137872966,
          0.31272442698668856,
          0.0039242509485827096,
          0.15166058818058445,
          0.0013439153917291088,
          0.0013805908186542547,
          0.0015331422322789076,
          0.16900744993654088,
          0.0013721660711986554,
          0.0013801105508205824,
          0.0013808380394440738,
          0.03360348959330562,
          0.3084086037726125,
          0.14603477192730224,
          -0.0024132109822583105,
          0.0013758690074296123,
          0.00131638296340113,
          0.0013763798109717187,
          0.001381928734495313,
          0.17765532866313363,
          0.0011176963317127834,
          0.0013623253221031208,
          0.0013697801333081771,
          -0.026086046075829372,
          0.15170580140004802,
          0.0013370445396343371,
          0.001376353185603873,
          0.001381875184569878,
          0.0013706663255279798,
          0.5101696337835618,
          0.001380476354498913,
          0.0007484616313106616,
          0.1517077696455631,
          0.001280741011520032,
          0.0013820053235314373,
          0.0013763611151378166,
          0.0013746179799269693,
          0.15154354397656394,
          0.15169901901631508,
          0.15170536848302613,
          0.1517120199855216,
          0.151712135610013,
          0.03360454453754299,
          0.0013751881312341443,
          0.16988051384787414,
          0.0013469093020152655,
          0.1517003506275088,
          0.3487528473639309,
          0.4024849746686736,
          0.0013617764711504365,
          0.0012647461258226433,
          0.0013407046749459688,
          0.0013821694268636763,
          0.001336091680941276,
          0.0011432875397412606,
          0.26962693148028627,
          0.3132140622859852,
          0.2429963376033201,
          0.0013790891607454489,
          2.004992639514093e-05,
          0.3325551943488122,
          0.0013820205679216896,
          0.15170847409908347,
          0.0019912120973476864,
          0.03359515427754913,
          0.27938839405468524,
          0.15170798316755787,
          0.03360014272815424,
          0.0013735109072159828,
          0.001360436781778534,
          0.33563336539609695,
          0.2943935137542107,
          0.03360010843352612,
          0.1517058298635088,
          0.0013185372019384352,
          0.3901918795037204,
          0.0013611281189712234,
          0.1451199680068068,
          0.03359149875132066,
          0.3794248349540253,
          0.0013831256741511017,
          0.24318319270044972,
          0.0013803050476888141,
          0.03360085382531337,
          0.0013820214866057934,
          0.03360465717832149,
          0.4212832315414772,
          0.4045561899653945,
          0.15171032621030775,
          0.31293236327239193,
          0.0013473318456846213,
          0.15170944521914081,
          0.0013789620818003125,
          0.39063577627291546,
          0.33562855966462596,
          0.3482460625386631,
          0.001387591156434935,
          0.03335294011406678,
          0.03358741611583988,
          0.404558383254457,
          0.0013819493759717168,
          0.4045558138031092,
          0.2793917011967026,
          0.034100543177058004,
          0.3967679279981873,
          0.0013812654772283714,
          0.03360212455637013,
          0.3482456307874797,
          0.0013519372919129366,
          0.27938660950271466,
          0.36648924426197643,
          0.0013888300163652045,
          0.004107281768016431,
          0.0013761616720580733,
          0.15132048664208866,
          0.0013784487835801535,
          0.3967494084113286,
          0.44479548026464577,
          0.3046088671644517,
          0.4012878457173564,
          0.40401118513792833,
          0.033594693953643985,
          0.0013767180470903159,
          0.0013811038243544788,
          0.033597247433443056,
          0.033604231085547456,
          0.40455451720249885,
          0.4280008816326161,
          -0.04781089606217198,
          0.12606672290611962,
          0.03357425555681871,
          0.15170675989632595,
          0.0014515670411009754,
          -0.0429235520347793,
          0.0013793343214252931,
          0.001377357011513273,
          0.0013727559005077261,
          0.0013724244608741972,
          0.40455636390066985,
          0.34677205783834014,
          0.03277944636023084,
          0.1777166414621784,
          0.34824247213907766,
          0.37941690796660255,
          0.0013518918749949231,
          0.033552950863481805,
          0.17771607614648685,
          0.33563440652846876,
          0.1777161569790639,
          0.31308935670966204,
          0.39914742140292914,
          0.40455723585810793,
          0.3355413234788391,
          0.03358367627858273,
          0.3966400118563941,
          0.0001871347627062693,
          0.17901265779278952,
          0.033603739431028117,
          0.17771546117056916,
          0.17762818114442225,
          0.001368540686690603,
          0.03360244418657573,
          0.15170608194738167,
          0.056824567678169936,
          0.39471487641702174,
          0.4292615374530858,
          0.40451927714169117,
          -0.0016497530049927503,
          0.3793938138440009,
          0.16970363580816505,
          0.001378617185918826,
          -0.002985487930923407,
          0.03354276513474636,
          0.33560282013936843,
          0.4045403666940334,
          0.0013810863921946465,
          0.29148239416836264,
          0.34822601901025946,
          0.3906314948266996,
          0.033595727968964206,
          0.4045537068063105,
          0.004103710070722723,
          0.2793908108829378,
          0.2843346744371121,
          0.3906358843922146,
          0.40456249310899095,
          0.3050944823232575,
          0.3929829045975232,
          0.26398549038594765,
          0.40439164357101975,
          0.2265218973888195,
          0.367438515207036,
          0.03360351067849327,
          0.0013819158210028404,
          0.39677685962086384,
          0.2403799711987303,
          0.3034010554721549,
          0.2754774461746532,
          0.15107548430752032,
          0.03360353007859787,
          0.22652190889409157,
          0.3469858684636396,
          0.3906343111584961,
          0.1517067608490103,
          0.4040335925428424,
          0.26604177744318785,
          0.2660368279796301,
          0.06757148669536835,
          0.39168080436322755,
          0.0013720710081426735,
          0.3482383458327445,
          0.34824007503342175,
          0.24299496704375176,
          0.15169641840500264,
          -0.059617445307367005,
          0.15168709384860465,
          0.0020144058807410052,
          0.1765592842456125,
          0.2660806735455567,
          0.001147106502675872,
          0.15170535251724965,
          -0.00745239096473628,
          0.16900023094161135,
          0.0013806761278944988,
          0.001361823851340346,
          0.31323322137437376,
          0.2135887960338773,
          0.33562908043276957,
          0.4042641279339146,
          0.34824554112213624
         ]
        },
        {
         "customdata": [
          [
           "VeChainThor Authority"
          ],
          [
           "Proof-of-BibleHash"
          ],
          [
           "SHA-256 + Hive"
          ],
          [
           "Proof-of-Authority"
          ],
          [
           "ECC 256K1"
          ]
         ],
         "hovertemplate": "<b>%{hovertext}</b><br><br>Class=%{marker.color}<br>PC 1=%{x}<br>PC 2=%{y}<br>PC 3=%{z}<br>Algorithm=%{customdata[0]}<extra></extra>",
         "hovertext": [
          "Vechain",
          "BiblePay",
          "LitecoinCash",
          "Poa Network",
          "Acute Angle Cloud"
         ],
         "legendgroup": "3",
         "marker": {
          "color": [
           3,
           3,
           3,
           3,
           3
          ],
          "coloraxis": "coloraxis",
          "symbol": "square"
         },
         "mode": "markers",
         "name": "3",
         "scene": "scene",
         "showlegend": true,
         "type": "scatter3d",
         "x": [
          4.4250725223726555,
          -0.2067484801346378,
          -0.3307790260338989,
          -0.4300651354286077,
          -0.3290349068360867
         ],
         "y": [
          2.4995582346063525,
          3.2490873783263345,
          2.8165453095523563,
          3.391742119533297,
          2.84332795942882
         ],
         "z": [
          8.100722577657844,
          13.998689336211143,
          12.917509382483237,
          18.58702807762553,
          15.315505829538916
         ]
        },
        {
         "customdata": [
          [
           "TRC10"
          ]
         ],
         "hovertemplate": "<b>%{hovertext}</b><br><br>Class=%{marker.color}<br>PC 1=%{x}<br>PC 2=%{y}<br>PC 3=%{z}<br>Algorithm=%{customdata[0]}<extra></extra>",
         "hovertext": [
          "BitTorrent"
         ],
         "legendgroup": "1",
         "marker": {
          "color": [
           1
          ],
          "coloraxis": "coloraxis",
          "symbol": "x"
         },
         "mode": "markers",
         "name": "1",
         "scene": "scene",
         "showlegend": true,
         "type": "scatter3d",
         "x": [
          34.03481202693374
         ],
         "y": [
          1.7813546734277417
         ],
         "z": [
          -1.045867905547201
         ]
        }
       ],
       "layout": {
        "autosize": true,
        "coloraxis": {
         "colorbar": {
          "title": {
           "text": "Class"
          }
         },
         "colorscale": [
          [
           0,
           "#0d0887"
          ],
          [
           0.1111111111111111,
           "#46039f"
          ],
          [
           0.2222222222222222,
           "#7201a8"
          ],
          [
           0.3333333333333333,
           "#9c179e"
          ],
          [
           0.4444444444444444,
           "#bd3786"
          ],
          [
           0.5555555555555556,
           "#d8576b"
          ],
          [
           0.6666666666666666,
           "#ed7953"
          ],
          [
           0.7777777777777778,
           "#fb9f3a"
          ],
          [
           0.8888888888888888,
           "#fdca26"
          ],
          [
           1,
           "#f0f921"
          ]
         ]
        },
        "legend": {
         "title": {
          "text": "Class"
         },
         "tracegroupgap": 0,
         "x": 0,
         "y": 1
        },
        "margin": {
         "t": 60
        },
        "scene": {
         "aspectmode": "auto",
         "aspectratio": {
          "x": 1,
          "y": 1,
          "z": 1
         },
         "camera": {
          "center": {
           "x": 0,
           "y": 0,
           "z": 0
          },
          "eye": {
           "x": -0.04104894723788466,
           "y": 0.1893704878768184,
           "z": -1.1012372829178163
          },
          "projection": {
           "type": "perspective"
          },
          "up": {
           "x": 0,
           "y": 0,
           "z": 1
          }
         },
         "domain": {
          "x": [
           0,
           1
          ],
          "y": [
           0,
           1
          ]
         },
         "xaxis": {
          "title": {
           "text": "PC 1"
          },
          "type": "linear"
         },
         "yaxis": {
          "title": {
           "text": "PC 2"
          },
          "type": "linear"
         },
         "zaxis": {
          "title": {
           "text": "PC 3"
          },
          "type": "linear"
         }
        },
        "template": {
         "data": {
          "bar": [
           {
            "error_x": {
             "color": "#2a3f5f"
            },
            "error_y": {
             "color": "#2a3f5f"
            },
            "marker": {
             "line": {
              "color": "#E5ECF6",
              "width": 0.5
             },
             "pattern": {
              "fillmode": "overlay",
              "size": 10,
              "solidity": 0.2
             }
            },
            "type": "bar"
           }
          ],
          "barpolar": [
           {
            "marker": {
             "line": {
              "color": "#E5ECF6",
              "width": 0.5
             },
             "pattern": {
              "fillmode": "overlay",
              "size": 10,
              "solidity": 0.2
             }
            },
            "type": "barpolar"
           }
          ],
          "carpet": [
           {
            "aaxis": {
             "endlinecolor": "#2a3f5f",
             "gridcolor": "white",
             "linecolor": "white",
             "minorgridcolor": "white",
             "startlinecolor": "#2a3f5f"
            },
            "baxis": {
             "endlinecolor": "#2a3f5f",
             "gridcolor": "white",
             "linecolor": "white",
             "minorgridcolor": "white",
             "startlinecolor": "#2a3f5f"
            },
            "type": "carpet"
           }
          ],
          "choropleth": [
           {
            "colorbar": {
             "outlinewidth": 0,
             "ticks": ""
            },
            "type": "choropleth"
           }
          ],
          "contour": [
           {
            "colorbar": {
             "outlinewidth": 0,
             "ticks": ""
            },
            "colorscale": [
             [
              0,
              "#0d0887"
             ],
             [
              0.1111111111111111,
              "#46039f"
             ],
             [
              0.2222222222222222,
              "#7201a8"
             ],
             [
              0.3333333333333333,
              "#9c179e"
             ],
             [
              0.4444444444444444,
              "#bd3786"
             ],
             [
              0.5555555555555556,
              "#d8576b"
             ],
             [
              0.6666666666666666,
              "#ed7953"
             ],
             [
              0.7777777777777778,
              "#fb9f3a"
             ],
             [
              0.8888888888888888,
              "#fdca26"
             ],
             [
              1,
              "#f0f921"
             ]
            ],
            "type": "contour"
           }
          ],
          "contourcarpet": [
           {
            "colorbar": {
             "outlinewidth": 0,
             "ticks": ""
            },
            "type": "contourcarpet"
           }
          ],
          "heatmap": [
           {
            "colorbar": {
             "outlinewidth": 0,
             "ticks": ""
            },
            "colorscale": [
             [
              0,
              "#0d0887"
             ],
             [
              0.1111111111111111,
              "#46039f"
             ],
             [
              0.2222222222222222,
              "#7201a8"
             ],
             [
              0.3333333333333333,
              "#9c179e"
             ],
             [
              0.4444444444444444,
              "#bd3786"
             ],
             [
              0.5555555555555556,
              "#d8576b"
             ],
             [
              0.6666666666666666,
              "#ed7953"
             ],
             [
              0.7777777777777778,
              "#fb9f3a"
             ],
             [
              0.8888888888888888,
              "#fdca26"
             ],
             [
              1,
              "#f0f921"
             ]
            ],
            "type": "heatmap"
           }
          ],
          "heatmapgl": [
           {
            "colorbar": {
             "outlinewidth": 0,
             "ticks": ""
            },
            "colorscale": [
             [
              0,
              "#0d0887"
             ],
             [
              0.1111111111111111,
              "#46039f"
             ],
             [
              0.2222222222222222,
              "#7201a8"
             ],
             [
              0.3333333333333333,
              "#9c179e"
             ],
             [
              0.4444444444444444,
              "#bd3786"
             ],
             [
              0.5555555555555556,
              "#d8576b"
             ],
             [
              0.6666666666666666,
              "#ed7953"
             ],
             [
              0.7777777777777778,
              "#fb9f3a"
             ],
             [
              0.8888888888888888,
              "#fdca26"
             ],
             [
              1,
              "#f0f921"
             ]
            ],
            "type": "heatmapgl"
           }
          ],
          "histogram": [
           {
            "marker": {
             "pattern": {
              "fillmode": "overlay",
              "size": 10,
              "solidity": 0.2
             }
            },
            "type": "histogram"
           }
          ],
          "histogram2d": [
           {
            "colorbar": {
             "outlinewidth": 0,
             "ticks": ""
            },
            "colorscale": [
             [
              0,
              "#0d0887"
             ],
             [
              0.1111111111111111,
              "#46039f"
             ],
             [
              0.2222222222222222,
              "#7201a8"
             ],
             [
              0.3333333333333333,
              "#9c179e"
             ],
             [
              0.4444444444444444,
              "#bd3786"
             ],
             [
              0.5555555555555556,
              "#d8576b"
             ],
             [
              0.6666666666666666,
              "#ed7953"
             ],
             [
              0.7777777777777778,
              "#fb9f3a"
             ],
             [
              0.8888888888888888,
              "#fdca26"
             ],
             [
              1,
              "#f0f921"
             ]
            ],
            "type": "histogram2d"
           }
          ],
          "histogram2dcontour": [
           {
            "colorbar": {
             "outlinewidth": 0,
             "ticks": ""
            },
            "colorscale": [
             [
              0,
              "#0d0887"
             ],
             [
              0.1111111111111111,
              "#46039f"
             ],
             [
              0.2222222222222222,
              "#7201a8"
             ],
             [
              0.3333333333333333,
              "#9c179e"
             ],
             [
              0.4444444444444444,
              "#bd3786"
             ],
             [
              0.5555555555555556,
              "#d8576b"
             ],
             [
              0.6666666666666666,
              "#ed7953"
             ],
             [
              0.7777777777777778,
              "#fb9f3a"
             ],
             [
              0.8888888888888888,
              "#fdca26"
             ],
             [
              1,
              "#f0f921"
             ]
            ],
            "type": "histogram2dcontour"
           }
          ],
          "mesh3d": [
           {
            "colorbar": {
             "outlinewidth": 0,
             "ticks": ""
            },
            "type": "mesh3d"
           }
          ],
          "parcoords": [
           {
            "line": {
             "colorbar": {
              "outlinewidth": 0,
              "ticks": ""
             }
            },
            "type": "parcoords"
           }
          ],
          "pie": [
           {
            "automargin": true,
            "type": "pie"
           }
          ],
          "scatter": [
           {
            "fillpattern": {
             "fillmode": "overlay",
             "size": 10,
             "solidity": 0.2
            },
            "type": "scatter"
           }
          ],
          "scatter3d": [
           {
            "line": {
             "colorbar": {
              "outlinewidth": 0,
              "ticks": ""
             }
            },
            "marker": {
             "colorbar": {
              "outlinewidth": 0,
              "ticks": ""
             }
            },
            "type": "scatter3d"
           }
          ],
          "scattercarpet": [
           {
            "marker": {
             "colorbar": {
              "outlinewidth": 0,
              "ticks": ""
             }
            },
            "type": "scattercarpet"
           }
          ],
          "scattergeo": [
           {
            "marker": {
             "colorbar": {
              "outlinewidth": 0,
              "ticks": ""
             }
            },
            "type": "scattergeo"
           }
          ],
          "scattergl": [
           {
            "marker": {
             "colorbar": {
              "outlinewidth": 0,
              "ticks": ""
             }
            },
            "type": "scattergl"
           }
          ],
          "scattermapbox": [
           {
            "marker": {
             "colorbar": {
              "outlinewidth": 0,
              "ticks": ""
             }
            },
            "type": "scattermapbox"
           }
          ],
          "scatterpolar": [
           {
            "marker": {
             "colorbar": {
              "outlinewidth": 0,
              "ticks": ""
             }
            },
            "type": "scatterpolar"
           }
          ],
          "scatterpolargl": [
           {
            "marker": {
             "colorbar": {
              "outlinewidth": 0,
              "ticks": ""
             }
            },
            "type": "scatterpolargl"
           }
          ],
          "scatterternary": [
           {
            "marker": {
             "colorbar": {
              "outlinewidth": 0,
              "ticks": ""
             }
            },
            "type": "scatterternary"
           }
          ],
          "surface": [
           {
            "colorbar": {
             "outlinewidth": 0,
             "ticks": ""
            },
            "colorscale": [
             [
              0,
              "#0d0887"
             ],
             [
              0.1111111111111111,
              "#46039f"
             ],
             [
              0.2222222222222222,
              "#7201a8"
             ],
             [
              0.3333333333333333,
              "#9c179e"
             ],
             [
              0.4444444444444444,
              "#bd3786"
             ],
             [
              0.5555555555555556,
              "#d8576b"
             ],
             [
              0.6666666666666666,
              "#ed7953"
             ],
             [
              0.7777777777777778,
              "#fb9f3a"
             ],
             [
              0.8888888888888888,
              "#fdca26"
             ],
             [
              1,
              "#f0f921"
             ]
            ],
            "type": "surface"
           }
          ],
          "table": [
           {
            "cells": {
             "fill": {
              "color": "#EBF0F8"
             },
             "line": {
              "color": "white"
             }
            },
            "header": {
             "fill": {
              "color": "#C8D4E3"
             },
             "line": {
              "color": "white"
             }
            },
            "type": "table"
           }
          ]
         },
         "layout": {
          "annotationdefaults": {
           "arrowcolor": "#2a3f5f",
           "arrowhead": 0,
           "arrowwidth": 1
          },
          "autotypenumbers": "strict",
          "coloraxis": {
           "colorbar": {
            "outlinewidth": 0,
            "ticks": ""
           }
          },
          "colorscale": {
           "diverging": [
            [
             0,
             "#8e0152"
            ],
            [
             0.1,
             "#c51b7d"
            ],
            [
             0.2,
             "#de77ae"
            ],
            [
             0.3,
             "#f1b6da"
            ],
            [
             0.4,
             "#fde0ef"
            ],
            [
             0.5,
             "#f7f7f7"
            ],
            [
             0.6,
             "#e6f5d0"
            ],
            [
             0.7,
             "#b8e186"
            ],
            [
             0.8,
             "#7fbc41"
            ],
            [
             0.9,
             "#4d9221"
            ],
            [
             1,
             "#276419"
            ]
           ],
           "sequential": [
            [
             0,
             "#0d0887"
            ],
            [
             0.1111111111111111,
             "#46039f"
            ],
            [
             0.2222222222222222,
             "#7201a8"
            ],
            [
             0.3333333333333333,
             "#9c179e"
            ],
            [
             0.4444444444444444,
             "#bd3786"
            ],
            [
             0.5555555555555556,
             "#d8576b"
            ],
            [
             0.6666666666666666,
             "#ed7953"
            ],
            [
             0.7777777777777778,
             "#fb9f3a"
            ],
            [
             0.8888888888888888,
             "#fdca26"
            ],
            [
             1,
             "#f0f921"
            ]
           ],
           "sequentialminus": [
            [
             0,
             "#0d0887"
            ],
            [
             0.1111111111111111,
             "#46039f"
            ],
            [
             0.2222222222222222,
             "#7201a8"
            ],
            [
             0.3333333333333333,
             "#9c179e"
            ],
            [
             0.4444444444444444,
             "#bd3786"
            ],
            [
             0.5555555555555556,
             "#d8576b"
            ],
            [
             0.6666666666666666,
             "#ed7953"
            ],
            [
             0.7777777777777778,
             "#fb9f3a"
            ],
            [
             0.8888888888888888,
             "#fdca26"
            ],
            [
             1,
             "#f0f921"
            ]
           ]
          },
          "colorway": [
           "#636efa",
           "#EF553B",
           "#00cc96",
           "#ab63fa",
           "#FFA15A",
           "#19d3f3",
           "#FF6692",
           "#B6E880",
           "#FF97FF",
           "#FECB52"
          ],
          "font": {
           "color": "#2a3f5f"
          },
          "geo": {
           "bgcolor": "white",
           "lakecolor": "white",
           "landcolor": "#E5ECF6",
           "showlakes": true,
           "showland": true,
           "subunitcolor": "white"
          },
          "hoverlabel": {
           "align": "left"
          },
          "hovermode": "closest",
          "mapbox": {
           "style": "light"
          },
          "paper_bgcolor": "white",
          "plot_bgcolor": "#E5ECF6",
          "polar": {
           "angularaxis": {
            "gridcolor": "white",
            "linecolor": "white",
            "ticks": ""
           },
           "bgcolor": "#E5ECF6",
           "radialaxis": {
            "gridcolor": "white",
            "linecolor": "white",
            "ticks": ""
           }
          },
          "scene": {
           "xaxis": {
            "backgroundcolor": "#E5ECF6",
            "gridcolor": "white",
            "gridwidth": 2,
            "linecolor": "white",
            "showbackground": true,
            "ticks": "",
            "zerolinecolor": "white"
           },
           "yaxis": {
            "backgroundcolor": "#E5ECF6",
            "gridcolor": "white",
            "gridwidth": 2,
            "linecolor": "white",
            "showbackground": true,
            "ticks": "",
            "zerolinecolor": "white"
           },
           "zaxis": {
            "backgroundcolor": "#E5ECF6",
            "gridcolor": "white",
            "gridwidth": 2,
            "linecolor": "white",
            "showbackground": true,
            "ticks": "",
            "zerolinecolor": "white"
           }
          },
          "shapedefaults": {
           "line": {
            "color": "#2a3f5f"
           }
          },
          "ternary": {
           "aaxis": {
            "gridcolor": "white",
            "linecolor": "white",
            "ticks": ""
           },
           "baxis": {
            "gridcolor": "white",
            "linecolor": "white",
            "ticks": ""
           },
           "bgcolor": "#E5ECF6",
           "caxis": {
            "gridcolor": "white",
            "linecolor": "white",
            "ticks": ""
           }
          },
          "title": {
           "x": 0.05
          },
          "xaxis": {
           "automargin": true,
           "gridcolor": "white",
           "linecolor": "white",
           "ticks": "",
           "title": {
            "standoff": 15
           },
           "zerolinecolor": "white",
           "zerolinewidth": 2
          },
          "yaxis": {
           "automargin": true,
           "gridcolor": "white",
           "linecolor": "white",
           "ticks": "",
           "title": {
            "standoff": 15
           },
           "zerolinecolor": "white",
           "zerolinewidth": 2
          }
         }
        }
       }
      },
      "image/png": "[encoded data removed]",
      "text/html": [
       "<div>                            <div id=\"25d30707-2a0f-4418-ba1b-6d585ad1625f\" class=\"plotly-graph-div\" style=\"height:525px; width:800px;\"></div>            <script type=\"text/javascript\">                require([\"plotly\"], function(Plotly) {                    window.PLOTLYENV=window.PLOTLYENV || {};                                    if (document.getElementById(\"25d30707-2a0f-4418-ba1b-6d585ad1625f\")) {                    Plotly.newPlot(                        \"25d30707-2a0f-4418-ba1b-6d585ad1625f\",                        [{\"customdata\":[[\"Scrypt\"],[\"Scrypt\"],[\"X13\"],[\"X11\"],[\"SHA-512\"],[\"SHA-256\"],[\"SHA-256\"],[\"X15\"],[\"Scrypt\"],[\"Scrypt\"],[\"Scrypt\"],[\"Scrypt\"],[\"Scrypt\"],[\"Scrypt\"],[\"Groestl\"],[\"PoS\"],[\"Scrypt\"],[\"Scrypt\"],[\"X11\"],[\"X11\"],[\"SHA3\"],[\"Scrypt\"],[\"SHA-256\"],[\"Scrypt\"],[\"X13\"],[\"X13\"],[\"NeoScrypt\"],[\"Scrypt\"],[\"Scrypt\"],[\"Scrypt\"],[\"X11\"],[\"X11\"],[\"Multiple\"],[\"PHI1612\"],[\"X11\"],[\"Scrypt\"],[\"Scrypt\"],[\"Scrypt\"],[\"X11\"],[\"Multiple\"],[\"X13\"],[\"Scrypt\"],[\"Shabal256\"],[\"Counterparty\"],[\"SHA-256\"],[\"Groestl\"],[\"Scrypt\"],[\"X13\"],[\"Scrypt\"],[\"Scrypt\"],[\"X13\"],[\"X11\"],[\"Scrypt\"],[\"X11\"],[\"SHA3\"],[\"QUAIT\"],[\"X11\"],[\"Scrypt\"],[\"X13\"],[\"SHA-256\"],[\"X15\"],[\"BLAKE256\"],[\"SHA-256\"],[\"X11\"],[\"SHA-256\"],[\"NIST5\"],[\"Scrypt\"],[\"Scrypt\"],[\"X11\"],[\"Scrypt\"],[\"SHA-256\"],[\"Scrypt\"],[\"PoS\"],[\"X11\"],[\"SHA-256\"],[\"SHA-256\"],[\"NIST5\"],[\"X11\"],[\"POS 3.0\"],[\"Scrypt\"],[\"Scrypt\"],[\"Scrypt\"],[\"X13\"],[\"X11\"],[\"X11\"],[\"Scrypt\"],[\"SHA-256\"],[\"X11\"],[\"Scrypt\"],[\"Scrypt\"],[\"Scrypt\"],[\"Scrypt\"],[\"SHA-256D\"],[\"PoS\"],[\"Scrypt\"],[\"X11\"],[\"PoS\"],[\"X13\"],[\"X14\"],[\"PoS\"],[\"SHA-256D\"],[\"DPoS\"],[\"X11\"],[\"X13\"],[\"X11\"],[\"PoS\"],[\"Scrypt\"],[\"Scrypt\"],[\"PoS\"],[\"X11\"],[\"SHA-256\"],[\"Scrypt\"],[\"X11\"],[\"Scrypt\"],[\"Scrypt\"],[\"X11\"],[\"Scrypt\"],[\"Scrypt\"],[\"Scrypt\"],[\"Scrypt\"],[\"Quark\"],[\"QuBit\"],[\"Scrypt\"],[\"SHA-256\"],[\"X11\"],[\"Scrypt\"],[\"Scrypt\"],[\"Scrypt\"],[\"Scrypt\"],[\"X13\"],[\"Scrypt\"],[\"Scrypt\"],[\"X11\"],[\"Blake2S\"],[\"X11\"],[\"PoS\"],[\"X11\"],[\"PoS\"],[\"X11\"],[\"Scrypt\"],[\"Scrypt\"],[\"Scrypt\"],[\"SHA-256\"],[\"X11\"],[\"Scrypt\"],[\"PoS\"],[\"Scrypt\"],[\"X15\"],[\"SHA-256\"],[\"POS 3.0\"],[\"536\"],[\"NIST5\"],[\"NIST5\"],[\"Skein\"],[\"X13\"],[\"Scrypt\"],[\"X13\"],[\"SkunkHash v2 Raptor\"],[\"Skein\"],[\"X11\"],[\"Scrypt\"],[\"PoS\"],[\"Scrypt\"],[\"Scrypt\"],[\"SHA-512\"],[\"Ouroboros\"],[\"X11\"],[\"NeoScrypt\"],[\"Scrypt\"],[\"Lyra2REv2\"],[\"Scrypt\"],[\"SHA-256\"],[\"NIST5\"],[\"PHI1612\"],[\"Scrypt\"],[\"Quark\"],[\"POS 2.0\"],[\"Scrypt\"],[\"SHA-256\"],[\"X11\"],[\"DPoS\"],[\"NIST5\"],[\"X13\"],[\"Scrypt\"],[\"NIST5\"],[\"Quark\"],[\"Scrypt\"],[\"Scrypt\"],[\"X11\"],[\"Quark\"],[\"Scrypt\"],[\"Scrypt\"],[\"X11\"],[\"POS 3.0\"],[\"Ethash\"],[\"Scrypt\"],[\"Scrypt\"],[\"X13\"],[\"C11\"],[\"X11\"],[\"XEVAN\"],[\"Scrypt\"],[\"VBFT\"],[\"NIST5\"],[\"Scrypt\"],[\"Scrypt\"],[\"Scrypt\"],[\"Green Protocol\"],[\"PoS\"],[\"Scrypt\"],[\"Semux BFT consensus\"],[\"Quark\"],[\"PoS\"],[\"X16R\"],[\"Scrypt\"],[\"XEVAN\"],[\"Scrypt\"],[\"Scrypt\"],[\"Scrypt\"],[\"SHA-256D\"],[\"Scrypt\"],[\"X15\"],[\"Scrypt\"],[\"Quark\"],[\"SHA-256\"],[\"DPoS\"],[\"X16R\"],[\"Quark\"],[\"Quark\"],[\"Scrypt\"],[\"Lyra2REv2\"],[\"Quark\"],[\"Scrypt\"],[\"X11\"],[\"X11\"],[\"Scrypt\"],[\"PoS\"],[\"Keccak\"],[\"X11\"],[\"Scrypt\"],[\"SHA-512\"],[\"XEVAN\"],[\"XEVAN\"],[\"X11\"],[\"Quark\"],[\"Scrypt\"],[\"Quark\"],[\"Quark\"],[\"Scrypt\"],[\"X11\"],[\"Scrypt\"],[\"XEVAN\"],[\"SHA-256D\"],[\"X11\"],[\"X11\"],[\"DPoS\"],[\"Scrypt\"],[\"X11\"],[\"Scrypt\"],[\"Scrypt\"],[\"SHA-256\"],[\"Scrypt\"],[\"X11\"],[\"Scrypt\"],[\"SHA-256\"],[\"X11\"],[\"Scrypt\"],[\"Scrypt\"],[\"X11\"],[\"Scrypt\"],[\"PoS\"],[\"X11\"],[\"SHA-256\"],[\"DPoS\"],[\"Scrypt\"],[\"Scrypt\"],[\"NeoScrypt\"],[\"X13\"],[\"DPoS\"],[\"DPoS\"],[\"SHA-256\"],[\"Leased POS\"],[\"PoS\"],[\"PoS\"],[\"SHA-256\"],[\"Scrypt\"],[\"Scrypt\"]],\"hovertemplate\":\"<b>%{hovertext}</b><br><br>Class=%{marker.color}<br>PC 1=%{x}<br>PC 2=%{y}<br>PC 3=%{z}<br>Algorithm=%{customdata[0]}<extra></extra>\",\"hovertext\":[\"42 Coin\",\"404Coin\",\"EliteCoin\",\"Dash\",\"Bitshares\",\"BitcoinDark\",\"PayCoin\",\"KoboCoin\",\"Aurora Coin\",\"BlueCoin\",\"EnergyCoin\",\"BitBar\",\"CryptoBullion\",\"CasinoCoin\",\"Diamond\",\"Exclusive Coin\",\"FlutterCoin\",\"HoboNickels\",\"HyperStake\",\"IOCoin\",\"MaxCoin\",\"MintCoin\",\"MazaCoin\",\"Nautilus Coin\",\"NavCoin\",\"OpalCoin\",\"Orbitcoin\",\"PotCoin\",\"PhoenixCoin\",\"Reddcoin\",\"SuperCoin\",\"SyncCoin\",\"TeslaCoin\",\"TittieCoin\",\"TorCoin\",\"UnitaryStatus Dollar\",\"UltraCoin\",\"VeriCoin\",\"X11 Coin\",\"Crypti\",\"StealthCoin\",\"ZCC Coin\",\"BurstCoin\",\"StorjCoin\",\"Neutron\",\"FairCoin\",\"RubyCoin\",\"Kore\",\"Dnotes\",\"8BIT Coin\",\"Sativa Coin\",\"Ucoin\",\"Vtorrent\",\"IslaCoin\",\"Nexus\",\"Droidz\",\"Squall Coin\",\"Diggits\",\"Paycon\",\"Emercoin\",\"EverGreenCoin\",\"Decred\",\"EDRCoin\",\"Hitcoin\",\"DubaiCoin\",\"PWR Coin\",\"BillaryCoin\",\"GPU Coin\",\"EuropeCoin\",\"ZeitCoin\",\"SwingCoin\",\"SafeExchangeCoin\",\"Nebuchadnezzar\",\"Ratecoin\",\"Revenu\",\"Clockcoin\",\"VIP Tokens\",\"BitSend\",\"Let it Ride\",\"PutinCoin\",\"iBankCoin\",\"Frankywillcoin\",\"MudraCoin\",\"Lutetium Coin\",\"GoldBlocks\",\"CarterCoin\",\"BitTokens\",\"MustangCoin\",\"ZoneCoin\",\"RootCoin\",\"BitCurrency\",\"Swiscoin\",\"BuzzCoin\",\"Opair\",\"PesoBit\",\"Halloween Coin\",\"CoffeeCoin\",\"RoyalCoin\",\"GanjaCoin V2\",\"TeamUP\",\"LanaCoin\",\"ARK\",\"InsaneCoin\",\"EmberCoin\",\"XenixCoin\",\"FreeCoin\",\"PLNCoin\",\"AquariusCoin\",\"Creatio\",\"Eternity\",\"Eurocoin\",\"BitcoinFast\",\"Stakenet\",\"BitConnect Coin\",\"MoneyCoin\",\"Enigma\",\"Russiacoin\",\"PandaCoin\",\"GameUnits\",\"GAKHcoin\",\"Allsafe\",\"LiteCreed\",\"Klingon Empire Darsek\",\"Internet of People\",\"KushCoin\",\"Printerium\",\"Impeach\",\"Zilbercoin\",\"FirstCoin\",\"FindCoin\",\"OpenChat\",\"RenosCoin\",\"VirtacoinPlus\",\"TajCoin\",\"Impact\",\"Atmos\",\"HappyCoin\",\"MacronCoin\",\"Condensate\",\"Independent Money System\",\"ArgusCoin\",\"LomoCoin\",\"ProCurrency\",\"GoldReserve\",\"GrowthCoin\",\"Phreak\",\"Degas Coin\",\"HTML5 Coin\",\"Ultimate Secure Cash\",\"QTUM\",\"Espers\",\"Denarius\",\"Virta Unique Coin\",\"Bitcoin Planet\",\"BritCoin\",\"Linda\",\"DeepOnion\",\"Signatum\",\"Cream\",\"Monoeci\",\"Draftcoin\",\"Stakecoin\",\"CoinonatX\",\"Ethereum Dark\",\"Obsidian\",\"Cardano\",\"Regalcoin\",\"TrezarCoin\",\"TerraNovaCoin\",\"Rupee\",\"WomenCoin\",\"Theresa May Coin\",\"NamoCoin\",\"LUXCoin\",\"Xios\",\"Bitcloud 2.0\",\"KekCoin\",\"BlackholeCoin\",\"Infinity Economics\",\"Magnet\",\"Lamden Tau\",\"Electra\",\"Bitcoin Diamond\",\"Cash & Back Coin\",\"Bulwark\",\"Kalkulus\",\"GermanCoin\",\"LiteCoin Ultra\",\"PhantomX\",\"Digiwage\",\"Trollcoin\",\"Litecoin Plus\",\"Monkey Project\",\"TokenPay\",\"1717 Masonic Commemorative Token\",\"My Big Coin\",\"Unified Society USDEX\",\"Tokyo Coin\",\"Stipend\",\"Pushi\",\"Ellerium\",\"Velox\",\"Ontology\",\"Bitspace\",\"Briacoin\",\"Ignition\",\"MedicCoin\",\"Bitcoin Green\",\"Deviant Coin\",\"Abjcoin\",\"Semux\",\"Carebit\",\"Zealium\",\"Proton\",\"iDealCash\",\"Bitcoin Incognito\",\"HollyWoodCoin\",\"Swisscoin\",\"Xt3ch\",\"TheVig\",\"EmaratCoin\",\"Dekado\",\"Lynx\",\"Poseidon Quark\",\"BitcoinWSpectrum\",\"Muse\",\"Trivechain\",\"Dystem\",\"Giant\",\"Peony Coin\",\"Absolute Coin\",\"Vitae\",\"TPCash\",\"ARENON\",\"EUNO\",\"MMOCoin\",\"Ketan\",\"XDNA\",\"PAXEX\",\"ThunderStake\",\"Kcash\",\"Bettex coin\",\"BitMoney\",\"Junson Ming Chan Coin\",\"HerbCoin\",\"Oduwa\",\"Galilel\",\"Crypto Sports\",\"Credit\",\"Dash Platinum\",\"Nasdacoin\",\"Beetle Coin\",\"Titan Coin\",\"Award\",\"Insane Coin\",\"ALAX\",\"LiteDoge\",\"TruckCoin\",\"OrangeCoin\",\"BitstarCoin\",\"NeosCoin\",\"HyperCoin\",\"PinkCoin\",\"AudioCoin\",\"IncaKoin\",\"Piggy Coin\",\"Genstake\",\"XiaoMiCoin\",\"CapriCoin\",\" ClubCoin\",\"Radium\",\"Creditbit \",\"OKCash\",\"Lisk\",\"HiCoin\",\"WhiteCoin\",\"FriendshipCoin\",\"Triangles Coin\",\"EOS\",\"Oxycoin\",\"TigerCash\",\"Waves\",\"Particl\",\"Nxt\",\"ZEPHYR\",\"Gapcoin\",\"BitcoinPlus\"],\"legendgroup\":\"0\",\"marker\":{\"color\":[0,0,0,0,0,0,0,0,0,0,0,0,0,0,0,0,0,0,0,0,0,0,0,0,0,0,0,0,0,0,0,0,0,0,0,0,0,0,0,0,0,0,0,0,0,0,0,0,0,0,0,0,0,0,0,0,0,0,0,0,0,0,0,0,0,0,0,0,0,0,0,0,0,0,0,0,0,0,0,0,0,0,0,0,0,0,0,0,0,0,0,0,0,0,0,0,0,0,0,0,0,0,0,0,0,0,0,0,0,0,0,0,0,0,0,0,0,0,0,0,0,0,0,0,0,0,0,0,0,0,0,0,0,0,0,0,0,0,0,0,0,0,0,0,0,0,0,0,0,0,0,0,0,0,0,0,0,0,0,0,0,0,0,0,0,0,0,0,0,0,0,0,0,0,0,0,0,0,0,0,0,0,0,0,0,0,0,0,0,0,0,0,0,0,0,0,0,0,0,0,0,0,0,0,0,0,0,0,0,0,0,0,0,0,0,0,0,0,0,0,0,0,0,0,0,0,0,0,0,0,0,0,0,0,0,0,0,0,0,0,0,0,0,0,0,0,0,0,0,0,0,0,0,0,0,0,0,0,0,0,0,0,0,0,0,0,0,0,0,0,0,0,0,0,0,0,0,0,0,0,0,0,0,0,0,0,0],\"coloraxis\":\"coloraxis\",\"symbol\":\"circle\"},\"mode\":\"markers\",\"name\":\"0\",\"scene\":\"scene\",\"showlegend\":true,\"x\":[-0.3420560427433278,-0.32541726651373126,2.30200955882859,-0.399505182640939,-0.2811506417591649,-0.3090384297090552,-0.2515586687301772,-0.23722768994186147,-0.34171613152869584,-0.334302820429006,-0.340554473726228,-0.3420519866302938,-0.34203628984506795,0.6493885798248837,-0.374427981129357,-0.3269244556036742,-0.31771692746239216,-0.34011786742316236,-0.32187396681010605,-0.399400009017485,-0.4524173864722175,-0.02481857987979992,-0.27240305791879954,-0.2843278165171514,-0.2770445139882807,-0.2776659532009192,-0.35177912144859447,-0.3363676115459338,-0.34046029102837827,0.01564238936152348,-0.34173597226206887,-0.39977100277432903,-0.237656106394814,-0.29179797019479253,-0.3996828056075769,-0.31732737911758524,-0.34073561433288424,-0.2959011920821464,-0.39964730136021054,-0.23812272789736713,-0.27744708771172244,-0.33317555263125304,-0.016651730743170418,-0.30894550344235605,-0.3082513673550057,-0.37385023605249745,-0.28430801322291077,-0.27774131132766283,-0.2789713548290049,-0.3420381334636463,-0.27769354515729044,-0.3421803741900332,-0.3417729514379515,-0.39975255451665853,-0.4983417053352011,-0.43298973914747935,-0.44135153831468976,-0.282712066994117,-0.27721598977056483,-0.30160963492213344,-0.23966437158284956,-0.08652479191045405,-0.3090093796449831,-0.07776273215620975,-0.3090729332985111,-0.23421719580411957,-0.34164910385886266,-0.2825819266466719,-0.3969273284926702,0.866872299627256,-0.3088734025471696,-0.08027238988948239,-0.32660822900417324,-0.39759862387393596,-0.3076194863474596,-0.3052922351273407,-0.35542617574595714,-0.39849006126220554,-0.3248558324553634,-0.31798544123273254,-0.34168716699197005,-0.3401284015545615,-0.21895859007002208,-0.3296900817207015,-0.3992273809479687,-0.3408926241594059,-0.30905396550431047,-0.3997417756633829,-0.341875969178719,-0.3420323736968682,-0.2825703252136323,-0.25420504758957013,0.03168872967078095,-0.3255668898262086,-0.34164700800139775,-0.38592936134027434,-0.32489617625873185,-0.22038635792688535,-0.41500169777911794,-0.3246468356945907,-0.28238061392023206,3.7634457425634453,-0.39933496858345924,0.8530676687728956,-0.3996967458651526,-0.3260299364046622,-0.3415748607043828,-0.3417290145199559,-0.32660822900417324,-0.3992724805780716,-0.3089168029819996,-0.34157556571453523,-0.38868864990730356,-0.3417227469795939,-0.337319604103967,-0.3997257100504985,-0.3409350534616628,0.3579720017362192,-0.34192169546651824,-0.3419921270115908,-0.3345398492902917,-0.3612033711050176,-0.33822624379808613,-0.3090304083857386,-0.3996357965096194,-0.34177030360563476,-0.34189711007999957,-0.2842149361843219,-0.29877763723802014,-0.22015456422973909,-0.3227796235692249,-0.2839562760243901,-0.3989029403775826,-0.40740981233084067,-0.39764292623724834,-0.3248574402218055,-0.39880095195555715,-0.31926584596593083,-0.394749121803013,-0.34184046289960546,-0.3418396938175524,-0.3349751776117535,0.28004074177951344,-0.3992785143290877,-0.26688903766456656,-0.3266425348442062,-0.3410525809492122,0.8928206706924727,-0.25025171441733374,-0.32363605461514133,0.5872464202977367,-0.35695949220772716,-0.3554641683327609,-0.411664084991266,-0.2773791370558263,0.12204533782636046,-0.27744976179905034,-0.32785080885706314,-0.41116958314979735,-0.3995503966978108,-0.28428884328768533,-0.32650914550097776,-0.3414762566775867,-0.3419750825890006,-0.3391239265794441,0.686601409794117,-0.39949139222911945,-0.34678669339308105,-0.341930815063748,-0.29010414262394657,0.42609884235487844,-0.3073791521873782,-0.34175162054263136,-0.38475550232920136,-0.3418812437344897,-0.39040095479757625,-0.3205145177755866,-0.34175176984707206,-0.07830568649906175,-0.3982861719633782,3.768293716671772,0.2016784452282267,-0.27412576642507824,-0.3392162401036007,-0.29930708051127236,-0.33442592130629556,0.0716106433153362,-0.3408920981445385,-0.3988660857851887,-0.33359223191289206,-0.3284772993591695,-0.34199718561590003,-0.34215234381477966,-0.3251373541397063,-0.26956723645621933,-0.3021801500040804,-0.33754918496397013,-0.211964711276352,-0.36455474143530364,-0.3995677040045065,-0.3825346766495493,-0.28345044164309235,-0.30137991852644114,-0.3565591647231068,-0.3420245010768461,-0.34200624549835323,-0.27784085244170753,-0.31964126829075573,-0.3261042475113246,-0.3417232421196376,3.9448527338959005,-0.38907063220941485,-0.32629263976670797,-0.30132412920268026,-0.2886863961898436,-0.4242671806356762,-0.2839834779693023,-0.1454365597191164,-0.2842353207006373,-0.34757493849832277,-0.3411982155952712,-0.1815929382026307,2.2182893759442393,-0.330142564748536,-0.2503787447983512,1.0523472059948038,-0.3580780411151785,-0.33453931802671605,-0.3920819698741485,-0.165204959596178,-0.34744900609289486,-0.3332608618709768,-0.334915343106148,-0.34173045765894017,-0.39904182729563437,-0.2814853725391306,-0.3253942502892868,-0.3444871092206362,-0.34159224908823116,-0.20177707763807215,-0.38000159879810447,-0.3251113880182538,0.3364659999135065,-0.13236513997855998,-0.3913777351411153,-0.34172716292801325,-0.39183310097532453,-0.33465610882827335,0.5632610614970561,-0.34220658454773617,-0.34121106163743226,-0.3769995212749911,-0.30237706067649145,-0.39661147048281153,-0.39926867519499376,3.7805175724227555,0.09247650858258748,-0.39681121869811037,-0.34059793144666034,-0.34142112651313916,-0.2515913033438002,-0.341938526974633,-0.39090940532628154,-0.2558044500202641,-0.0889712619540388,-0.3866657050671165,-0.34121782278402824,-0.3342928074145888,-0.39584249504039054,-0.3396597227647649,-0.32688345899611265,-0.38680620123816367,-0.3075557788823605,3.7638368842689003,-0.0918100136403054,-0.3368587290992209,-0.3514057441170234,-0.2778483192341917,3.773693484489007,3.774936073692889,-0.23251704624670472,-0.35237533793145814,-0.3268194032508213,-0.325241704181842,2.496003252983702,-0.3401051688024697,-0.2846310684256542],\"y\":[1.045991328387052,1.0462153562346033,1.654423747488611,1.2860386901162293,1.6130782636697785,0.8127145065786743,0.5668906162141073,1.865785836499184,1.0459917984528104,1.0462682517919157,1.0460449602540025,1.0459911252980678,1.0459913379520445,0.5118171275626779,0.9231342764970165,1.491246939219166,0.409080727324211,1.045977036717922,1.040943253032429,1.2860424466233502,2.1721782356972192,0.8094386434586398,0.8123546103571004,0.8001584397057031,1.7809564870294579,1.7809342909621273,0.5537980410670275,1.0459021906246897,1.0459801179193853,1.0587673140982377,1.0402338378533464,1.2860445066830721,0.08375512718790724,1.5244540423060193,1.2860406977105618,1.0457609951243292,1.0459688921776065,0.3735620581764955,1.2860450977436584,0.08380805901686783,1.7809421082241146,1.0456125322238785,0.9710797907070031,1.4794182424246145,0.8127106030494287,0.9231579603352306,0.8001704080193571,1.7809232475920218,0.8000130272957283,1.04599196808557,1.7809263456306115,1.040204045413445,1.0459875199961557,1.286045166299124,2.5669966584756856,1.945004931671978,1.0888502517331586,0.8001578125051184,1.7809155632742577,0.8122991715102055,1.8659240959585468,0.9148780582952734,0.8127155441655614,1.2790674073814767,0.8127212780049148,1.5248044276373043,1.0459766318715147,0.8000782102504949,1.2858788182087133,0.7723850839638655,0.812707873203001,0.5121003680664221,1.4912443142988958,1.2860698999849896,0.8126254861892472,0.8124982309970945,1.5204125440981635,1.2859935174648294,1.4774576546173857,1.045459098023528,1.0459736484043214,1.0459905801165668,1.535008438790595,1.0402068228628107,1.286029124906648,1.0459702440507133,0.812714647666016,1.2860434633423143,1.0459831445087089,1.0459921738082998,0.8002324733658439,0.3349423868944661,1.94756323760775,1.4912439249659666,1.046005937991102,1.2854949184026259,1.4912915444482806,1.5350948993641884,2.0414410414171122,1.491118798713235,1.9450411650071746,1.7578845349268184,1.2860392018260827,1.8207293424384288,1.2860444777800975,1.491244089817656,1.045981691728111,1.0459737776866196,1.4912443142988958,1.286020554250085,0.8127202427093827,1.0459855222897032,0.8744269509638789,1.0459837452994099,1.045707652930488,1.286042645196159,1.0459311455445166,0.8004810400225998,1.045987079153159,1.045991303576286,1.4451514960192235,0.5801496683462877,1.045780126895545,0.8127154890602818,1.2860428263484562,1.0459876145693068,1.0459817398315987,0.8001354534375359,0.31362569280279856,1.5350948093866634,1.0459838456793653,0.8001590109014591,1.28600591389395,1.9053652447955858,1.2860439582441856,1.491244007295154,1.2860095566346017,1.4912420903290924,1.2858758836879338,1.04598426506102,1.0459791506966076,1.0455482546623347,0.5336878762062228,1.286034258389707,0.7994006001862214,1.4912361291662681,1.0459540911061735,1.843753173905339,0.5668067416553845,1.477454938833278,1.8491215483658936,1.5204134569238836,1.5203903076369711,1.9205800562100077,1.7809236557586865,1.0277686085120508,1.7809288599069477,1.4621471419933116,1.9205977184301328,1.2860457699165122,0.8001589785215361,1.4912189004398806,1.0459784542064332,1.0459912969599932,1.6134499490380687,1.4265205277303747,1.2860357027590217,0.5537005874954932,1.0459848510749976,0.6185869305378408,1.0560281080762615,0.8127194846938861,1.5201284204116319,1.7705763785403998,1.0459829561163565,1.690911055307735,1.4646788643406632,1.045991903811491,0.5668235853091439,1.2859973199071872,1.7577966975717392,1.5194939260533171,1.7809145802065853,1.0459466019019583,1.274576791217539,1.4451520852954969,1.0259672225480279,1.0459285038935882,1.2860420293574715,1.44511226410303,1.0458499389072062,1.0459906466982904,1.0402043505974896,1.4774535153022048,-0.1035333058783387,0.4101728787234414,1.0459908328271315,1.5348406510944161,0.9066522087681341,1.2860343690810698,1.6087658999274967,0.8001147362537082,1.4998879184361469,1.5203999162032684,1.045990367048982,1.045989627122261,0.8000534056732028,1.4557104104152108,1.4912149883013825,1.0459823356495646,1.7463403418492336,1.690958570702865,1.4912138273172382,0.5914601976442703,1.044332754663387,1.4115933597087378,0.8001639039664395,1.04591500476575,0.8001423811662987,1.9478670521811299,1.0459635050754175,1.6200703911694738,0.34885419899422787,1.444866605867801,0.5668716788392825,1.5943000452802216,0.8372904933882281,1.445147339099979,1.6909866256371884,0.7926762521883981,0.864402415397578,1.4451380193606906,1.0455503917832114,1.0401957557866903,1.286035752363167,0.8000902694073032,1.4911554375580245,0.9069015725139594,1.0401693730008827,1.0384740165011155,1.9605623490117083,1.362940340520123,1.4769208600123427,1.0477119773009604,1.6909777808835125,1.0459884594510112,1.6909858508217577,1.445148478005636,1.0262672339306036,1.0402033180476367,1.0459630462507876,1.6086573679047071,1.9460710798935053,1.2858650444048132,1.2860415696401566,1.7578853082389718,1.0371522290123345,1.2861502225725956,1.0459042115829946,1.0459762445401841,0.5668835347466267,1.0459955257502485,1.2860130276011477,1.0417641782634155,0.8204577641112215,1.285816609475543,1.046010827548214,1.0459902164627184,1.2860400583248452,1.0459655610647431,1.4912421396613753,0.8988894412964249,0.8127096961711947,1.757874202820151,0.8000799235655899,1.0459681671716596,0.5537721249419035,1.7809276938405405,1.7583375533549082,1.7583819351593908,0.5668834469775154,2.9119305976940066,1.491244682185232,1.5990192474436329,0.7304686239364084,1.045887012563115,0.8001581734103389],\"z\":[-0.4807720037054299,-0.4810953951146536,-0.5487628404455863,-0.44855194590442954,-0.15047612855153608,-0.33044226955548905,-0.1289641334244174,-0.5078358526741007,-0.48077751123120754,-0.48096886821050566,-0.4808101305226818,-0.480772013574549,-0.48077231900780104,-0.29203612695898445,-0.3131329620608271,-0.22313100655541618,-0.393999390488214,-0.4807988656324802,-0.2475878098964633,-0.4485546164008586,-0.46925690390382996,-0.2858876873396919,-0.33092599332818295,-0.27929539334903347,-0.5417917835603138,-0.5417760044025375,-0.30443743151711616,-0.4808382123104678,-0.4807942687119914,-0.4898544366875562,-0.24708348749227732,-0.44854929386044023,0.032537335415788626,-0.32536354512542853,-0.44854967091379094,-0.4811018849913857,-0.4807869053767334,-0.37411646770851087,-0.4485514105719229,0.032530557800531365,-0.5417815616847551,-0.48081123353994415,-0.22816350294939708,-0.29793837108579474,-0.3304536862582462,-0.31314844757487403,-0.2792989098267165,-0.5417718558709627,-0.27934128585201534,-0.4807724584533844,-0.5417734412317231,-0.2470684783940624,-0.48077546662368453,-0.4485497624721887,-0.23740522757488985,-0.47241629952069303,-0.07243261273299072,-0.2793208072494568,-0.5417781166909716,-0.3304487365958616,-0.5078342740459555,-0.29441815481742833,-0.33044300717476865,-0.4517803708414183,-0.33044353542506266,-0.4811637902558166,-0.48077451361180323,-0.279301564725561,-0.4485499757989576,-0.2900893993085229,-0.3304431071772196,-0.2805593909622009,-0.223135310814485,-0.4485904842890388,-0.330440911858247,-0.33044370284331964,-0.47806937189206455,-0.4485559290442331,-0.22846044398406853,-0.4810106729378391,-0.4807731125381376,-0.48080232330665773,-0.34029001776022416,-0.24726697730893918,-0.4485537844448122,-0.4807847812658337,-0.3304420613387241,-0.44854947738898865,-0.48077266461046775,-0.48077260470142763,-0.2793430320074642,-0.3441291948549894,-0.6444020576425553,-0.22315169387991207,-0.4807823896425554,-0.4486213652809602,-0.22317505695160522,-0.34029055068847114,-0.6899351547342658,-0.2231327748146059,-0.6387545254865299,-0.4278413477043959,-0.4485547778030559,-0.570328497254845,-0.4485504618162099,-0.22314440669867344,-0.4807770431938851,-0.48077248457516736,-0.223135310814485,-0.448550776731168,-0.3304457303327883,-0.48077805715919286,-0.27577821490204046,-0.48077525132097493,-0.48077107784978595,-0.44854951280103894,-0.4807736460261808,-0.28955109644660953,-0.4807729936198094,-0.4807730090271199,-0.2790639332130374,-0.23916474557375492,-0.480776118598116,-0.33044265948490337,-0.44855098485885975,-0.48077553385562477,-0.48077195397496597,-0.2792910290135445,-0.22931029615616372,-0.34029419653942417,-0.4810751998323204,-0.2793014287173322,-0.44855270954297644,-0.6340380293645826,-0.44858284038203455,-0.22316294844757062,-0.44855529916295783,-0.2232509657203752,-0.448583677459824,-0.4807735266524037,-0.4807721701326786,-0.48076553869815225,-0.12849515781849377,-0.44855434867591426,-0.2793686855324642,-0.22313257716934634,-0.4807779258906545,-0.5198312815776475,-0.12896237975044597,-0.22847902962297656,-0.6212335885626923,-0.478045339571755,-0.47806281948597484,-0.5966609921781119,-0.541777699316738,-0.4832432732712045,-0.5417779738573547,-0.1616460416963161,-0.5966735482293207,-0.448553124724371,-0.27929615459910945,-0.22313007837009546,-0.48077773794697687,-0.4807732771164816,-0.1496577220257857,-0.09311828147530146,-0.448551364773695,-0.30449039502077396,-0.4807722529575406,-0.11078416051746971,-0.4956200280908733,-0.3304698727075017,-0.4782098410048593,-0.5263598402543945,-0.4807725306825694,-0.48055048094457536,-0.07362712885029737,-0.48077697517467854,-0.13168926507955012,-0.4485601747739064,-0.427894597578926,-0.48664402865177936,-0.5418267803233864,-0.48080499596103593,-0.27656651806302845,-0.279065894706776,-0.48196267013917393,-0.4807736191732151,-0.4485629582035021,-0.27906843742735593,-0.48094915410901684,-0.48077275314309575,-0.24706900386462352,-0.22845487896734992,0.05496331847477387,-0.2166104005223814,-0.48084322701588794,-0.34035584703993865,-0.4253294625268422,-0.44854979963245484,-0.17874971090063405,-0.2792975887678443,-0.3439737540330878,-0.4780480541131419,-0.480772245825148,-0.4807723368433009,-0.27936999079237396,-0.310271853065582,-0.22313544205782218,-0.48077486623375787,-0.3733523706467479,-0.48058425958226797,-0.22313214859087682,-0.05414949372584862,-0.4811731274030687,0.19736356504976063,-0.2793023075085422,-0.4838646043168729,-0.2792925602561882,-0.638478578862703,-0.4807781394428113,-0.30635752683414375,-0.2800005611124602,-0.2790573125426436,-0.12897774687551813,-0.31986733954050967,-0.2556408362356635,-0.2790628291576344,-0.48054408984782737,-0.27917906651238755,-0.31226218298135733,-0.2790805764975336,-0.48076705797483316,-0.24707338335386897,-0.4485584958957419,-0.2793221534358768,-0.2231307464071506,-0.35542531284094137,-0.24706851106437566,-0.48098123622464517,-0.008974400293706317,0.02272976600877038,0.6301573903394746,-0.2523996879010954,-0.4805528728009435,-0.4807764429966079,-0.4805478227710908,-0.27906128483037157,-0.4898271344507897,-0.24706786875590112,-0.48077781326492947,-0.17880830247379434,-0.6387135506870504,-0.44855129057936394,-0.44855646107925545,-0.42811184859041984,-0.4852863440691386,-0.44862444685162434,-0.4807717755779961,-0.4807780194621801,-0.1289617216001329,-0.4807749875929586,-0.44868117290405896,-0.4810063413863477,-0.3359987727132437,-0.4486957972868804,-0.48079049335668805,-0.480894619461915,-0.44861030246163497,-0.4808030482278432,-0.22313037119580098,-0.26964681327256745,-0.3304644566363411,-0.42784477549279787,-0.2823224663457809,-0.4808480930884338,-0.3044364074815503,-0.5417713515385448,-0.42812483351581054,-0.42815638448765125,-0.12926369596564624,0.5282040544037271,-0.2231320657994637,-0.22394259020416374,-0.23751372239736726,-0.4807749745946796,-0.279290520773354],\"type\":\"scatter3d\"},{\"customdata\":[[\"SHA-256\"],[\"Ethash\"],[\"Scrypt\"],[\"CryptoNight-V7\"],[\"Ethash\"],[\"Equihash\"],[\"Multiple\"],[\"Scrypt\"],[\"X11\"],[\"Scrypt\"],[\"Multiple\"],[\"Scrypt\"],[\"SHA-256\"],[\"Scrypt\"],[\"Scrypt\"],[\"Quark\"],[\"Groestl\"],[\"Scrypt\"],[\"Scrypt\"],[\"Scrypt\"],[\"X11\"],[\"Multiple\"],[\"SHA-256\"],[\"Scrypt\"],[\"Scrypt\"],[\"Scrypt\"],[\"Scrypt\"],[\"Scrypt\"],[\"NeoScrypt\"],[\"Scrypt\"],[\"Scrypt\"],[\"Scrypt\"],[\"Scrypt\"],[\"SHA-256\"],[\"Scrypt\"],[\"Scrypt\"],[\"Scrypt\"],[\"Scrypt\"],[\"HybridScryptHash256\"],[\"Scrypt\"],[\"Scrypt\"],[\"SHA-256\"],[\"Scrypt\"],[\"Scrypt\"],[\"Scrypt\"],[\"Scrypt\"],[\"SHA-256\"],[\"SHA-256\"],[\"SHA-256\"],[\"SHA-256\"],[\"SHA-256\"],[\"X11\"],[\"Scrypt\"],[\"Lyra2REv2\"],[\"Scrypt\"],[\"SHA-256\"],[\"CryptoNight\"],[\"CryptoNight\"],[\"Scrypt\"],[\"Scrypt\"],[\"Scrypt\"],[\"Scrypt\"],[\"Scrypt\"],[\"Scrypt\"],[\"Stanford Folding\"],[\"Multiple\"],[\"QuBit\"],[\"Scrypt\"],[\"Scrypt\"],[\"M7 POW\"],[\"Scrypt\"],[\"SHA-256\"],[\"Scrypt\"],[\"X11\"],[\"Lyra2RE\"],[\"SHA-256\"],[\"X11\"],[\"Scrypt\"],[\"Scrypt\"],[\"Ethash\"],[\"Blake2b\"],[\"X11\"],[\"SHA-256\"],[\"Scrypt\"],[\"1GB AES Pattern Search\"],[\"Scrypt\"],[\"SHA-256\"],[\"X11\"],[\"Dagger\"],[\"Scrypt\"],[\"X11GOST\"],[\"Scrypt\"],[\"X11\"],[\"Scrypt\"],[\"X11\"],[\"Equihash\"],[\"CryptoNight\"],[\"SHA-256\"],[\"Multiple\"],[\"Scrypt\"],[\"SHA-256\"],[\"Scrypt\"],[\"Lyra2Z\"],[\"Ethash\"],[\"Equihash\"],[\"Scrypt\"],[\"X11\"],[\"X11\"],[\"CryptoNight\"],[\"Scrypt\"],[\"CryptoNight\"],[\"Lyra2RE\"],[\"X11\"],[\"CryptoNight-V7\"],[\"Scrypt\"],[\"X11\"],[\"Equihash\"],[\"Scrypt\"],[\"Lyra2RE\"],[\"Dagger-Hashimoto\"],[\"Scrypt\"],[\"NIST5\"],[\"Scrypt\"],[\"SHA-256\"],[\"Scrypt\"],[\"CryptoNight-V7\"],[\"Argon2d\"],[\"Blake2b\"],[\"Cloverhash\"],[\"CryptoNight\"],[\"X11\"],[\"Scrypt\"],[\"Scrypt\"],[\"X11\"],[\"X11\"],[\"CryptoNight\"],[\"Time Travel\"],[\"Scrypt\"],[\"Keccak\"],[\"X11\"],[\"SHA-256\"],[\"Scrypt\"],[\"Scrypt\"],[\"Scrypt\"],[\"Scrypt\"],[\"Scrypt\"],[\"Scrypt\"],[\"CryptoNight\"],[\"Equihash\"],[\"X11\"],[\"NeoScrypt\"],[\"Equihash\"],[\"Dagger\"],[\"Scrypt\"],[\"X11\"],[\"NeoScrypt\"],[\"Ethash\"],[\"NeoScrypt\"],[\"Multiple\"],[\"CryptoNight\"],[\"CryptoNight\"],[\"Ethash\"],[\"X11\"],[\"CryptoNight-V7\"],[\"Scrypt\"],[\"BLAKE256\"],[\"X11\"],[\"NeoScrypt\"],[\"NeoScrypt\"],[\"Scrypt\"],[\"X11\"],[\"SHA-256\"],[\"C11\"],[\"CryptoNight\"],[\"SkunkHash\"],[\"CryptoNight\"],[\"Scrypt\"],[\"Dagger\"],[\"Lyra2REv2\"],[\"Scrypt\"],[\"Scrypt\"],[\"X11\"],[\"Ethash\"],[\"CryptoNight\"],[\"Scrypt\"],[\"IMesh\"],[\"Equihash\"],[\"Lyra2Z\"],[\"X11\"],[\"CryptoNight\"],[\"NIST5\"],[\"Lyra2RE\"],[\"Tribus\"],[\"Lyra2Z\"],[\"CryptoNight\"],[\"CryptoNight Heavy\"],[\"CryptoNight\"],[\"Jump Consistent Hash\"],[\"CryptoNight\"],[\"X16R\"],[\"HMQ1725\"],[\"X11\"],[\"Scrypt\"],[\"CryptoNight-V7\"],[\"Cryptonight-GPU\"],[\"XEVAN\"],[\"CryptoNight Heavy\"],[\"SHA-256\"],[\"X11\"],[\"X16R\"],[\"Equihash\"],[\"Lyra2Z\"],[\"SHA-256\"],[\"CryptoNight\"],[\"Blake\"],[\"Blake\"],[\"Equihash\"],[\"Exosis\"],[\"Scrypt\"],[\"Equihash\"],[\"Equihash\"],[\"QuBit\"],[\"SHA-256\"],[\"X13\"],[\"SHA-256\"],[\"Scrypt\"],[\"NeoScrypt\"],[\"Blake\"],[\"Scrypt\"],[\"SHA-256\"],[\"Scrypt\"],[\"Groestl\"],[\"Scrypt\"],[\"Scrypt\"],[\"Multiple\"],[\"Equihash+Scrypt\"],[\"Ethash\"],[\"CryptoNight\"],[\"Equihash\"]],\"hovertemplate\":\"<b>%{hovertext}</b><br><br>Class=%{marker.color}<br>PC 1=%{x}<br>PC 2=%{y}<br>PC 3=%{z}<br>Algorithm=%{customdata[0]}<extra></extra>\",\"hovertext\":[\"Bitcoin\",\"Ethereum\",\"Litecoin\",\"Monero\",\"Ethereum Classic\",\"ZCash\",\"DigiByte\",\"ProsperCoin\",\"Spreadcoin\",\"Argentum\",\"MyriadCoin\",\"MoonCoin\",\"ZetaCoin\",\"SexCoin\",\"Quatloo\",\"QuarkCoin\",\"Riecoin\",\"Digitalcoin \",\"Catcoin\",\"CannaCoin\",\"CryptCoin\",\"Verge\",\"DevCoin\",\"EarthCoin\",\"E-Gulden\",\"Einsteinium\",\"Emerald\",\"Franko\",\"FeatherCoin\",\"GrandCoin\",\"GlobalCoin\",\"GoldCoin\",\"Infinite Coin\",\"IXcoin\",\"KrugerCoin\",\"LuckyCoin\",\"Litebar \",\"MegaCoin\",\"MediterraneanCoin\",\"MinCoin\",\"NobleCoin\",\"Namecoin\",\"NyanCoin\",\"RonPaulCoin\",\"StableCoin\",\"SmartCoin\",\"SysCoin\",\"TigerCoin\",\"TerraCoin\",\"UnbreakableCoin\",\"Unobtanium\",\"UroCoin\",\"ViaCoin\",\"Vertcoin\",\"WorldCoin\",\"JouleCoin\",\"ByteCoin\",\"DigitalNote \",\"MonaCoin\",\"Gulden\",\"PesetaCoin\",\"Wild Beast Coin\",\"Flo\",\"ArtByte\",\"Folding Coin\",\"Unitus\",\"CypherPunkCoin\",\"OmniCron\",\"GreenCoin\",\"Cryptonite\",\"MasterCoin\",\"SoonCoin\",\"1Credit\",\"MarsCoin \",\"Crypto\",\"Anarchists Prime\",\"BowsCoin\",\"Song Coin\",\"BitZeny\",\"Expanse\",\"Siacoin\",\"MindCoin\",\"I0coin\",\"Revolution VR\",\"HOdlcoin\",\"Gamecredits\",\"CarpeDiemCoin\",\"Adzcoin\",\"SoilCoin\",\"YoCoin\",\"SibCoin\",\"Francs\",\"BolivarCoin\",\"Omni\",\"PizzaCoin\",\"Komodo\",\"Karbo\",\"ZayedCoin\",\"Circuits of Value\",\"DopeCoin\",\"DollarCoin\",\"Shilling\",\"ZCoin\",\"Elementrem\",\"ZClassic\",\"KiloCoin\",\"ArtexCoin\",\"Kurrent\",\"Cannabis Industry Coin\",\"OsmiumCoin\",\"Bikercoins\",\"HexxCoin\",\"PacCoin\",\"Citadel\",\"BeaverCoin\",\"VaultCoin\",\"Zero\",\"Canada eCoin\",\"Zoin\",\"DubaiCoin\",\"EB3coin\",\"Coinonat\",\"BenjiRolls\",\"ILCoin\",\"EquiTrader\",\"Quantum Resistant Ledger\",\"Dynamic\",\"Nano\",\"ChanCoin\",\"Dinastycoin\",\"DigitalPrice\",\"Unify\",\"SocialCoin\",\"ArcticCoin\",\"DAS\",\"LeviarCoin\",\"Bitcore\",\"gCn Coin\",\"SmartCash\",\"Onix\",\"Bitcoin Cash\",\"Sojourn Coin\",\"NewYorkCoin\",\"FrazCoin\",\"Kronecoin\",\"AdCoin\",\"Linx\",\"Sumokoin\",\"BitcoinZ\",\"Elements\",\"VIVO Coin\",\"Bitcoin Gold\",\"Pirl\",\"eBoost\",\"Pura\",\"Innova\",\"Ellaism\",\"GoByte\",\"SHIELD\",\"UltraNote\",\"BitCoal\",\"DaxxCoin\",\"AC3\",\"Lethean\",\"PopularCoin\",\"Photon\",\"Sucre\",\"SparksPay\",\"GunCoin\",\"IrishCoin\",\"Pioneer Coin\",\"UnitedBitcoin\",\"Interzone\",\"TurtleCoin\",\"MUNcoin\",\"Niobio Cash\",\"ShareChain\",\"Travelflex\",\"KREDS\",\"BitFlip\",\"LottoCoin\",\"Crypto Improvement Fund\",\"Callisto Network\",\"BitTube\",\"Poseidon\",\"Aidos Kuneen\",\"Bitrolium\",\"Alpenschillling\",\"FuturoCoin\",\"Monero Classic\",\"Jumpcoin\",\"Infinex\",\"KEYCO\",\"GINcoin\",\"PlatinCoin\",\"Loki\",\"Newton Coin\",\"MassGrid\",\"PluraCoin\",\"Motion\",\"PlusOneCoin\",\"Axe\",\"HexCoin\",\"Webchain\",\"Ryo\",\"Urals Coin\",\"Qwertycoin\",\"Project Pai\",\"Azart\",\"Xchange\",\"CrypticCoin\",\"Actinium\",\"Bitcoin SV\",\"FREDEnergy\",\"Universal Molecule\",\"Lithium\",\"PirateCash\",\"Exosis\",\"Block-Logic\",\"Beam\",\"Bithereum\",\"SLICE\",\"BLAST\",\"Bitcoin Rhodium\",\"GlobalToken\",\"SolarCoin\",\"UFO Coin\",\"BlakeCoin\",\"Crypto Escudo\",\"Crown Coin\",\"SmileyCoin\",\"Groestlcoin\",\"Bata\",\"Pakcoin\",\"JoinCoin\",\"Vollar\",\"Reality Clash\",\"Beldex\",\"Horizen\"],\"legendgroup\":\"2\",\"marker\":{\"color\":[2,2,2,2,2,2,2,2,2,2,2,2,2,2,2,2,2,2,2,2,2,2,2,2,2,2,2,2,2,2,2,2,2,2,2,2,2,2,2,2,2,2,2,2,2,2,2,2,2,2,2,2,2,2,2,2,2,2,2,2,2,2,2,2,2,2,2,2,2,2,2,2,2,2,2,2,2,2,2,2,2,2,2,2,2,2,2,2,2,2,2,2,2,2,2,2,2,2,2,2,2,2,2,2,2,2,2,2,2,2,2,2,2,2,2,2,2,2,2,2,2,2,2,2,2,2,2,2,2,2,2,2,2,2,2,2,2,2,2,2,2,2,2,2,2,2,2,2,2,2,2,2,2,2,2,2,2,2,2,2,2,2,2,2,2,2,2,2,2,2,2,2,2,2,2,2,2,2,2,2,2,2,2,2,2,2,2,2,2,2,2,2,2,2,2,2,2,2,2,2,2,2,2,2,2,2,2,2,2,2,2,2,2,2,2,2,2,2,2,2,2,2,2,2,2,2,2,2,2,2,2,2,2,2,2,2,2,2,2],\"coloraxis\":\"coloraxis\",\"symbol\":\"diamond\"},\"mode\":\"markers\",\"name\":\"2\",\"scene\":\"scene\",\"showlegend\":true,\"x\":[-0.13912545501960183,-0.15598380067843465,-0.17097554569164564,-0.15381901314937102,-0.15442884975254303,-0.12875823667192973,0.16070262327519108,-0.17212005605601774,-0.22977644920031282,-0.17173729318049688,-0.09229316752434802,2.544370795700194,-0.13621472716554217,-0.16899702478783302,-0.17154175526717272,-0.21755911113027232,-0.20358339931310407,-0.17159018611314644,-0.1721023435646468,-0.17218865152318313,-0.22986567243559872,0.18444717848005446,0.23814943089236493,0.07616705570316697,-0.1719352965382611,-0.16754744848615996,-0.17187472350993835,-0.1722455750900798,-0.17720482632653148,-0.1515007318161992,-0.1710424596236899,-0.17131958324798638,1.5740528212717846,-0.13908687126382696,-0.16861330728118054,-0.17196170067283553,-0.17231598329116107,-0.17157635137991734,-0.1469738429094713,-0.17219744049523442,-0.03734760788265887,-0.13916438775491918,-0.16587080678114277,-0.17217696643603897,-0.17027485248275143,-0.17166449513002555,-0.12633673681554794,-0.13862894665025613,-0.13891577636805852,-0.13889898787999216,-0.1394885461415156,-0.23003925852877774,-0.1718938102574278,-0.17704739237630102,-0.16900181662077315,-0.13869614897494598,3.8553259458239193,0.45936166278172896,-0.17076322185570508,-0.15538932131143382,-0.1694839242253077,-0.17231819685266558,-0.16934909253356067,-0.15559397794137533,-0.13204961922858874,-0.12624770340463715,-0.19233523868826627,-0.17219143231115497,-0.04533757258066397,-0.11944171034778713,-0.17232706773311052,-0.1391921316337294,0.4785404577578103,-0.22942736592463261,-0.1537858420584905,-0.13893248667191793,-0.2297118545712419,-0.17045425988235885,-0.16964769574060834,-0.1570500578509812,0.3725765872844512,-0.22974718132892696,-0.1390879922558979,-0.16829096085463066,-0.15563840438823676,-0.1708926127919905,0.2787717193552774,-0.2289092888346441,-0.15829869167251387,-0.17114019725062304,-0.14692823170282904,-0.1721173390216894,-0.22971051817865876,-0.17232712614066303,-0.22986030771320154,-0.16927007546493875,0.30450840756871533,-0.13934770119524295,-0.10635082043662884,-0.16949835088320234,-0.13930638584834618,-0.17199109345696675,-0.15837061241946593,-0.1567925774229328,-0.12877982757648263,-0.0991961978199542,-0.21646244353899682,-0.22769219099339918,0.3045027183483228,-0.17230889751861087,0.3046332543794387,-0.15432532889862655,0.48397459160397616,-0.15258622017657567,-0.17227722653748012,-0.22260847072285733,-0.1287921656046178,-0.17041327773052392,-0.15404410963437384,-0.13679686651421186,-0.1432578706912024,-0.18689921176178828,-0.17184030860056784,-0.10572715330401666,-0.17166278777683322,-0.15244369157344548,-0.15793096894547634,-0.02724413620744271,-0.16253360147875318,0.3405702370981442,-0.22891775955191004,-0.17198137523198476,-0.17174534626068266,-0.22931174385981012,-0.2298882730983337,0.30489704804191603,-0.13837090245517145,3.2321560381808268,-0.11469860538388327,-0.2207773426139904,-0.13912462024769184,-0.09804805494313219,1.572579019239713,-0.17207910837760673,-0.17153176415523713,-0.17123318839477106,-0.17122013512616874,0.3050802452692006,0.08316274933579028,-0.1843401004693125,-0.1818862053030373,-0.12863842490322147,-0.15705997822802162,-0.17041148905116432,-0.2254398984796462,-0.18173190251902674,-0.15516114337921944,-0.1818319143334566,-0.11649493835446154,1.1409673781131695,0.3044855553040681,-0.08019433353699615,-0.22518287825788105,-0.14157381554120843,-0.08859536801575907,1.0867898492015093,-0.22986230806680652,-0.1818837341143447,-0.1749326419495585,-0.1713312556134515,-0.22978782320799804,-0.13910403800374208,-0.19480370039471626,8.027501256162283,-0.16637292929570868,0.30835353211911143,0.0204251907858653,-0.15656348668140174,-0.1626284596178528,-0.17190415542994847,0.1347004064509167,-0.22393842629202557,-0.10829047146624984,0.3123937096892479,-0.17214077565992736,-0.1487122119495006,-0.1276310037821685,-0.15615832904941962,-0.22895848274358258,0.3046678212179514,-0.1869584521619418,-0.1541708435564052,-0.14672880339024214,-0.15845482727699597,0.30858810462571157,0.5847364964974667,2.1099604754903414,-0.15339820377384356,0.31825095389573155,-0.1891401979465092,-0.12306481365590376,-0.22984449640400578,-0.1721653338739082,-0.14145795239757153,-0.1341707845662588,-0.21158161576350634,3.103236192159352,-0.09901228432334801,-0.22981591852749134,-0.18856903889256335,-0.023553308471492625,-0.15785370994520764,-0.13912465776778038,0.3842874745993767,-0.14285151510365254,-0.14324262800887735,-0.2403903133230066,-0.16278119780688063,-0.1710595052964191,-0.12670219716946948,-0.12847149981948064,-0.19154771315395164,-0.13840190997549542,-0.10810471491392132,-0.13727178590634684,0.5223734344919567,-0.10716150870193585,-0.09380612477799025,-0.15574438225021264,-0.13891514757913564,0.5423728740309581,-0.20314504459448243,-0.17224198568209567,-0.17020113612544338,-0.1269817169307131,-0.128367519260492,-0.15682568650434567,0.3262087971658649,-0.128759292343857],\"y\":[-1.3547793901287144,-2.025155187538941,-1.1215200261691471,-2.206018528281718,-2.0252458053561786,-2.092014345518396,-1.8422425375453224,-1.12151705798016,-0.8814610911898929,-1.1215333140066397,-1.8380551723831915,-1.2917342484239025,-1.3547789861986554,-1.1215648920274028,-1.121551385307237,-0.4765116375627255,-1.2443824559165808,-1.1215170395688456,-1.1215164253396008,-1.121514037596253,-0.8814628860290132,-1.8383008067335853,-1.3559052034573484,-1.1220300850499239,-1.1215104588879041,-1.1215477718989593,-1.1215159511956303,-1.1215147454658887,-1.6137612885562413,-1.1217546971753327,-1.1215126723934856,-1.1215241334405215,-1.1221900469542208,-1.3547780120250799,-1.1215619193189124,-1.1215107059871885,-1.1215103798975334,-1.1215122540033695,-2.2354658080872682,-1.1215121661289238,-1.1271284843744047,-1.3547807806969312,-1.1215137827503407,-1.1215190906594654,-1.1216105324520427,-1.121521805289353,-1.3549260297037917,-1.3547797601133498,-1.3547865166255464,-1.354812364319567,-1.354777917091059,-0.8814565583543822,-1.1215103690790318,-1.3030966479214796,-1.1215757957838737,-1.354780760097731,-2.299601864422665,-2.299469921975869,-1.1215271417052863,-1.1220741178431053,-1.1215240888373097,-1.1215113484252737,-1.1215148284833918,-1.1216081595622294,-2.1877795984824995,-1.8378759684301815,-1.5873273752688462,-1.1215073381005405,-1.1239339514494175,-2.191840923152836,-1.1215102673722737,-1.3547817716305406,-1.1622930542062544,-0.8814576706848529,-2.169070083921341,-1.354795298223977,-0.8814594800331594,-1.1215892681208144,-1.1215881321705803,-2.025205037812379,-2.2240591303128876,-0.8814572618938786,-1.3547780520637753,-1.121511834105581,-2.1415944720190088,-1.1215170640383563,-1.3548901690087447,-0.8814746615260781,-2.260645995096496,-1.1215846140829435,-2.210814613778697,-1.121516264952893,-0.8814622162306212,-1.1215102673496011,-0.8814675662930671,-1.6097122681051397,-2.2980479820089306,-1.354779488593431,-1.8380004864220014,-1.1215479988700032,-1.3547786409085516,-1.1215187156392257,-2.2371408143872284,-2.025202313372286,-2.0920151166850065,-1.1258576306247996,-0.8813196237742889,-0.8815314116694047,-2.2980558410185066,-1.121511076332658,-2.2980539625669123,-2.1690505246463188,-0.9255522258816314,-2.206103253117942,-1.1215103945395468,-0.881887133850928,-2.0920127734351395,-1.1215110792517535,-2.16904813608947,-2.2147754271960047,-1.1232554956235792,-0.647102497136412,-1.121517172127996,-1.355311836784262,-1.121536220741714,-2.206042483802417,-2.1971435891701305,-2.23857643675518,-2.2063907535119465,-2.2981449595135253,-0.8814860997950036,-1.1215109053728278,-1.1215412574466637,-0.8814723325138902,-0.8814643196455297,-2.2980647240865055,-2.2139238269702823,-1.139107722450364,-1.2616796165642232,-0.8818913293274181,-1.3547793603130065,-1.1261646133859886,-1.0591866802306924,-1.1215148994614124,-1.121539892734074,-1.1215403641631954,-1.1215398979370175,-2.298082462847415,-2.099046136810643,-0.8810770808299492,-1.613713435729265,-2.092010066177744,-2.2606896589881442,-1.1215110153651393,-0.8815358759466349,-1.6137204521496655,-2.025320679601604,-1.6137148373235533,-1.837986975384902,-2.327323556890913,-2.298050538183827,-2.029408024293965,-0.8816658923875216,-2.206276785694921,-1.1219990866130776,-1.2794016402413282,-0.8814640186315342,-1.6137091715708392,-1.6137942736132889,-1.1215188114825099,-0.8814635853848213,-1.354778044723592,-1.2608507146200816,-2.718179773398964,-2.257515286548269,-2.298137535201781,-1.1215850898169175,-2.260632737205513,-1.3032887621805602,-1.1215225702806615,-1.1233546094580884,-0.8815866449296493,-2.027975601159506,-2.2984553637036105,-1.1215177980263529,-2.2726767628650104,-2.0920081870565492,-2.2372556985251575,-0.881487554313299,-2.2980481344523613,-0.6470856461247324,-2.1690563374571923,-2.1772062644962347,-2.237136236097636,-2.2983128966472326,-2.261611498075261,-2.36161609777322,-2.225157199532686,-2.2982461593532384,-1.3301968416091048,-2.2833414495415054,-0.8814642176277473,-1.1215194444205538,-2.2067949950551156,-2.346431269682283,-0.5587959411600691,-2.2999412248164592,-1.3547936075141063,-0.881465980835737,-1.330230675350656,-2.093531571003151,-2.2371659205784504,-1.3547793616531187,-2.300815075374218,-2.260669163888429,-2.2606275304741423,-0.17038010317807417,-2.2013736871599647,-1.1215480803379032,-2.092109198096588,-2.0920109845636516,-1.5873688453050028,-1.3547834743710485,-0.38657432632944244,-1.3548154916772026,-1.1649729558341626,-1.613809617088953,-2.263716115209704,-1.1216135315826912,-1.354786494166968,-1.1307818777313194,-1.2443814147450685,-1.121510277246102,-1.121560572706099,-1.837904134087304,-2.2229078539567944,-2.0252023005199824,-2.298240475389096,-2.0920143832240385],\"z\":[0.15170678109228175,0.3356031427832102,0.0013632338942154622,0.3967647725969713,0.33560277460789945,0.34824551431723966,0.3098394237147412,0.0013805602942393003,0.033601596613141306,0.0013788505137872966,0.31272442698668856,0.0039242509485827096,0.15166058818058445,0.0013439153917291088,0.0013805908186542547,0.0015331422322789076,0.16900744993654088,0.0013721660711986554,0.0013801105508205824,0.0013808380394440738,0.03360348959330562,0.3084086037726125,0.14603477192730224,-0.0024132109822583105,0.0013758690074296123,0.00131638296340113,0.0013763798109717187,0.001381928734495313,0.17765532866313363,0.0011176963317127834,0.0013623253221031208,0.0013697801333081771,-0.026086046075829372,0.15170580140004802,0.0013370445396343371,0.001376353185603873,0.001381875184569878,0.0013706663255279798,0.5101696337835618,0.001380476354498913,0.0007484616313106616,0.1517077696455631,0.001280741011520032,0.0013820053235314373,0.0013763611151378166,0.0013746179799269693,0.15154354397656394,0.15169901901631508,0.15170536848302613,0.1517120199855216,0.151712135610013,0.03360454453754299,0.0013751881312341443,0.16988051384787414,0.0013469093020152655,0.1517003506275088,0.3487528473639309,0.4024849746686736,0.0013617764711504365,0.0012647461258226433,0.0013407046749459688,0.0013821694268636763,0.001336091680941276,0.0011432875397412606,0.26962693148028627,0.3132140622859852,0.2429963376033201,0.0013790891607454489,2.004992639514093e-05,0.3325551943488122,0.0013820205679216896,0.15170847409908347,0.0019912120973476864,0.03359515427754913,0.27938839405468524,0.15170798316755787,0.03360014272815424,0.0013735109072159828,0.001360436781778534,0.33563336539609695,0.2943935137542107,0.03360010843352612,0.1517058298635088,0.0013185372019384352,0.3901918795037204,0.0013611281189712234,0.1451199680068068,0.03359149875132066,0.3794248349540253,0.0013831256741511017,0.24318319270044972,0.0013803050476888141,0.03360085382531337,0.0013820214866057934,0.03360465717832149,0.4212832315414772,0.4045561899653945,0.15171032621030775,0.31293236327239193,0.0013473318456846213,0.15170944521914081,0.0013789620818003125,0.39063577627291546,0.33562855966462596,0.3482460625386631,0.001387591156434935,0.03335294011406678,0.03358741611583988,0.404558383254457,0.0013819493759717168,0.4045558138031092,0.2793917011967026,0.034100543177058004,0.3967679279981873,0.0013812654772283714,0.03360212455637013,0.3482456307874797,0.0013519372919129366,0.27938660950271466,0.36648924426197643,0.0013888300163652045,0.004107281768016431,0.0013761616720580733,0.15132048664208866,0.0013784487835801535,0.3967494084113286,0.44479548026464577,0.3046088671644517,0.4012878457173564,0.40401118513792833,0.033594693953643985,0.0013767180470903159,0.0013811038243544788,0.033597247433443056,0.033604231085547456,0.40455451720249885,0.4280008816326161,-0.04781089606217198,0.12606672290611962,0.03357425555681871,0.15170675989632595,0.0014515670411009754,-0.0429235520347793,0.0013793343214252931,0.001377357011513273,0.0013727559005077261,0.0013724244608741972,0.40455636390066985,0.34677205783834014,0.03277944636023084,0.1777166414621784,0.34824247213907766,0.37941690796660255,0.0013518918749949231,0.033552950863481805,0.17771607614648685,0.33563440652846876,0.1777161569790639,0.31308935670966204,0.39914742140292914,0.40455723585810793,0.3355413234788391,0.03358367627858273,0.3966400118563941,0.0001871347627062693,0.17901265779278952,0.033603739431028117,0.17771546117056916,0.17762818114442225,0.001368540686690603,0.03360244418657573,0.15170608194738167,0.056824567678169936,0.39471487641702174,0.4292615374530858,0.40451927714169117,-0.0016497530049927503,0.3793938138440009,0.16970363580816505,0.001378617185918826,-0.002985487930923407,0.03354276513474636,0.33560282013936843,0.4045403666940334,0.0013810863921946465,0.29148239416836264,0.34822601901025946,0.3906314948266996,0.033595727968964206,0.4045537068063105,0.004103710070722723,0.2793908108829378,0.2843346744371121,0.3906358843922146,0.40456249310899095,0.3050944823232575,0.3929829045975232,0.26398549038594765,0.40439164357101975,0.2265218973888195,0.367438515207036,0.03360351067849327,0.0013819158210028404,0.39677685962086384,0.2403799711987303,0.3034010554721549,0.2754774461746532,0.15107548430752032,0.03360353007859787,0.22652190889409157,0.3469858684636396,0.3906343111584961,0.1517067608490103,0.4040335925428424,0.26604177744318785,0.2660368279796301,0.06757148669536835,0.39168080436322755,0.0013720710081426735,0.3482383458327445,0.34824007503342175,0.24299496704375176,0.15169641840500264,-0.059617445307367005,0.15168709384860465,0.0020144058807410052,0.1765592842456125,0.2660806735455567,0.001147106502675872,0.15170535251724965,-0.00745239096473628,0.16900023094161135,0.0013806761278944988,0.001361823851340346,0.31323322137437376,0.2135887960338773,0.33562908043276957,0.4042641279339146,0.34824554112213624],\"type\":\"scatter3d\"},{\"customdata\":[[\"VeChainThor Authority\"],[\"Proof-of-BibleHash\"],[\"SHA-256 + Hive\"],[\"Proof-of-Authority\"],[\"ECC 256K1\"]],\"hovertemplate\":\"<b>%{hovertext}</b><br><br>Class=%{marker.color}<br>PC 1=%{x}<br>PC 2=%{y}<br>PC 3=%{z}<br>Algorithm=%{customdata[0]}<extra></extra>\",\"hovertext\":[\"Vechain\",\"BiblePay\",\"LitecoinCash\",\"Poa Network\",\"Acute Angle Cloud\"],\"legendgroup\":\"3\",\"marker\":{\"color\":[3,3,3,3,3],\"coloraxis\":\"coloraxis\",\"symbol\":\"square\"},\"mode\":\"markers\",\"name\":\"3\",\"scene\":\"scene\",\"showlegend\":true,\"x\":[4.4250725223726555,-0.2067484801346378,-0.3307790260338989,-0.4300651354286077,-0.3290349068360867],\"y\":[2.4995582346063525,3.2490873783263345,2.8165453095523563,3.391742119533297,2.84332795942882],\"z\":[8.100722577657844,13.998689336211143,12.917509382483237,18.58702807762553,15.315505829538916],\"type\":\"scatter3d\"},{\"customdata\":[[\"TRC10\"]],\"hovertemplate\":\"<b>%{hovertext}</b><br><br>Class=%{marker.color}<br>PC 1=%{x}<br>PC 2=%{y}<br>PC 3=%{z}<br>Algorithm=%{customdata[0]}<extra></extra>\",\"hovertext\":[\"BitTorrent\"],\"legendgroup\":\"1\",\"marker\":{\"color\":[1],\"coloraxis\":\"coloraxis\",\"symbol\":\"x\"},\"mode\":\"markers\",\"name\":\"1\",\"scene\":\"scene\",\"showlegend\":true,\"x\":[34.03481202693374],\"y\":[1.7813546734277417],\"z\":[-1.045867905547201],\"type\":\"scatter3d\"}],                        {\"template\":{\"data\":{\"histogram2dcontour\":[{\"type\":\"histogram2dcontour\",\"colorbar\":{\"outlinewidth\":0,\"ticks\":\"\"},\"colorscale\":[[0.0,\"#0d0887\"],[0.1111111111111111,\"#46039f\"],[0.2222222222222222,\"#7201a8\"],[0.3333333333333333,\"#9c179e\"],[0.4444444444444444,\"#bd3786\"],[0.5555555555555556,\"#d8576b\"],[0.6666666666666666,\"#ed7953\"],[0.7777777777777778,\"#fb9f3a\"],[0.8888888888888888,\"#fdca26\"],[1.0,\"#f0f921\"]]}],\"choropleth\":[{\"type\":\"choropleth\",\"colorbar\":{\"outlinewidth\":0,\"ticks\":\"\"}}],\"histogram2d\":[{\"type\":\"histogram2d\",\"colorbar\":{\"outlinewidth\":0,\"ticks\":\"\"},\"colorscale\":[[0.0,\"#0d0887\"],[0.1111111111111111,\"#46039f\"],[0.2222222222222222,\"#7201a8\"],[0.3333333333333333,\"#9c179e\"],[0.4444444444444444,\"#bd3786\"],[0.5555555555555556,\"#d8576b\"],[0.6666666666666666,\"#ed7953\"],[0.7777777777777778,\"#fb9f3a\"],[0.8888888888888888,\"#fdca26\"],[1.0,\"#f0f921\"]]}],\"heatmap\":[{\"type\":\"heatmap\",\"colorbar\":{\"outlinewidth\":0,\"ticks\":\"\"},\"colorscale\":[[0.0,\"#0d0887\"],[0.1111111111111111,\"#46039f\"],[0.2222222222222222,\"#7201a8\"],[0.3333333333333333,\"#9c179e\"],[0.4444444444444444,\"#bd3786\"],[0.5555555555555556,\"#d8576b\"],[0.6666666666666666,\"#ed7953\"],[0.7777777777777778,\"#fb9f3a\"],[0.8888888888888888,\"#fdca26\"],[1.0,\"#f0f921\"]]}],\"heatmapgl\":[{\"type\":\"heatmapgl\",\"colorbar\":{\"outlinewidth\":0,\"ticks\":\"\"},\"colorscale\":[[0.0,\"#0d0887\"],[0.1111111111111111,\"#46039f\"],[0.2222222222222222,\"#7201a8\"],[0.3333333333333333,\"#9c179e\"],[0.4444444444444444,\"#bd3786\"],[0.5555555555555556,\"#d8576b\"],[0.6666666666666666,\"#ed7953\"],[0.7777777777777778,\"#fb9f3a\"],[0.8888888888888888,\"#fdca26\"],[1.0,\"#f0f921\"]]}],\"contourcarpet\":[{\"type\":\"contourcarpet\",\"colorbar\":{\"outlinewidth\":0,\"ticks\":\"\"}}],\"contour\":[{\"type\":\"contour\",\"colorbar\":{\"outlinewidth\":0,\"ticks\":\"\"},\"colorscale\":[[0.0,\"#0d0887\"],[0.1111111111111111,\"#46039f\"],[0.2222222222222222,\"#7201a8\"],[0.3333333333333333,\"#9c179e\"],[0.4444444444444444,\"#bd3786\"],[0.5555555555555556,\"#d8576b\"],[0.6666666666666666,\"#ed7953\"],[0.7777777777777778,\"#fb9f3a\"],[0.8888888888888888,\"#fdca26\"],[1.0,\"#f0f921\"]]}],\"surface\":[{\"type\":\"surface\",\"colorbar\":{\"outlinewidth\":0,\"ticks\":\"\"},\"colorscale\":[[0.0,\"#0d0887\"],[0.1111111111111111,\"#46039f\"],[0.2222222222222222,\"#7201a8\"],[0.3333333333333333,\"#9c179e\"],[0.4444444444444444,\"#bd3786\"],[0.5555555555555556,\"#d8576b\"],[0.6666666666666666,\"#ed7953\"],[0.7777777777777778,\"#fb9f3a\"],[0.8888888888888888,\"#fdca26\"],[1.0,\"#f0f921\"]]}],\"mesh3d\":[{\"type\":\"mesh3d\",\"colorbar\":{\"outlinewidth\":0,\"ticks\":\"\"}}],\"scatter\":[{\"fillpattern\":{\"fillmode\":\"overlay\",\"size\":10,\"solidity\":0.2},\"type\":\"scatter\"}],\"parcoords\":[{\"type\":\"parcoords\",\"line\":{\"colorbar\":{\"outlinewidth\":0,\"ticks\":\"\"}}}],\"scatterpolargl\":[{\"type\":\"scatterpolargl\",\"marker\":{\"colorbar\":{\"outlinewidth\":0,\"ticks\":\"\"}}}],\"bar\":[{\"error_x\":{\"color\":\"#2a3f5f\"},\"error_y\":{\"color\":\"#2a3f5f\"},\"marker\":{\"line\":{\"color\":\"#E5ECF6\",\"width\":0.5},\"pattern\":{\"fillmode\":\"overlay\",\"size\":10,\"solidity\":0.2}},\"type\":\"bar\"}],\"scattergeo\":[{\"type\":\"scattergeo\",\"marker\":{\"colorbar\":{\"outlinewidth\":0,\"ticks\":\"\"}}}],\"scatterpolar\":[{\"type\":\"scatterpolar\",\"marker\":{\"colorbar\":{\"outlinewidth\":0,\"ticks\":\"\"}}}],\"histogram\":[{\"marker\":{\"pattern\":{\"fillmode\":\"overlay\",\"size\":10,\"solidity\":0.2}},\"type\":\"histogram\"}],\"scattergl\":[{\"type\":\"scattergl\",\"marker\":{\"colorbar\":{\"outlinewidth\":0,\"ticks\":\"\"}}}],\"scatter3d\":[{\"type\":\"scatter3d\",\"line\":{\"colorbar\":{\"outlinewidth\":0,\"ticks\":\"\"}},\"marker\":{\"colorbar\":{\"outlinewidth\":0,\"ticks\":\"\"}}}],\"scattermapbox\":[{\"type\":\"scattermapbox\",\"marker\":{\"colorbar\":{\"outlinewidth\":0,\"ticks\":\"\"}}}],\"scatterternary\":[{\"type\":\"scatterternary\",\"marker\":{\"colorbar\":{\"outlinewidth\":0,\"ticks\":\"\"}}}],\"scattercarpet\":[{\"type\":\"scattercarpet\",\"marker\":{\"colorbar\":{\"outlinewidth\":0,\"ticks\":\"\"}}}],\"carpet\":[{\"aaxis\":{\"endlinecolor\":\"#2a3f5f\",\"gridcolor\":\"white\",\"linecolor\":\"white\",\"minorgridcolor\":\"white\",\"startlinecolor\":\"#2a3f5f\"},\"baxis\":{\"endlinecolor\":\"#2a3f5f\",\"gridcolor\":\"white\",\"linecolor\":\"white\",\"minorgridcolor\":\"white\",\"startlinecolor\":\"#2a3f5f\"},\"type\":\"carpet\"}],\"table\":[{\"cells\":{\"fill\":{\"color\":\"#EBF0F8\"},\"line\":{\"color\":\"white\"}},\"header\":{\"fill\":{\"color\":\"#C8D4E3\"},\"line\":{\"color\":\"white\"}},\"type\":\"table\"}],\"barpolar\":[{\"marker\":{\"line\":{\"color\":\"#E5ECF6\",\"width\":0.5},\"pattern\":{\"fillmode\":\"overlay\",\"size\":10,\"solidity\":0.2}},\"type\":\"barpolar\"}],\"pie\":[{\"automargin\":true,\"type\":\"pie\"}]},\"layout\":{\"autotypenumbers\":\"strict\",\"colorway\":[\"#636efa\",\"#EF553B\",\"#00cc96\",\"#ab63fa\",\"#FFA15A\",\"#19d3f3\",\"#FF6692\",\"#B6E880\",\"#FF97FF\",\"#FECB52\"],\"font\":{\"color\":\"#2a3f5f\"},\"hovermode\":\"closest\",\"hoverlabel\":{\"align\":\"left\"},\"paper_bgcolor\":\"white\",\"plot_bgcolor\":\"#E5ECF6\",\"polar\":{\"bgcolor\":\"#E5ECF6\",\"angularaxis\":{\"gridcolor\":\"white\",\"linecolor\":\"white\",\"ticks\":\"\"},\"radialaxis\":{\"gridcolor\":\"white\",\"linecolor\":\"white\",\"ticks\":\"\"}},\"ternary\":{\"bgcolor\":\"#E5ECF6\",\"aaxis\":{\"gridcolor\":\"white\",\"linecolor\":\"white\",\"ticks\":\"\"},\"baxis\":{\"gridcolor\":\"white\",\"linecolor\":\"white\",\"ticks\":\"\"},\"caxis\":{\"gridcolor\":\"white\",\"linecolor\":\"white\",\"ticks\":\"\"}},\"coloraxis\":{\"colorbar\":{\"outlinewidth\":0,\"ticks\":\"\"}},\"colorscale\":{\"sequential\":[[0.0,\"#0d0887\"],[0.1111111111111111,\"#46039f\"],[0.2222222222222222,\"#7201a8\"],[0.3333333333333333,\"#9c179e\"],[0.4444444444444444,\"#bd3786\"],[0.5555555555555556,\"#d8576b\"],[0.6666666666666666,\"#ed7953\"],[0.7777777777777778,\"#fb9f3a\"],[0.8888888888888888,\"#fdca26\"],[1.0,\"#f0f921\"]],\"sequentialminus\":[[0.0,\"#0d0887\"],[0.1111111111111111,\"#46039f\"],[0.2222222222222222,\"#7201a8\"],[0.3333333333333333,\"#9c179e\"],[0.4444444444444444,\"#bd3786\"],[0.5555555555555556,\"#d8576b\"],[0.6666666666666666,\"#ed7953\"],[0.7777777777777778,\"#fb9f3a\"],[0.8888888888888888,\"#fdca26\"],[1.0,\"#f0f921\"]],\"diverging\":[[0,\"#8e0152\"],[0.1,\"#c51b7d\"],[0.2,\"#de77ae\"],[0.3,\"#f1b6da\"],[0.4,\"#fde0ef\"],[0.5,\"#f7f7f7\"],[0.6,\"#e6f5d0\"],[0.7,\"#b8e186\"],[0.8,\"#7fbc41\"],[0.9,\"#4d9221\"],[1,\"#276419\"]]},\"xaxis\":{\"gridcolor\":\"white\",\"linecolor\":\"white\",\"ticks\":\"\",\"title\":{\"standoff\":15},\"zerolinecolor\":\"white\",\"automargin\":true,\"zerolinewidth\":2},\"yaxis\":{\"gridcolor\":\"white\",\"linecolor\":\"white\",\"ticks\":\"\",\"title\":{\"standoff\":15},\"zerolinecolor\":\"white\",\"automargin\":true,\"zerolinewidth\":2},\"scene\":{\"xaxis\":{\"backgroundcolor\":\"#E5ECF6\",\"gridcolor\":\"white\",\"linecolor\":\"white\",\"showbackground\":true,\"ticks\":\"\",\"zerolinecolor\":\"white\",\"gridwidth\":2},\"yaxis\":{\"backgroundcolor\":\"#E5ECF6\",\"gridcolor\":\"white\",\"linecolor\":\"white\",\"showbackground\":true,\"ticks\":\"\",\"zerolinecolor\":\"white\",\"gridwidth\":2},\"zaxis\":{\"backgroundcolor\":\"#E5ECF6\",\"gridcolor\":\"white\",\"linecolor\":\"white\",\"showbackground\":true,\"ticks\":\"\",\"zerolinecolor\":\"white\",\"gridwidth\":2}},\"shapedefaults\":{\"line\":{\"color\":\"#2a3f5f\"}},\"annotationdefaults\":{\"arrowcolor\":\"#2a3f5f\",\"arrowhead\":0,\"arrowwidth\":1},\"geo\":{\"bgcolor\":\"white\",\"landcolor\":\"#E5ECF6\",\"subunitcolor\":\"white\",\"showland\":true,\"showlakes\":true,\"lakecolor\":\"white\"},\"title\":{\"x\":0.05},\"mapbox\":{\"style\":\"light\"}}},\"scene\":{\"domain\":{\"x\":[0.0,1.0],\"y\":[0.0,1.0]},\"xaxis\":{\"title\":{\"text\":\"PC 1\"}},\"yaxis\":{\"title\":{\"text\":\"PC 2\"}},\"zaxis\":{\"title\":{\"text\":\"PC 3\"}}},\"coloraxis\":{\"colorbar\":{\"title\":{\"text\":\"Class\"}},\"colorscale\":[[0.0,\"#0d0887\"],[0.1111111111111111,\"#46039f\"],[0.2222222222222222,\"#7201a8\"],[0.3333333333333333,\"#9c179e\"],[0.4444444444444444,\"#bd3786\"],[0.5555555555555556,\"#d8576b\"],[0.6666666666666666,\"#ed7953\"],[0.7777777777777778,\"#fb9f3a\"],[0.8888888888888888,\"#fdca26\"],[1.0,\"#f0f921\"]]},\"legend\":{\"title\":{\"text\":\"Class\"},\"tracegroupgap\":0,\"x\":0,\"y\":1},\"margin\":{\"t\":60},\"width\":800},                        {\"responsive\": true}                    ).then(function(){\n",
       "                            \n",
       "var gd = document.getElementById('25d30707-2a0f-4418-ba1b-6d585ad1625f');\n",
       "var x = new MutationObserver(function (mutations, observer) {{\n",
       "        var display = window.getComputedStyle(gd).display;\n",
       "        if (!display || display === 'none') {{\n",
       "            console.log([gd, 'removed!']);\n",
       "            Plotly.purge(gd);\n",
       "            observer.disconnect();\n",
       "        }}\n",
       "}});\n",
       "\n",
       "// Listen for the removal of the full notebook cells\n",
       "var notebookContainer = gd.closest('#notebook-container');\n",
       "if (notebookContainer) {{\n",
       "    x.observe(notebookContainer, {childList: true});\n",
       "}}\n",
       "\n",
       "// Listen for the clearing of the current output cell\n",
       "var outputEl = gd.closest('.output');\n",
       "if (outputEl) {{\n",
       "    x.observe(outputEl, {childList: true});\n",
       "}}\n",
       "\n",
       "                        })                };                });            </script>        </div>"
      ]
     },
     "metadata": {},
     "output_type": "display_data"
    }
   ],
   "source": [
    "# Creating a 3D-Scatter with the PCA data and the clusters\n",
    "fig = px.scatter_3d(clustered_df, x=\"PC 1\", y=\"PC 2\", z=\"PC 3\", color=\"Class\", symbol=\"Class\", hover_name='CoinName', hover_data=['Algorithm'], width=800)\n",
    "fig.update_layout(legend=dict(x=0,y=1))\n",
    "fig.show()"
   ]
  },
  {
   "cell_type": "code",
   "execution_count": 100,
   "metadata": {},
   "outputs": [
    {
     "data": {},
     "metadata": {},
     "output_type": "display_data"
    },
    {
     "data": {
      "application/vnd.holoviews_exec.v0+json": "",
      "text/html": [
       "<div id='2341'>\n",
       "  <div class=\"bk-root\" id=\"837c4561-13b8-4873-aa87-8b980de28308\" data-root-id=\"2341\"></div>\n",
       "</div>\n",
       "<script type=\"application/javascript\">(function(root) {\n",
       "  function embed_document(root) {\n",
       "    var docs_json = {\"95aa8ded-d69b-46e6-88e2-06e1fdd0a825\":{\"defs\":[{\"extends\":null,\"module\":null,\"name\":\"ReactiveHTML1\",\"overrides\":[],\"properties\":[]},{\"extends\":null,\"module\":null,\"name\":\"FlexBox1\",\"overrides\":[],\"properties\":[{\"default\":\"flex-start\",\"kind\":null,\"name\":\"align_content\"},{\"default\":\"flex-start\",\"kind\":null,\"name\":\"align_items\"},{\"default\":\"row\",\"kind\":null,\"name\":\"flex_direction\"},{\"default\":\"wrap\",\"kind\":null,\"name\":\"flex_wrap\"},{\"default\":\"flex-start\",\"kind\":null,\"name\":\"justify_content\"}]},{\"extends\":null,\"module\":null,\"name\":\"GridStack1\",\"overrides\":[],\"properties\":[{\"default\":\"warn\",\"kind\":null,\"name\":\"mode\"},{\"default\":null,\"kind\":null,\"name\":\"ncols\"},{\"default\":null,\"kind\":null,\"name\":\"nrows\"},{\"default\":true,\"kind\":null,\"name\":\"allow_resize\"},{\"default\":true,\"kind\":null,\"name\":\"allow_drag\"},{\"default\":[],\"kind\":null,\"name\":\"state\"}]},{\"extends\":null,\"module\":null,\"name\":\"click1\",\"overrides\":[],\"properties\":[{\"default\":\"\",\"kind\":null,\"name\":\"terminal_output\"},{\"default\":\"\",\"kind\":null,\"name\":\"debug_name\"},{\"default\":0,\"kind\":null,\"name\":\"clears\"}]},{\"extends\":null,\"module\":null,\"name\":\"NotificationAreaBase1\",\"overrides\":[],\"properties\":[{\"default\":\"bottom-right\",\"kind\":null,\"name\":\"position\"},{\"default\":0,\"kind\":null,\"name\":\"_clear\"}]},{\"extends\":null,\"module\":null,\"name\":\"NotificationArea1\",\"overrides\":[],\"properties\":[{\"default\":[],\"kind\":null,\"name\":\"notifications\"},{\"default\":\"bottom-right\",\"kind\":null,\"name\":\"position\"},{\"default\":0,\"kind\":null,\"name\":\"_clear\"},{\"default\":[{\"background\":\"#ffc107\",\"icon\":{\"className\":\"fas fa-exclamation-triangle\",\"color\":\"white\",\"tagName\":\"i\"},\"type\":\"warning\"},{\"background\":\"#007bff\",\"icon\":{\"className\":\"fas fa-info-circle\",\"color\":\"white\",\"tagName\":\"i\"},\"type\":\"info\"}],\"kind\":null,\"name\":\"types\"}]},{\"extends\":null,\"module\":null,\"name\":\"Notification\",\"overrides\":[],\"properties\":[{\"default\":null,\"kind\":null,\"name\":\"background\"},{\"default\":3000,\"kind\":null,\"name\":\"duration\"},{\"default\":null,\"kind\":null,\"name\":\"icon\"},{\"default\":\"\",\"kind\":null,\"name\":\"message\"},{\"default\":null,\"kind\":null,\"name\":\"notification_type\"},{\"default\":false,\"kind\":null,\"name\":\"_destroyed\"}]},{\"extends\":null,\"module\":null,\"name\":\"TemplateActions1\",\"overrides\":[],\"properties\":[{\"default\":0,\"kind\":null,\"name\":\"open_modal\"},{\"default\":0,\"kind\":null,\"name\":\"close_modal\"}]},{\"extends\":null,\"module\":null,\"name\":\"MaterialTemplateActions1\",\"overrides\":[],\"properties\":[{\"default\":0,\"kind\":null,\"name\":\"open_modal\"},{\"default\":0,\"kind\":null,\"name\":\"close_modal\"}]}],\"roots\":{\"references\":[{\"attributes\":{\"editor\":{\"id\":\"2361\"},\"field\":\"TotalCoinSupply\",\"formatter\":{\"id\":\"2360\"},\"title\":\"TotalCoinSupply\"},\"id\":\"2362\",\"type\":\"TableColumn\"},{\"attributes\":{\"margin\":[5,5,5,5],\"name\":\"HSpacer02255\",\"sizing_mode\":\"stretch_width\"},\"id\":\"2395\",\"type\":\"Spacer\"},{\"attributes\":{\"format\":\"0,0.0[00000]\"},\"id\":\"2365\",\"type\":\"NumberFormatter\"},{\"attributes\":{},\"id\":\"2386\",\"type\":\"IntEditor\"},{\"attributes\":{\"data\":{\"Algorithm\":[\"Scrypt\",\"Scrypt\",\"X13\",\"SHA-256\",\"Ethash\",\"Scrypt\",\"X11\",\"CryptoNight-V7\",\"Ethash\",\"Equihash\",\"SHA-512\",\"Multiple\",\"SHA-256\",\"SHA-256\",\"Scrypt\",\"X15\",\"X11\",\"Scrypt\",\"Scrypt\",\"Scrypt\",\"Multiple\",\"Scrypt\",\"SHA-256\",\"Scrypt\",\"Scrypt\",\"Scrypt\",\"Quark\",\"Groestl\",\"Scrypt\",\"Scrypt\",\"Scrypt\",\"Scrypt\",\"Scrypt\",\"X11\",\"Scrypt\",\"Groestl\",\"Multiple\",\"SHA-256\",\"Scrypt\",\"Scrypt\",\"Scrypt\",\"Scrypt\",\"PoS\",\"Scrypt\",\"Scrypt\",\"NeoScrypt\",\"Scrypt\",\"Scrypt\",\"Scrypt\",\"Scrypt\",\"X11\",\"Scrypt\",\"X11\",\"SHA-256\",\"Scrypt\",\"Scrypt\",\"Scrypt\",\"SHA3\",\"Scrypt\",\"HybridScryptHash256\",\"Scrypt\",\"Scrypt\",\"SHA-256\",\"Scrypt\",\"X13\",\"Scrypt\",\"SHA-256\",\"Scrypt\",\"X13\",\"NeoScrypt\",\"Scrypt\",\"Scrypt\",\"Scrypt\",\"Scrypt\",\"Scrypt\",\"Scrypt\",\"X11\",\"X11\",\"SHA-256\",\"Multiple\",\"SHA-256\",\"PHI1612\",\"X11\",\"SHA-256\",\"SHA-256\",\"SHA-256\",\"X11\",\"Scrypt\",\"Scrypt\",\"Scrypt\",\"Scrypt\",\"Lyra2REv2\",\"Scrypt\",\"X11\",\"Multiple\",\"SHA-256\",\"X13\",\"Scrypt\",\"CryptoNight\",\"CryptoNight\",\"Shabal256\",\"Counterparty\",\"Scrypt\",\"SHA-256\",\"Groestl\",\"Scrypt\",\"Scrypt\",\"Scrypt\",\"X13\",\"Scrypt\",\"Scrypt\",\"Scrypt\",\"Scrypt\",\"X13\",\"Scrypt\",\"Stanford Folding\",\"X11\",\"Multiple\",\"QuBit\",\"Scrypt\",\"Scrypt\",\"Scrypt\",\"M7 POW\",\"Scrypt\",\"SHA-256\",\"Scrypt\",\"X11\",\"SHA3\",\"X11\",\"Lyra2RE\",\"SHA-256\",\"QUAIT\",\"X11\",\"X11\",\"Scrypt\",\"Scrypt\",\"Scrypt\",\"Ethash\",\"X13\",\"Blake2b\",\"SHA-256\",\"X15\",\"X11\",\"SHA-256\",\"BLAKE256\",\"Scrypt\",\"1GB AES Pattern Search\",\"SHA-256\",\"X11\",\"Scrypt\",\"SHA-256\",\"SHA-256\",\"NIST5\",\"Scrypt\",\"Scrypt\",\"X11\",\"Dagger\",\"Scrypt\",\"X11GOST\",\"X11\",\"Scrypt\",\"SHA-256\",\"Scrypt\",\"PoS\",\"Scrypt\",\"X11\",\"X11\",\"SHA-256\",\"SHA-256\",\"NIST5\",\"X11\",\"Scrypt\",\"POS 3.0\",\"Scrypt\",\"Scrypt\",\"Scrypt\",\"X13\",\"X11\",\"X11\",\"Equihash\",\"X11\",\"Scrypt\",\"CryptoNight\",\"SHA-256\",\"SHA-256\",\"X11\",\"Scrypt\",\"Multiple\",\"Scrypt\",\"Scrypt\",\"Scrypt\",\"SHA-256\",\"Scrypt\",\"Scrypt\",\"SHA-256D\",\"PoS\",\"Scrypt\",\"X11\",\"Lyra2Z\",\"PoS\",\"X13\",\"X14\",\"PoS\",\"SHA-256D\",\"Ethash\",\"Equihash\",\"DPoS\",\"X11\",\"Scrypt\",\"X11\",\"X13\",\"X11\",\"PoS\",\"Scrypt\",\"Scrypt\",\"X11\",\"PoS\",\"X11\",\"SHA-256\",\"Scrypt\",\"X11\",\"Scrypt\",\"Scrypt\",\"X11\",\"CryptoNight\",\"Scrypt\",\"Scrypt\",\"Scrypt\",\"Scrypt\",\"Quark\",\"QuBit\",\"Scrypt\",\"CryptoNight\",\"Lyra2RE\",\"Scrypt\",\"SHA-256\",\"X11\",\"Scrypt\",\"X11\",\"Scrypt\",\"CryptoNight-V7\",\"Scrypt\",\"Scrypt\",\"Scrypt\",\"X13\",\"X11\",\"Equihash\",\"Scrypt\",\"Scrypt\",\"Lyra2RE\",\"Scrypt\",\"Dagger-Hashimoto\",\"X11\",\"Blake2S\",\"X11\",\"Scrypt\",\"PoS\",\"X11\",\"NIST5\",\"PoS\",\"X11\",\"Scrypt\",\"Scrypt\",\"Scrypt\",\"SHA-256\",\"X11\",\"Scrypt\",\"Scrypt\",\"SHA-256\",\"PoS\",\"Scrypt\",\"X15\",\"SHA-256\",\"Scrypt\",\"POS 3.0\",\"CryptoNight-V7\",\"536\",\"Argon2d\",\"Blake2b\",\"Cloverhash\",\"CryptoNight\",\"NIST5\",\"X11\",\"NIST5\",\"Skein\",\"Scrypt\",\"X13\",\"Scrypt\",\"X11\",\"X11\",\"Scrypt\",\"CryptoNight\",\"X13\",\"Time Travel\",\"Scrypt\",\"Keccak\",\"SkunkHash v2 Raptor\",\"X11\",\"Skein\",\"SHA-256\",\"X11\",\"Scrypt\",\"VeChainThor Authority\",\"Scrypt\",\"PoS\",\"Scrypt\",\"Scrypt\",\"Scrypt\",\"Scrypt\",\"Scrypt\",\"Scrypt\",\"Scrypt\",\"CryptoNight\",\"SHA-512\",\"Ouroboros\",\"X11\",\"Equihash\",\"NeoScrypt\",\"X11\",\"Scrypt\",\"NeoScrypt\",\"Lyra2REv2\",\"Equihash\",\"Scrypt\",\"SHA-256\",\"NIST5\",\"PHI1612\",\"Dagger\",\"Scrypt\",\"Quark\",\"Scrypt\",\"POS 2.0\",\"Scrypt\",\"SHA-256\",\"X11\",\"NeoScrypt\",\"Ethash\",\"NeoScrypt\",\"X11\",\"DPoS\",\"NIST5\",\"X13\",\"Multiple\",\"Scrypt\",\"CryptoNight\",\"CryptoNight\",\"Ethash\",\"NIST5\",\"Quark\",\"X11\",\"CryptoNight-V7\",\"Scrypt\",\"Scrypt\",\"Scrypt\",\"X11\",\"BLAKE256\",\"X11\",\"NeoScrypt\",\"Quark\",\"NeoScrypt\",\"Scrypt\",\"Scrypt\",\"Scrypt\",\"X11\",\"X11\",\"SHA-256\",\"C11\",\"POS 3.0\",\"Ethash\",\"Scrypt\",\"CryptoNight\",\"SkunkHash\",\"Scrypt\",\"CryptoNight\",\"Scrypt\",\"Dagger\",\"Lyra2REv2\",\"X13\",\"Proof-of-BibleHash\",\"SHA-256 + Hive\",\"Scrypt\",\"Scrypt\",\"X11\",\"C11\",\"Proof-of-Authority\",\"X11\",\"XEVAN\",\"Scrypt\",\"VBFT\",\"Ethash\",\"CryptoNight\",\"Scrypt\",\"IMesh\",\"NIST5\",\"Scrypt\",\"Scrypt\",\"Equihash\",\"Scrypt\",\"Lyra2Z\",\"Green Protocol\",\"PoS\",\"Scrypt\",\"Semux BFT consensus\",\"X11\",\"Quark\",\"PoS\",\"CryptoNight\",\"X16R\",\"Scrypt\",\"NIST5\",\"Lyra2RE\",\"XEVAN\",\"Tribus\",\"Scrypt\",\"Lyra2Z\",\"CryptoNight\",\"CryptoNight Heavy\",\"CryptoNight\",\"Scrypt\",\"Scrypt\",\"Jump Consistent Hash\",\"SHA-256D\",\"CryptoNight\",\"Scrypt\",\"X15\",\"Scrypt\",\"Quark\",\"SHA-256\",\"DPoS\",\"X16R\",\"HMQ1725\",\"X11\",\"X16R\",\"Quark\",\"Quark\",\"Scrypt\",\"Lyra2REv2\",\"Quark\",\"Scrypt\",\"Scrypt\",\"CryptoNight-V7\",\"Cryptonight-GPU\",\"XEVAN\",\"CryptoNight Heavy\",\"X11\",\"X11\",\"Scrypt\",\"PoS\",\"SHA-256\",\"Keccak\",\"X11\",\"X11\",\"Scrypt\",\"SHA-512\",\"X16R\",\"ECC 256K1\",\"Equihash\",\"XEVAN\",\"Lyra2Z\",\"SHA-256\",\"XEVAN\",\"X11\",\"CryptoNight\",\"Quark\",\"Blake\",\"Blake\",\"Equihash\",\"Exosis\",\"Scrypt\",\"Scrypt\",\"Equihash\",\"Quark\",\"Equihash\",\"Quark\",\"Scrypt\",\"QuBit\",\"X11\",\"Scrypt\",\"XEVAN\",\"SHA-256D\",\"X11\",\"SHA-256\",\"X13\",\"SHA-256\",\"X11\",\"DPoS\",\"Scrypt\",\"Scrypt\",\"X11\",\"NeoScrypt\",\"Scrypt\",\"Blake\",\"Scrypt\",\"SHA-256\",\"Scrypt\",\"X11\",\"Scrypt\",\"Scrypt\",\"SHA-256\",\"X11\",\"SHA-256\",\"Scrypt\",\"Scrypt\",\"Scrypt\",\"Groestl\",\"X11\",\"Scrypt\",\"PoS\",\"Scrypt\",\"Scrypt\",\"X11\",\"SHA-256\",\"DPoS\",\"Scrypt\",\"Scrypt\",\"NeoScrypt\",\"Multiple\",\"X13\",\"Equihash+Scrypt\",\"DPoS\",\"Ethash\",\"DPoS\",\"SHA-256\",\"Leased POS\",\"PoS\",\"TRC10\",\"PoS\",\"SHA-256\",\"Scrypt\",\"CryptoNight\",\"Equihash\",\"Scrypt\"],\"Class\":{\"__ndarray__\":\"AAAAAAAAAAAAAAAAAgAAAAIAAAACAAAAAAAAAAIAAAACAAAAAgAAAAAAAAACAAAAAAAAAAAAAAACAAAAAAAAAAIAAAACAAAAAAAAAAAAAAACAAAAAgAAAAIAAAACAAAAAgAAAAAAAAACAAAAAgAAAAIAAAAAAAAAAgAAAAAAAAACAAAAAgAAAAAAAAAAAAAAAgAAAAIAAAACAAAAAgAAAAIAAAACAAAAAAAAAAAAAAACAAAAAgAAAAIAAAACAAAAAgAAAAAAAAAAAAAAAgAAAAAAAAACAAAAAgAAAAIAAAACAAAAAAAAAAIAAAACAAAAAAAAAAIAAAAAAAAAAAAAAAAAAAACAAAAAgAAAAIAAAAAAAAAAAAAAAAAAAAAAAAAAAAAAAIAAAACAAAAAgAAAAAAAAAAAAAAAgAAAAAAAAACAAAAAAAAAAAAAAACAAAAAgAAAAIAAAACAAAAAAAAAAAAAAACAAAAAAAAAAIAAAACAAAAAAAAAAAAAAACAAAAAAAAAAAAAAACAAAAAgAAAAAAAAAAAAAAAgAAAAAAAAAAAAAAAgAAAAAAAAACAAAAAAAAAAIAAAAAAAAAAgAAAAAAAAAAAAAAAgAAAAIAAAAAAAAAAgAAAAIAAAACAAAAAAAAAAIAAAACAAAAAgAAAAIAAAACAAAAAAAAAAAAAAACAAAAAgAAAAIAAAAAAAAAAgAAAAAAAAACAAAAAgAAAAAAAAACAAAAAAAAAAIAAAAAAAAAAAAAAAIAAAACAAAAAAAAAAIAAAACAAAAAAAAAAAAAAACAAAAAAAAAAIAAAAAAAAAAAAAAAAAAAACAAAAAgAAAAIAAAACAAAAAAAAAAAAAAAAAAAAAAAAAAAAAAACAAAAAgAAAAAAAAAAAAAAAAAAAAAAAAAAAAAAAgAAAAAAAAAAAAAAAAAAAAAAAAAAAAAAAgAAAAAAAAACAAAAAAAAAAAAAAACAAAAAAAAAAIAAAAAAAAAAAAAAAIAAAAAAAAAAgAAAAAAAAACAAAAAAAAAAIAAAAAAAAAAAAAAAAAAAAAAAAAAgAAAAAAAAAAAAAAAAAAAAAAAAAAAAAAAgAAAAIAAAAAAAAAAAAAAAIAAAACAAAAAAAAAAAAAAAAAAAAAAAAAAAAAAACAAAAAAAAAAAAAAAAAAAAAAAAAAAAAAAAAAAAAAAAAAAAAAACAAAAAAAAAAAAAAAAAAAAAAAAAAAAAAAAAAAAAgAAAAIAAAACAAAAAAAAAAAAAAAAAAAAAAAAAAIAAAAAAAAAAgAAAAAAAAAAAAAAAgAAAAAAAAACAAAAAgAAAAAAAAACAAAAAgAAAAAAAAACAAAAAAAAAAAAAAAAAAAAAgAAAAAAAAAAAAAAAgAAAAAAAAAAAAAAAAAAAAAAAAAAAAAAAAAAAAAAAAACAAAAAAAAAAIAAAAAAAAAAAAAAAAAAAAAAAAAAgAAAAAAAAACAAAAAAAAAAIAAAACAAAAAgAAAAIAAAAAAAAAAgAAAAAAAAAAAAAAAgAAAAAAAAACAAAAAgAAAAIAAAAAAAAAAgAAAAAAAAACAAAAAgAAAAIAAAAAAAAAAgAAAAAAAAACAAAAAAAAAAAAAAADAAAAAgAAAAAAAAACAAAAAgAAAAIAAAACAAAAAgAAAAAAAAAAAAAAAgAAAAAAAAAAAAAAAAAAAAIAAAAAAAAAAgAAAAAAAAACAAAAAAAAAAIAAAAAAAAAAAAAAAAAAAAAAAAAAgAAAAAAAAAAAAAAAgAAAAAAAAAAAAAAAAAAAAIAAAACAAAAAgAAAAIAAAAAAAAAAAAAAAAAAAAAAAAAAgAAAAAAAAACAAAAAgAAAAIAAAAAAAAAAAAAAAIAAAACAAAAAAAAAAAAAAACAAAAAAAAAAIAAAACAAAAAgAAAAAAAAACAAAAAgAAAAAAAAAAAAAAAAAAAAIAAAACAAAAAgAAAAAAAAAAAAAAAAAAAAIAAAACAAAAAAAAAAIAAAACAAAAAgAAAAIAAAAAAAAAAwAAAAMAAAACAAAAAgAAAAIAAAAAAAAAAwAAAAAAAAAAAAAAAAAAAAAAAAACAAAAAgAAAAIAAAACAAAAAAAAAAAAAAAAAAAAAgAAAAAAAAACAAAAAAAAAAAAAAAAAAAAAAAAAAIAAAAAAAAAAAAAAAIAAAAAAAAAAAAAAAIAAAACAAAAAAAAAAIAAAAAAAAAAgAAAAIAAAACAAAAAgAAAAAAAAAAAAAAAgAAAAAAAAACAAAAAAAAAAAAAAAAAAAAAAAAAAAAAAAAAAAAAgAAAAIAAAACAAAAAAAAAAAAAAAAAAAAAAAAAAAAAAAAAAAAAgAAAAAAAAACAAAAAgAAAAIAAAACAAAAAAAAAAAAAAAAAAAAAAAAAAIAAAAAAAAAAAAAAAIAAAAAAAAAAAAAAAIAAAADAAAAAgAAAAAAAAACAAAAAgAAAAAAAAAAAAAAAgAAAAAAAAACAAAAAgAAAAIAAAACAAAAAgAAAAAAAAACAAAAAAAAAAIAAAAAAAAAAAAAAAIAAAAAAAAAAAAAAAAAAAAAAAAAAAAAAAIAAAACAAAAAgAAAAAAAAAAAAAAAAAAAAIAAAAAAAAAAgAAAAAAAAACAAAAAAAAAAAAAAAAAAAAAAAAAAIAAAAAAAAAAAAAAAAAAAACAAAAAAAAAAIAAAAAAAAAAgAAAAAAAAAAAAAAAAAAAAIAAAACAAAAAAAAAAAAAAAAAAAAAAAAAAAAAAAAAAAAAgAAAAAAAAACAAAAAAAAAAIAAAAAAAAAAAAAAAAAAAAAAAAAAQAAAAAAAAAAAAAAAAAAAAIAAAACAAAAAAAAAA==\",\"dtype\":\"int32\",\"order\":\"little\",\"shape\":[532]},\"CoinName\":[\"42 Coin\",\"404Coin\",\"EliteCoin\",\"Bitcoin\",\"Ethereum\",\"Litecoin\",\"Dash\",\"Monero\",\"Ethereum Classic\",\"ZCash\",\"Bitshares\",\"DigiByte\",\"BitcoinDark\",\"PayCoin\",\"ProsperCoin\",\"KoboCoin\",\"Spreadcoin\",\"Argentum\",\"Aurora Coin\",\"BlueCoin\",\"MyriadCoin\",\"MoonCoin\",\"ZetaCoin\",\"SexCoin\",\"Quatloo\",\"EnergyCoin\",\"QuarkCoin\",\"Riecoin\",\"Digitalcoin \",\"BitBar\",\"Catcoin\",\"CryptoBullion\",\"CannaCoin\",\"CryptCoin\",\"CasinoCoin\",\"Diamond\",\"Verge\",\"DevCoin\",\"EarthCoin\",\"E-Gulden\",\"Einsteinium\",\"Emerald\",\"Exclusive Coin\",\"FlutterCoin\",\"Franko\",\"FeatherCoin\",\"GrandCoin\",\"GlobalCoin\",\"GoldCoin\",\"HoboNickels\",\"HyperStake\",\"Infinite Coin\",\"IOCoin\",\"IXcoin\",\"KrugerCoin\",\"LuckyCoin\",\"Litebar \",\"MaxCoin\",\"MegaCoin\",\"MediterraneanCoin\",\"MintCoin\",\"MinCoin\",\"MazaCoin\",\"Nautilus Coin\",\"NavCoin\",\"NobleCoin\",\"Namecoin\",\"NyanCoin\",\"OpalCoin\",\"Orbitcoin\",\"PotCoin\",\"PhoenixCoin\",\"Reddcoin\",\"RonPaulCoin\",\"StableCoin\",\"SmartCoin\",\"SuperCoin\",\"SyncCoin\",\"SysCoin\",\"TeslaCoin\",\"TigerCoin\",\"TittieCoin\",\"TorCoin\",\"TerraCoin\",\"UnbreakableCoin\",\"Unobtanium\",\"UroCoin\",\"UnitaryStatus Dollar\",\"UltraCoin\",\"ViaCoin\",\"VeriCoin\",\"Vertcoin\",\"WorldCoin\",\"X11 Coin\",\"Crypti\",\"JouleCoin\",\"StealthCoin\",\"ZCC Coin\",\"ByteCoin\",\"DigitalNote \",\"BurstCoin\",\"StorjCoin\",\"MonaCoin\",\"Neutron\",\"FairCoin\",\"Gulden\",\"RubyCoin\",\"PesetaCoin\",\"Kore\",\"Wild Beast Coin\",\"Dnotes\",\"Flo\",\"8BIT Coin\",\"Sativa Coin\",\"ArtByte\",\"Folding Coin\",\"Ucoin\",\"Unitus\",\"CypherPunkCoin\",\"OmniCron\",\"Vtorrent\",\"GreenCoin\",\"Cryptonite\",\"MasterCoin\",\"SoonCoin\",\"1Credit\",\"IslaCoin\",\"Nexus\",\"MarsCoin \",\"Crypto\",\"Anarchists Prime\",\"Droidz\",\"BowsCoin\",\"Squall Coin\",\"Song Coin\",\"BitZeny\",\"Diggits\",\"Expanse\",\"Paycon\",\"Siacoin\",\"Emercoin\",\"EverGreenCoin\",\"MindCoin\",\"I0coin\",\"Decred\",\"Revolution VR\",\"HOdlcoin\",\"EDRCoin\",\"Hitcoin\",\"Gamecredits\",\"DubaiCoin\",\"CarpeDiemCoin\",\"PWR Coin\",\"BillaryCoin\",\"GPU Coin\",\"Adzcoin\",\"SoilCoin\",\"YoCoin\",\"SibCoin\",\"EuropeCoin\",\"ZeitCoin\",\"SwingCoin\",\"SafeExchangeCoin\",\"Nebuchadnezzar\",\"Francs\",\"BolivarCoin\",\"Ratecoin\",\"Revenu\",\"Clockcoin\",\"VIP Tokens\",\"BitSend\",\"Omni\",\"Let it Ride\",\"PutinCoin\",\"iBankCoin\",\"Frankywillcoin\",\"MudraCoin\",\"PizzaCoin\",\"Lutetium Coin\",\"Komodo\",\"GoldBlocks\",\"CarterCoin\",\"Karbo\",\"BitTokens\",\"ZayedCoin\",\"MustangCoin\",\"ZoneCoin\",\"Circuits of Value\",\"RootCoin\",\"DopeCoin\",\"BitCurrency\",\"DollarCoin\",\"Swiscoin\",\"Shilling\",\"BuzzCoin\",\"Opair\",\"PesoBit\",\"Halloween Coin\",\"ZCoin\",\"CoffeeCoin\",\"RoyalCoin\",\"GanjaCoin V2\",\"TeamUP\",\"LanaCoin\",\"Elementrem\",\"ZClassic\",\"ARK\",\"InsaneCoin\",\"KiloCoin\",\"ArtexCoin\",\"EmberCoin\",\"XenixCoin\",\"FreeCoin\",\"PLNCoin\",\"AquariusCoin\",\"Kurrent\",\"Creatio\",\"Eternity\",\"Eurocoin\",\"BitcoinFast\",\"Stakenet\",\"BitConnect Coin\",\"MoneyCoin\",\"Enigma\",\"Cannabis Industry Coin\",\"Russiacoin\",\"PandaCoin\",\"GameUnits\",\"GAKHcoin\",\"Allsafe\",\"LiteCreed\",\"OsmiumCoin\",\"Bikercoins\",\"HexxCoin\",\"Klingon Empire Darsek\",\"Internet of People\",\"KushCoin\",\"Printerium\",\"PacCoin\",\"Impeach\",\"Citadel\",\"Zilbercoin\",\"FirstCoin\",\"BeaverCoin\",\"FindCoin\",\"VaultCoin\",\"Zero\",\"OpenChat\",\"Canada eCoin\",\"Zoin\",\"RenosCoin\",\"DubaiCoin\",\"VirtacoinPlus\",\"TajCoin\",\"Impact\",\"EB3coin\",\"Atmos\",\"HappyCoin\",\"Coinonat\",\"MacronCoin\",\"Condensate\",\"Independent Money System\",\"ArgusCoin\",\"LomoCoin\",\"ProCurrency\",\"GoldReserve\",\"BenjiRolls\",\"GrowthCoin\",\"ILCoin\",\"Phreak\",\"Degas Coin\",\"HTML5 Coin\",\"Ultimate Secure Cash\",\"EquiTrader\",\"QTUM\",\"Quantum Resistant Ledger\",\"Espers\",\"Dynamic\",\"Nano\",\"ChanCoin\",\"Dinastycoin\",\"Denarius\",\"DigitalPrice\",\"Virta Unique Coin\",\"Bitcoin Planet\",\"Unify\",\"BritCoin\",\"SocialCoin\",\"ArcticCoin\",\"DAS\",\"Linda\",\"LeviarCoin\",\"DeepOnion\",\"Bitcore\",\"gCn Coin\",\"SmartCash\",\"Signatum\",\"Onix\",\"Cream\",\"Bitcoin Cash\",\"Monoeci\",\"Draftcoin\",\"Vechain\",\"Sojourn Coin\",\"Stakecoin\",\"NewYorkCoin\",\"FrazCoin\",\"Kronecoin\",\"AdCoin\",\"Linx\",\"CoinonatX\",\"Ethereum Dark\",\"Sumokoin\",\"Obsidian\",\"Cardano\",\"Regalcoin\",\"BitcoinZ\",\"TrezarCoin\",\"Elements\",\"TerraNovaCoin\",\"VIVO Coin\",\"Rupee\",\"Bitcoin Gold\",\"WomenCoin\",\"Theresa May Coin\",\"NamoCoin\",\"LUXCoin\",\"Pirl\",\"Xios\",\"Bitcloud 2.0\",\"eBoost\",\"KekCoin\",\"BlackholeCoin\",\"Infinity Economics\",\"Pura\",\"Innova\",\"Ellaism\",\"GoByte\",\"Magnet\",\"Lamden Tau\",\"Electra\",\"Bitcoin Diamond\",\"SHIELD\",\"Cash & Back Coin\",\"UltraNote\",\"BitCoal\",\"DaxxCoin\",\"Bulwark\",\"Kalkulus\",\"AC3\",\"Lethean\",\"GermanCoin\",\"LiteCoin Ultra\",\"PopularCoin\",\"PhantomX\",\"Photon\",\"Sucre\",\"SparksPay\",\"Digiwage\",\"GunCoin\",\"IrishCoin\",\"Trollcoin\",\"Litecoin Plus\",\"Monkey Project\",\"Pioneer Coin\",\"UnitedBitcoin\",\"Interzone\",\"TokenPay\",\"1717 Masonic Commemorative Token\",\"My Big Coin\",\"TurtleCoin\",\"MUNcoin\",\"Unified Society USDEX\",\"Niobio Cash\",\"ShareChain\",\"Travelflex\",\"KREDS\",\"Tokyo Coin\",\"BiblePay\",\"LitecoinCash\",\"BitFlip\",\"LottoCoin\",\"Crypto Improvement Fund\",\"Stipend\",\"Poa Network\",\"Pushi\",\"Ellerium\",\"Velox\",\"Ontology\",\"Callisto Network\",\"BitTube\",\"Poseidon\",\"Aidos Kuneen\",\"Bitspace\",\"Briacoin\",\"Ignition\",\"Bitrolium\",\"MedicCoin\",\"Alpenschillling\",\"Bitcoin Green\",\"Deviant Coin\",\"Abjcoin\",\"Semux\",\"FuturoCoin\",\"Carebit\",\"Zealium\",\"Monero Classic\",\"Proton\",\"iDealCash\",\"Jumpcoin\",\"Infinex\",\"Bitcoin Incognito\",\"KEYCO\",\"HollyWoodCoin\",\"GINcoin\",\"PlatinCoin\",\"Loki\",\"Newton Coin\",\"Swisscoin\",\"Xt3ch\",\"MassGrid\",\"TheVig\",\"PluraCoin\",\"EmaratCoin\",\"Dekado\",\"Lynx\",\"Poseidon Quark\",\"BitcoinWSpectrum\",\"Muse\",\"Motion\",\"PlusOneCoin\",\"Axe\",\"Trivechain\",\"Dystem\",\"Giant\",\"Peony Coin\",\"Absolute Coin\",\"Vitae\",\"HexCoin\",\"TPCash\",\"Webchain\",\"Ryo\",\"Urals Coin\",\"Qwertycoin\",\"ARENON\",\"EUNO\",\"MMOCoin\",\"Ketan\",\"Project Pai\",\"XDNA\",\"PAXEX\",\"Azart\",\"ThunderStake\",\"Kcash\",\"Xchange\",\"Acute Angle Cloud\",\"CrypticCoin\",\"Bettex coin\",\"Actinium\",\"Bitcoin SV\",\"BitMoney\",\"Junson Ming Chan Coin\",\"FREDEnergy\",\"HerbCoin\",\"Universal Molecule\",\"Lithium\",\"PirateCash\",\"Exosis\",\"Block-Logic\",\"Oduwa\",\"Beam\",\"Galilel\",\"Bithereum\",\"Crypto Sports\",\"Credit\",\"SLICE\",\"Dash Platinum\",\"Nasdacoin\",\"Beetle Coin\",\"Titan Coin\",\"Award\",\"BLAST\",\"Bitcoin Rhodium\",\"GlobalToken\",\"Insane Coin\",\"ALAX\",\"LiteDoge\",\"SolarCoin\",\"TruckCoin\",\"UFO Coin\",\"OrangeCoin\",\"BlakeCoin\",\"BitstarCoin\",\"NeosCoin\",\"HyperCoin\",\"PinkCoin\",\"Crypto Escudo\",\"AudioCoin\",\"IncaKoin\",\"Piggy Coin\",\"Crown Coin\",\"Genstake\",\"SmileyCoin\",\"XiaoMiCoin\",\"Groestlcoin\",\"CapriCoin\",\" ClubCoin\",\"Radium\",\"Bata\",\"Pakcoin\",\"Creditbit \",\"OKCash\",\"Lisk\",\"HiCoin\",\"WhiteCoin\",\"FriendshipCoin\",\"JoinCoin\",\"Triangles Coin\",\"Vollar\",\"EOS\",\"Reality Clash\",\"Oxycoin\",\"TigerCash\",\"Waves\",\"Particl\",\"BitTorrent\",\"Nxt\",\"ZEPHYR\",\"Gapcoin\",\"Beldex\",\"Horizen\",\"BitcoinPlus\"],\"PC_1\":{\"__ndarray__\":\"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\",\"dtype\":\"float64\",\"order\":\"little\",\"shape\":[532]},\"PC_2\":{\"__ndarray__\":\"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\",\"dtype\":\"float64\",\"order\":\"little\",\"shape\":[532]},\"PC_3\":{\"__ndarray__\":\"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\",\"dtype\":\"float64\",\"order\":\"little\",\"shape\":[532]},\"ProofType\":[\"PoW/PoS\",\"PoW/PoS\",\"PoW/PoS\",\"PoW\",\"PoW\",\"PoW\",\"PoW/PoS\",\"PoW\",\"PoW\",\"PoW\",\"PoS\",\"PoW\",\"PoW/PoS\",\"PoS\",\"PoW\",\"PoW/PoS\",\"PoW\",\"PoW\",\"PoW/PoS\",\"PoW/PoS\",\"PoW\",\"PoW\",\"PoW\",\"PoW\",\"PoW\",\"PoW/PoS\",\"PoW\",\"PoW\",\"PoW\",\"PoW/PoS\",\"PoW\",\"PoW/PoS\",\"PoW\",\"PoW\",\"PoC\",\"PoW/PoS\",\"PoW\",\"PoW\",\"PoW\",\"PoW\",\"PoW\",\"PoW\",\"PoS\",\"PoS/PoW/PoT\",\"PoW\",\"PoW\",\"PoW\",\"PoW\",\"PoW\",\"PoW/PoS\",\"PoS\",\"PoW\",\"PoW/PoS\",\"PoW\",\"PoW\",\"PoW\",\"PoW\",\"PoW/PoS\",\"PoW\",\"PoW\",\"PoS\",\"PoW\",\"PoW/PoS\",\"PoS\",\"PoW/PoS\",\"PoW\",\"PoW\",\"PoW\",\"PoW/PoS\",\"PoW/PoS\",\"PoW/PoS\",\"PoW/PoS\",\"PoW/PoS\",\"PoW\",\"PoW\",\"PoW\",\"PoS\",\"PoW/PoS\",\"PoW\",\"PoS\",\"PoW\",\"PoS\",\"PoW/PoS\",\"PoW\",\"PoW\",\"PoW\",\"PoW\",\"PoW/PoS\",\"PoW/PoS\",\"PoW\",\"PoST\",\"PoW\",\"PoW\",\"PoW/PoS\",\"PoS\",\"PoW\",\"PoW/PoS\",\"PoW/PoS\",\"PoW\",\"PoW\",\"PoC\",\"PoS\",\"PoW\",\"PoW/PoS\",\"PoW/PoS\",\"PoW\",\"PoS\",\"PoW\",\"PoW/PoS\",\"PoW\",\"PoS\",\"PoW\",\"PoW/PoS\",\"PoW/PoS\",\"PoW\",\"PoW\",\"PoS\",\"PoW\",\"PoW\",\"PoW\",\"PoW/PoS\",\"PoW\",\"PoW\",\"PoW\",\"PoW\",\"PoW\",\"PoW/PoS\",\"PoW/nPoS\",\"PoW\",\"PoW\",\"PoW\",\"PoW/PoS\",\"PoW\",\"PoS/PoW\",\"PoW\",\"PoW\",\"PoS\",\"PoW\",\"PoW/PoS\",\"PoW\",\"PoW/PoS\",\"PoW/PoS\",\"PoW\",\"PoW\",\"PoW/PoS\",\"PoW\",\"PoW\",\"PoW/PoS\",\"PoW/PoS\",\"PoW\",\"PoW/PoS\",\"PoW\",\"PoW/PoS\",\"PoW/PoS\",\"PoS\",\"PoW\",\"PoW\",\"PoW\",\"PoW\",\"PoW/PoS\",\"PoS\",\"PoW/PoS\",\"PoC\",\"PoS\",\"PoW\",\"PoW\",\"PoW/PoS\",\"PoW/PoS\",\"PoW/PoS\",\"PoW/PoS\",\"PoW/PoS\",\"PoW\",\"PoS\",\"PoW/PoS\",\"PoW/PoS\",\"PoW/PoS\",\"PoS\",\"PoW\",\"PoS\",\"dPoW/PoW\",\"PoW/PoS\",\"PoW/PoS\",\"PoW\",\"PoW/PoS\",\"PoW\",\"PoW/PoS\",\"PoW/PoS\",\"PoW\",\"PoW/PoS\",\"PoW\",\"PoS\",\"PoW\",\"PoW/PoW\",\"PoW\",\"PoW/PoS\",\"PoS\",\"PoW/PoS\",\"PoW/PoS\",\"PoW\",\"PoS\",\"PoS\",\"PoW/PoS\",\"PoS\",\"PoW/PoS\",\"PoW\",\"PoW\",\"DPoS\",\"PoW/PoS\",\"PoW\",\"PoW\",\"PoW/PoS\",\"PoW/PoS\",\"PoS\",\"PoW/PoS\",\"PoW/PoS\",\"PoW\",\"PoS\",\"PoW/PoS\",\"PoW/PoS\",\"PoW/PoS\",\"TPoS\",\"PoW/PoS\",\"PoW/PoS\",\"PoW/PoS\",\"PoW\",\"PoW/PoS\",\"PoS\",\"PoW/PoS\",\"PoW/PoS\",\"PoS\",\"PoW/PoS\",\"PoW\",\"PoW\",\"PoW\",\"PoW/PoS\",\"PoW/PoS\",\"PoW/PoS\",\"PoW/PoS\",\"PoW\",\"PoW/PoS\",\"PoW\",\"PoS\",\"PoW/PoS \",\"PoW\",\"PoS\",\"PoW\",\"PoW\",\"PoW/PoS\",\"PoW\",\"PoW\",\"PoS\",\"PoW\",\"PoW/PoS\",\"PoW/PoS\",\"PoW/PoS\",\"PoW\",\"PoS\",\"PoW/PoS\",\"PoW\",\"PoS\",\"PoW/PoS\",\"PoW/PoS\",\"PoW/PoS\",\"PoW/PoS\",\"PoS\",\"PoW/PoS\",\"PoW\",\"PoS\",\"PoW\",\"PoS\",\"PoW/PoS\",\"PoW/PoS\",\"PoS\",\"PoW\",\"PoS\",\"PoW\",\"PoW/PoS\",\"PoW\",\"PoW\",\"PoW\",\"PoW\",\"PoW/PoS\",\"PoW\",\"PoW/PoS\",\"PoW/PoS\",\"PoW\",\"PoW/PoS\",\"PoW\",\"PoW\",\"PoW\",\"PoW/PoS\",\"PoW\",\"PoW/PoS\",\"PoW\",\"PoW\",\"PoW\",\"PoS\",\"PoW\",\"PoW/PoS\",\"PoW\",\"PoW/PoS\",\"PoS\",\"Proof of Authority\",\"PoW\",\"PoS\",\"PoW\",\"PoW\",\"PoW\",\"PoW\",\"PoW\",\"PoW/PoS\",\"PoW/PoS\",\"PoW\",\"PoS\",\"PoS\",\"PoW/PoS\",\"PoW\",\"PoW/PoS\",\"PoW\",\"PoW/PoS\",\"PoW\",\"PoS\",\"PoW\",\"PoW/PoS\",\"PoW/PoS\",\"PoW/PoS\",\"PoW/PoS\",\"PoW\",\"PoW/PoS\",\"PoW/PoS\",\"PoW\",\"PoS\",\"PoW/PoS\",\"PoS\",\"PoW\",\"PoW\",\"PoW\",\"PoW\",\"PoW/PoS\",\"DPoS\",\"PoW/PoS\",\"PoW/PoS\",\"PoW\",\"PoW/PoS\",\"PoW\",\"PoW\",\"PoW\",\"PoS\",\"PoS\",\"PoW\",\"PoW\",\"PoW/PoS\",\"PoW/PoS\",\"PoW\",\"PoW/PoS\",\"PoW\",\"PoW\",\"PoW\",\"PoS\",\"PoW\",\"PoW\",\"PoW/PoS\",\"PoW/PoS\",\"PoS\",\"PoW\",\"PoW\",\"PoW\",\"PoS\",\"PoS\",\"PoW and PoS\",\"PoW\",\"PoW\",\"PoW/PoS\",\"PoW\",\"PoW\",\"PoW\",\"PoW\",\"PoS\",\"POBh\",\"PoW + Hive\",\"PoW\",\"PoW\",\"PoW\",\"PoW/PoS\",\"PoA\",\"PoW/PoS\",\"PoW/PoS\",\"PoS\",\"PoS\",\"PoW\",\"PoW\",\"PoW\",\"PoW\",\"PoW/PoS\",\"PoW/PoS\",\"PoW/PoS\",\"PoW\",\"PoS\",\"PoW\",\"PoS\",\"PoS\",\"PoW/PoS\",\"DPoS\",\"PoW\",\"PoW/PoS\",\"PoS\",\"PoW\",\"PoS\",\"PoW/PoS\",\"PoW\",\"PoW\",\"PoS/PoW\",\"PoW\",\"PoS\",\"PoW\",\"PoW\",\"PoW\",\"PoW\",\"PoW/PoS\",\"PoS\",\"PoW\",\"PoW/PoS\",\"PoW\",\"PoW/PoS\",\"PoS\",\"HPoW\",\"PoS\",\"PoS\",\"PoS\",\"PoW\",\"PoW\",\"PoW\",\"PoW/PoS\",\"PoS\",\"PoW/PoS\",\"PoS\",\"PoW/PoS\",\"PoS\",\"PoW\",\"PoW/PoS\",\"PoW\",\"PoW\",\"PoW\",\"PoW\",\"PoS\",\"PoW/PoS\",\"PoS\",\"PoS\",\"PoW\",\"PoW/PoS\",\"PoS\",\"PoW\",\"PoW/PoS\",\"Zero-Knowledge Proof\",\"PoW\",\"DPOS\",\"PoW\",\"PoS\",\"PoW\",\"PoW\",\"Pos\",\"PoS\",\"PoW\",\"PoW/PoS\",\"PoW\",\"PoW\",\"PoS\",\"PoW\",\"PoW\",\"PoW/PoS\",\"PoW\",\"PoW/PoS\",\"PoW\",\"PoS\",\"PoW/PoS\",\"PoW\",\"PoS\",\"PoW/PoS\",\"PoW/PoS\",\"PoW/PoS\",\"PoW/PoS\",\"PoW\",\"PoW\",\"PoW\",\"PoW/PoS\",\"DPoS\",\"PoW/PoS\",\"PoW\",\"PoW/PoS\",\"PoW\",\"PoW/PoS\",\"PoW\",\"PoW/PoS\",\"PoS\",\"PoW/PoS\",\"PoW/PoS\",\"PoW\",\"PoW/PoS\",\"PoW/PoS\",\"PoW/PoS\",\"PoW\",\"PoW/PoS\",\"PoW\",\"PoW/PoS\",\"PoW\",\"PoW/PoS\",\"PoW/PoS\",\"PoS\",\"PoW\",\"PoW\",\"Proof of Trust\",\"PoW/PoS\",\"DPoS\",\"PoS\",\"PoW/PoS\",\"PoW/PoS\",\"PoW\",\"PoW/PoS\",\"PoW\",\"DPoS\",\"PoW\",\"DPoS\",\"PoS\",\"LPoS\",\"PoS\",\"DPoS\",\"PoS/LPoS\",\"DPoS\",\"PoW/PoS\",\"PoW\",\"PoW\",\"PoS\"],\"TotalCoinSupply\":[\"42\",\"532000000\",\"314159265359\",\"21000000\",\"0\",\"84000000\",\"22000000\",\"0\",\"210000000\",\"21000000\",\"3600570502\",\"21000000000\",\"22000000\",\"12500000\",\"21000000\",\"350000000\",\"20000000\",\"64000000\",\"16768584\",\"0\",\"2000000000\",\"384000000000\",\"169795588\",\"250000000\",\"100000000\",\"0\",\"247000000\",\"84000000\",\"48166000\",\"500000\",\"21000000 \",\"1000000\",\"13140000\",\"18000000\",\"40000000000\",\"4380000\",\"16555000000\",\"21000000000\",\"13500000000\",\"21000000 \",\"299792458\",\"32000000\",\"0\",\"0\",\"11235813\",\"336000000\",\"1420609614\",\"70000000\",\"72245700\",\"120000000\",\"0\",\"90600000000\",\"22000000\",\"21000000\",\"265420800\",\"20000000\",\"1350000\",\"100000000\",\"42000000\",\"200000000\",\"0\",\"10000000\",\"2419200000\",\"16180000\",\"0\",\"15000000000\",\"21000000\",\"337000000\",\"0\",\"3770000\",\"420000000\",\"98000000\",\"0\",\"21000000\",\"250000000\",\"51200000\",\"0\",\"1000\",\"888000000\",\"100000000\",\"47011968\",\"2300000000\",\"10000000\",\"42000000\",\"80000000\",\"250000\",\"0\",\"1600000000\",\"100000000\",\"23000000\",\"0\",\"84000000\",\"265420800\",\"5500000\",\"0\",\"45000000\",\"0\",\"1000000000\",\"184467440735\",\"10000000000\",\"2158812800\",\"500000000\",\"105120000\",\"68000000\",\"0\",\"1680000000\",\"0\",\"166386000\",\"12000000\",\"2628000\",\"500000000\",\"160000000\",\"0\",\"10000000\",\"1000000000\",\"1000000000\",\"20000000\",\"0\",\"0\",\"3371337\",\"20000000\",\"10000000000\",\"1840000000\",\"619478\",\"21000000\",\"92000000000\",\"0\",\"78000000\",\"33000000\",\"65789100\",\"53760000\",\"5060000\",\"21000000\",\"0\",\"210240000\",\"250000000\",\"100000000\",\"16906397\",\"50000000\",\"0\",\"1000000000\",\"26298000\",\"16000000\",\"21000000\",\"21000000\",\"210000000\",\"81962100\",\"22000000\",\"26550000000\",\"84000000\",\"10500000\",\"21626280000 \",\"0\",\"42000000\",\"221052632\",\"84000000\",\"30000000\",\"168351300\",\"24000000\",\"384000000\",\" 99000000000\",\"40000000\",\"2147483647\",\"20000000\",\"20000000\",\"25000000\",\"75000000\",\"222725000\",\"525000000\",\"90000000\",\"139000000\",\"616448\",\"33500000\",\"2000000000\",\"44333333\",\"100000000\",\"200000000\",\"25000000\",\"657000000\",\"200000000\",\"50000000\",\"90000000\",\"10000000\",\"21000000\",\"9736000\",\"3000000\",\"21000000\",\"1200000000\",\"0\",\"200000000\",\"0\",\"10638298\",\"3100000000\",\"30000000\",\"20000000000\",\"74000000\",\"0\",\"1500000000\",\"21400000\",\"39999898\",\"2500124\",\"100000000\",\"301000000\",\"7506000000\",\"26205539\",\"21000000\",\"125000000\",\"30000000\",\"10000000000\",\"500000000\",\"850000000\",\"3853326.77707314\",\"50000000\",\"38540000 \",\"42000000\",\"228000000\",\"20000000\",\"60000000\",\"20000000\",\"33000000\",\"76500000\",\"28000000\",\"650659833\",\"5000000\",\"21000000\",\"144000000\",\"32514916898\",\"13000000\",\"3315789\",\"15000000\",\"78835200\",\"2714286\",\"25000000\",\"9999999\",\"500000000\",\"21000000\",\"9354000\",\"20000000\",\"100000000000\",\"21933333\",\"185000000\",\"55000000\",\"110000000\",\"3360000\",\"14524851.4827\",\"1000000000\",\"17000000\",\"1000000000\",\"100000000 \",\"21000000\",\"34426423\",\"2232901\",\"100000000\",\"36900000\",\"110000000\",\"4000000000\",\"110290030\",\"100000000\",\"48252000\",\"400000000\",\"500000000\",\"21212121\",\"28600000\",\"1000000000\",\"75000000000\",\"40000000\",\"35520400\",\"2000000000\",\"2500000000\",\"30000000\",\"105000000\",\"90000000000\",\"200084200\",\"72000000\",\"100000000\",\"105000000\",\"50000000000\",\"0\",\"340282367\",\"30000000\",\"2000000000\",\"10000000\",\"100000000\",\"120000000\",\"100000000\",\"19276800\",\"30000000\",\" 75000000\",\"60000000\",\"18900000\",\"50000000000\",\"54000000\",\"18898187.6216583\",\"21000000\",\"200000000000\",\"5000000000\",\"137500000\",\"1100000000\",\"100000000\",\"21000000\",\"9507271\",\"17405891.19707116\",\"86712634466\",\"10500000000\",\"61599965\",\"0\",\"20000000\",\"84000000\",\"100000000\",\"100000000\",\"48252000\",\"4200000\",\"88888888\",\"91388946\",\"45000000000\",\"27000000\",\"21000000000\",\"400000000\",\"1800000000\",\"15733333\",\"27000000\",\"24000000\",\"21000000\",\"25000000000\",\"100000000\",\"1200000000\",\"60000000\",\"156306732.71\",\"21000000\",\"200000000\",\"100000000\",\"21000000\",\"14788275.991\",\"9000000000\",\"350000000\",\"45000000\",\"280000000\",\"31800000\",\"144000000\",\"500000000\",\"30000000000\",\"210000000\",\"660000000\",\"210000000\",\"85000000000\",\"12500000\",\"10000000000\",\"27716121\",\"20000000\",\"550000000\",\"999481516\",\"50000000000\",\"150000000\",\"4999999999\",\"50000000\",\" 90000000000\",\"19800000\",\"21000000\",\"120000000\",\"500000000\",\"64000000\",\"900000000\",\"4000000\",\"21000000\",\"23000000\",\"20166000\",\"23000000\",\"25000000\",\"1618033\",\"30000000\",\"1000000000000\",\"16600000\",\"232000000\",\"336000000\",\"10000000000\",\"100000000\",\"1100000000\",\"800000000\",\"5200000000\",\"840000000\",\"40000000\",\"18406979840\",\"500000000\",\"19340594\",\"252460800\",\"25000000\",\"60000000\",\"124000000\",\"1000000000\",\"6500000000\",\"1000000000\",\"21000000\",\"25000000\",\"50000000\",\"3000000\",\"5000000\",\"70000000\",\"500000000\",\"300000000\",\"21000000\",\"88000000\",\"30000000\",\"100000000\",\"100000000\",\"200000000\",\"80000000\",\"18400000\",\"45000000\",\"5121951220\",\"21000000\",\"26280000\",\"21000000\",\"18000000\",\"26000000\",\"10500000\",\"600000518\",\"150000000\",\"184000000000\",\"10200000000\",\"44000000\",\"168000000\",\"100000000\",\"1000000000\",\"84000000\",\"90000000\",\"92000000000\",\"650000000 \",\"100262205\",\"18081806 \",\"22075700\",\"21000000\",\"21000000\",\"82546564\",\"21000000\",\"5151000\",\"16880000000\",\"52500000\",\"100000000\",\"22105263\",\"1000000000\",\"1750000000\",\"88188888\",\"210000000\",\"184470000000\",\"55000000\",\"50000000\",\"260000000\",\"210000000\",\"2100000000\",\"366000000\",\"100000000\",\"25000000\",\"18000000000\",\"1000000000\",\"100000000\",\"1000000000\",\"7600000000\",\"50000000\",\"84000000\",\"21000000\",\"70000000000\",\"0\",\"8080000000\",\"54000000\",\"105120001.44\",\"25228800\",\"105000000\",\"21000000\",\"120000000\",\"21000000\",\"262800000\",\"19035999\",\"30886000\",\"13370000\",\"74800000000\",\"100000000\",\"19700000\",\"84000000\",\"500000000\",\"5000000000\",\"420000000\",\"64000000\",\"2100000\",\"168000000\",\"30000000\",\"1000000000\",\"35000000000\",\"98100000000\",\"0\",\"4000000000\",\"200000000\",\"7000000000\",\"54256119\",\"21000000\",\"0\",\"500000000\",\"1000000000\",\"10500000000\",\"190000000\",\"1000000000\",\"42000000\",\"15000000\",\"50000000000\",\"400000000\",\"105000000\",\"208000000\",\"160000000\",\"9000000\",\"5000000\",\"182000000\",\"16504333\",\"105000000\",\"159918400\",\"10008835635\",\"300000000\",\"60168145\",\"2800000\",\"120000\",\"2100000000\",\"0\",\"24487944\",\"0\",\"1000000000\",\"100000000\",\"8634140\",\"990000000000\",\"1000000000\",\"2000000000\",\"250000000\",\"1400222610\",\"21000000\",\"1000000\"],\"TotalCoinsMined\":{\"__ndarray__\":\"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\",\"dtype\":\"float64\",\"order\":\"little\",\"shape\":[532]}},\"selected\":{\"id\":\"2344\"},\"selection_policy\":{\"id\":\"2393\"}},\"id\":\"2343\",\"type\":\"ColumnDataSource\"},{\"attributes\":{},\"id\":\"2385\",\"type\":\"NumberFormatter\"},{\"attributes\":{\"columns\":[{\"id\":\"2347\"},{\"id\":\"2352\"},{\"id\":\"2357\"},{\"id\":\"2362\"},{\"id\":\"2367\"},{\"id\":\"2372\"},{\"id\":\"2377\"},{\"id\":\"2382\"},{\"id\":\"2387\"}],\"height\":300,\"reorderable\":false,\"source\":{\"id\":\"2343\"},\"view\":{\"id\":\"2392\"},\"width\":700},\"id\":\"2390\",\"type\":\"DataTable\"},{\"attributes\":{\"format\":\"0,0.0[00000]\"},\"id\":\"2370\",\"type\":\"NumberFormatter\"},{\"attributes\":{\"editor\":{\"id\":\"2381\"},\"field\":\"CoinName\",\"formatter\":{\"id\":\"2380\"},\"title\":\"CoinName\"},\"id\":\"2382\",\"type\":\"TableColumn\"},{\"attributes\":{},\"id\":\"2366\",\"type\":\"NumberEditor\"},{\"attributes\":{},\"id\":\"2345\",\"type\":\"StringFormatter\"},{\"attributes\":{\"format\":\"0,0.0[00000]\"},\"id\":\"2375\",\"type\":\"NumberFormatter\"},{\"attributes\":{},\"id\":\"2346\",\"type\":\"StringEditor\"},{\"attributes\":{},\"id\":\"2351\",\"type\":\"StringEditor\"},{\"attributes\":{\"editor\":{\"id\":\"2371\"},\"field\":\"PC_2\",\"formatter\":{\"id\":\"2370\"},\"title\":\"PC 2\"},\"id\":\"2372\",\"type\":\"TableColumn\"},{\"attributes\":{\"editor\":{\"id\":\"2346\"},\"field\":\"Algorithm\",\"formatter\":{\"id\":\"2345\"},\"title\":\"Algorithm\"},\"id\":\"2347\",\"type\":\"TableColumn\"},{\"attributes\":{},\"id\":\"2371\",\"type\":\"NumberEditor\"},{\"attributes\":{},\"id\":\"2350\",\"type\":\"StringFormatter\"},{\"attributes\":{\"editor\":{\"id\":\"2376\"},\"field\":\"PC_3\",\"formatter\":{\"id\":\"2375\"},\"title\":\"PC 3\"},\"id\":\"2377\",\"type\":\"TableColumn\"},{\"attributes\":{},\"id\":\"2393\",\"type\":\"UnionRenderers\"},{\"attributes\":{\"source\":{\"id\":\"2343\"}},\"id\":\"2392\",\"type\":\"CDSView\"},{\"attributes\":{\"editor\":{\"id\":\"2356\"},\"field\":\"TotalCoinsMined\",\"formatter\":{\"id\":\"2355\"},\"title\":\"TotalCoinsMined\"},\"id\":\"2357\",\"type\":\"TableColumn\"},{\"attributes\":{\"editor\":{\"id\":\"2351\"},\"field\":\"ProofType\",\"formatter\":{\"id\":\"2350\"},\"title\":\"ProofType\"},\"id\":\"2352\",\"type\":\"TableColumn\"},{\"attributes\":{\"editor\":{\"id\":\"2386\"},\"field\":\"Class\",\"formatter\":{\"id\":\"2385\"},\"title\":\"Class\"},\"id\":\"2387\",\"type\":\"TableColumn\"},{\"attributes\":{\"format\":\"0,0.0[00000]\"},\"id\":\"2355\",\"type\":\"NumberFormatter\"},{\"attributes\":{},\"id\":\"2381\",\"type\":\"StringEditor\"},{\"attributes\":{\"margin\":[5,5,5,5],\"name\":\"HSpacer02254\",\"sizing_mode\":\"stretch_width\"},\"id\":\"2342\",\"type\":\"Spacer\"},{\"attributes\":{\"children\":[{\"id\":\"2342\"},{\"id\":\"2390\"},{\"id\":\"2395\"}],\"margin\":[0,0,0,0],\"name\":\"Row02250\",\"tags\":[\"embedded\"]},\"id\":\"2341\",\"type\":\"Row\"},{\"attributes\":{},\"id\":\"2361\",\"type\":\"StringEditor\"},{\"attributes\":{},\"id\":\"2376\",\"type\":\"NumberEditor\"},{\"attributes\":{},\"id\":\"2356\",\"type\":\"NumberEditor\"},{\"attributes\":{},\"id\":\"2360\",\"type\":\"StringFormatter\"},{\"attributes\":{},\"id\":\"2380\",\"type\":\"StringFormatter\"},{\"attributes\":{},\"id\":\"2344\",\"type\":\"Selection\"},{\"attributes\":{\"editor\":{\"id\":\"2366\"},\"field\":\"PC_1\",\"formatter\":{\"id\":\"2365\"},\"title\":\"PC 1\"},\"id\":\"2367\",\"type\":\"TableColumn\"}],\"root_ids\":[\"2341\"]},\"title\":\"Bokeh Application\",\"version\":\"2.4.3\"}};\n",
       "    var render_items = [{\"docid\":\"95aa8ded-d69b-46e6-88e2-06e1fdd0a825\",\"root_ids\":[\"2341\"],\"roots\":{\"2341\":\"837c4561-13b8-4873-aa87-8b980de28308\"}}];\n",
       "    root.Bokeh.embed.embed_items_notebook(docs_json, render_items);\n",
       "  }\n",
       "  if (root.Bokeh !== undefined && root.Bokeh.Panel !== undefined) {\n",
       "    embed_document(root);\n",
       "  } else {\n",
       "    var attempts = 0;\n",
       "    var timer = setInterval(function(root) {\n",
       "      if (root.Bokeh !== undefined && root.Bokeh.Panel !== undefined) {\n",
       "        clearInterval(timer);\n",
       "        embed_document(root);\n",
       "      } else if (document.readyState == \"complete\") {\n",
       "        attempts++;\n",
       "        if (attempts > 200) {\n",
       "          clearInterval(timer);\n",
       "          console.log(\"Bokeh: ERROR: Unable to run BokehJS code because BokehJS library is missing\");\n",
       "        }\n",
       "      }\n",
       "    }, 25, root)\n",
       "  }\n",
       "})(window);</script>"
      ],
      "text/plain": [
       ":Table   [Algorithm,ProofType,TotalCoinsMined,TotalCoinSupply,PC 1,PC 2,PC 3,CoinName,Class]"
      ]
     },
     "execution_count": 100,
     "metadata": {
      "application/vnd.holoviews_exec.v0+json": {
       "id": "2341"
      }
     },
     "output_type": "execute_result"
    }
   ],
   "source": [
    "# Create a table with tradable cryptocurrencies.\n",
    "clustered_df.hvplot.table(sortable=True, selectable=True)"
   ]
  },
  {
   "cell_type": "code",
   "execution_count": 101,
   "metadata": {},
   "outputs": [
    {
     "name": "stdout",
     "output_type": "stream",
     "text": [
      "The total number of tradable cryptocurrencies is: 532.\n"
     ]
    }
   ],
   "source": [
    "# Print the total number of tradable cryptocurrencies.\n",
    "print(f\"The total number of tradable cryptocurrencies is: {clustered_df['Algorithm'].count()}.\")"
   ]
  },
  {
   "cell_type": "code",
   "execution_count": 102,
   "metadata": {},
   "outputs": [
    {
     "data": {
      "text/plain": [
       "array([[4.20000000e-11, 0.00000000e+00],\n",
       "       [5.32000000e-04, 1.06585544e-03],\n",
       "       [3.14159265e-01, 2.95755135e-02],\n",
       "       ...,\n",
       "       [1.40022261e-03, 9.90135079e-04],\n",
       "       [2.10000000e-05, 7.37028150e-06],\n",
       "       [1.00000000e-06, 1.29582282e-07]])"
      ]
     },
     "execution_count": 102,
     "metadata": {},
     "output_type": "execute_result"
    }
   ],
   "source": [
    "# Scaling data to create the scatter plot with tradable cryptocurrencies.\n",
    "scaled =MinMaxScaler().fit_transform(clustered_df[[\"TotalCoinSupply\",\"TotalCoinsMined\"]])\n",
    "scaled"
   ]
  },
  {
   "cell_type": "code",
   "execution_count": 103,
   "metadata": {},
   "outputs": [
    {
     "data": {
      "text/html": [
       "<div>\n",
       "<style scoped>\n",
       "    .dataframe tbody tr th:only-of-type {\n",
       "        vertical-align: middle;\n",
       "    }\n",
       "\n",
       "    .dataframe tbody tr th {\n",
       "        vertical-align: top;\n",
       "    }\n",
       "\n",
       "    .dataframe thead th {\n",
       "        text-align: right;\n",
       "    }\n",
       "</style>\n",
       "<table border=\"1\" class=\"dataframe\">\n",
       "  <thead>\n",
       "    <tr style=\"text-align: right;\">\n",
       "      <th></th>\n",
       "      <th>TotalCoinSupply</th>\n",
       "      <th>TotalCoinsMined</th>\n",
       "      <th>CoinName</th>\n",
       "      <th>Class</th>\n",
       "    </tr>\n",
       "  </thead>\n",
       "  <tbody>\n",
       "    <tr>\n",
       "      <th>42</th>\n",
       "      <td>4.200000e-11</td>\n",
       "      <td>0.000000</td>\n",
       "      <td>42 Coin</td>\n",
       "      <td>0</td>\n",
       "    </tr>\n",
       "    <tr>\n",
       "      <th>404</th>\n",
       "      <td>5.320000e-04</td>\n",
       "      <td>0.001066</td>\n",
       "      <td>404Coin</td>\n",
       "      <td>0</td>\n",
       "    </tr>\n",
       "    <tr>\n",
       "      <th>1337</th>\n",
       "      <td>3.141593e-01</td>\n",
       "      <td>0.029576</td>\n",
       "      <td>EliteCoin</td>\n",
       "      <td>0</td>\n",
       "    </tr>\n",
       "    <tr>\n",
       "      <th>BTC</th>\n",
       "      <td>2.100000e-05</td>\n",
       "      <td>0.000018</td>\n",
       "      <td>Bitcoin</td>\n",
       "      <td>2</td>\n",
       "    </tr>\n",
       "    <tr>\n",
       "      <th>ETH</th>\n",
       "      <td>0.000000e+00</td>\n",
       "      <td>0.000109</td>\n",
       "      <td>Ethereum</td>\n",
       "      <td>2</td>\n",
       "    </tr>\n",
       "    <tr>\n",
       "      <th>LTC</th>\n",
       "      <td>8.400000e-05</td>\n",
       "      <td>0.000064</td>\n",
       "      <td>Litecoin</td>\n",
       "      <td>2</td>\n",
       "    </tr>\n",
       "    <tr>\n",
       "      <th>DASH</th>\n",
       "      <td>2.200000e-05</td>\n",
       "      <td>0.000009</td>\n",
       "      <td>Dash</td>\n",
       "      <td>0</td>\n",
       "    </tr>\n",
       "    <tr>\n",
       "      <th>XMR</th>\n",
       "      <td>0.000000e+00</td>\n",
       "      <td>0.000017</td>\n",
       "      <td>Monero</td>\n",
       "      <td>2</td>\n",
       "    </tr>\n",
       "    <tr>\n",
       "      <th>ETC</th>\n",
       "      <td>2.100000e-04</td>\n",
       "      <td>0.000115</td>\n",
       "      <td>Ethereum Classic</td>\n",
       "      <td>2</td>\n",
       "    </tr>\n",
       "    <tr>\n",
       "      <th>ZEC</th>\n",
       "      <td>2.100000e-05</td>\n",
       "      <td>0.000007</td>\n",
       "      <td>ZCash</td>\n",
       "      <td>2</td>\n",
       "    </tr>\n",
       "  </tbody>\n",
       "</table>\n",
       "</div>"
      ],
      "text/plain": [
       "      TotalCoinSupply  TotalCoinsMined          CoinName  Class\n",
       "42       4.200000e-11         0.000000           42 Coin      0\n",
       "404      5.320000e-04         0.001066           404Coin      0\n",
       "1337     3.141593e-01         0.029576         EliteCoin      0\n",
       "BTC      2.100000e-05         0.000018           Bitcoin      2\n",
       "ETH      0.000000e+00         0.000109          Ethereum      2\n",
       "LTC      8.400000e-05         0.000064          Litecoin      2\n",
       "DASH     2.200000e-05         0.000009              Dash      0\n",
       "XMR      0.000000e+00         0.000017            Monero      2\n",
       "ETC      2.100000e-04         0.000115  Ethereum Classic      2\n",
       "ZEC      2.100000e-05         0.000007             ZCash      2"
      ]
     },
     "execution_count": 103,
     "metadata": {},
     "output_type": "execute_result"
    }
   ],
   "source": [
    "# Create a new DataFrame that has the scaled data with the clustered_df DataFrame index.\n",
    "plot_df = pd.DataFrame(data=scaled, columns=[\"TotalCoinSupply\",\"TotalCoinsMined\"], index = clustered_df.index)\n",
    "\n",
    "# Add the \"CoinName\" column from the clustered_df DataFrame to the new DataFrame.\n",
    "plot_df['CoinName'] = clustered_df['CoinName']\n",
    "\n",
    "# Add the \"Class\" column from the clustered_df DataFrame to the new DataFrame. \n",
    "plot_df['Class'] = clustered_df['Class']\n",
    "\n",
    "plot_df.head(10)"
   ]
  },
  {
   "cell_type": "code",
   "execution_count": 104,
   "metadata": {},
   "outputs": [
    {
     "data": {},
     "metadata": {},
     "output_type": "display_data"
    },
    {
     "data": {
      "application/vnd.holoviews_exec.v0+json": "",
      "text/html": [
       "<div id='2407'>\n",
       "  <div class=\"bk-root\" id=\"0a6fa988-de31-4283-ab4f-362ec88ebc91\" data-root-id=\"2407\"></div>\n",
       "</div>\n",
       "<script type=\"application/javascript\">(function(root) {\n",
       "  function embed_document(root) {\n",
       "    var docs_json = {\"cb831f5d-6bcb-4380-821f-ef4d62d83e92\":{\"defs\":[{\"extends\":null,\"module\":null,\"name\":\"ReactiveHTML1\",\"overrides\":[],\"properties\":[]},{\"extends\":null,\"module\":null,\"name\":\"FlexBox1\",\"overrides\":[],\"properties\":[{\"default\":\"flex-start\",\"kind\":null,\"name\":\"align_content\"},{\"default\":\"flex-start\",\"kind\":null,\"name\":\"align_items\"},{\"default\":\"row\",\"kind\":null,\"name\":\"flex_direction\"},{\"default\":\"wrap\",\"kind\":null,\"name\":\"flex_wrap\"},{\"default\":\"flex-start\",\"kind\":null,\"name\":\"justify_content\"}]},{\"extends\":null,\"module\":null,\"name\":\"GridStack1\",\"overrides\":[],\"properties\":[{\"default\":\"warn\",\"kind\":null,\"name\":\"mode\"},{\"default\":null,\"kind\":null,\"name\":\"ncols\"},{\"default\":null,\"kind\":null,\"name\":\"nrows\"},{\"default\":true,\"kind\":null,\"name\":\"allow_resize\"},{\"default\":true,\"kind\":null,\"name\":\"allow_drag\"},{\"default\":[],\"kind\":null,\"name\":\"state\"}]},{\"extends\":null,\"module\":null,\"name\":\"click1\",\"overrides\":[],\"properties\":[{\"default\":\"\",\"kind\":null,\"name\":\"terminal_output\"},{\"default\":\"\",\"kind\":null,\"name\":\"debug_name\"},{\"default\":0,\"kind\":null,\"name\":\"clears\"}]},{\"extends\":null,\"module\":null,\"name\":\"NotificationAreaBase1\",\"overrides\":[],\"properties\":[{\"default\":\"bottom-right\",\"kind\":null,\"name\":\"position\"},{\"default\":0,\"kind\":null,\"name\":\"_clear\"}]},{\"extends\":null,\"module\":null,\"name\":\"NotificationArea1\",\"overrides\":[],\"properties\":[{\"default\":[],\"kind\":null,\"name\":\"notifications\"},{\"default\":\"bottom-right\",\"kind\":null,\"name\":\"position\"},{\"default\":0,\"kind\":null,\"name\":\"_clear\"},{\"default\":[{\"background\":\"#ffc107\",\"icon\":{\"className\":\"fas fa-exclamation-triangle\",\"color\":\"white\",\"tagName\":\"i\"},\"type\":\"warning\"},{\"background\":\"#007bff\",\"icon\":{\"className\":\"fas fa-info-circle\",\"color\":\"white\",\"tagName\":\"i\"},\"type\":\"info\"}],\"kind\":null,\"name\":\"types\"}]},{\"extends\":null,\"module\":null,\"name\":\"Notification\",\"overrides\":[],\"properties\":[{\"default\":null,\"kind\":null,\"name\":\"background\"},{\"default\":3000,\"kind\":null,\"name\":\"duration\"},{\"default\":null,\"kind\":null,\"name\":\"icon\"},{\"default\":\"\",\"kind\":null,\"name\":\"message\"},{\"default\":null,\"kind\":null,\"name\":\"notification_type\"},{\"default\":false,\"kind\":null,\"name\":\"_destroyed\"}]},{\"extends\":null,\"module\":null,\"name\":\"TemplateActions1\",\"overrides\":[],\"properties\":[{\"default\":0,\"kind\":null,\"name\":\"open_modal\"},{\"default\":0,\"kind\":null,\"name\":\"close_modal\"}]},{\"extends\":null,\"module\":null,\"name\":\"MaterialTemplateActions1\",\"overrides\":[],\"properties\":[{\"default\":0,\"kind\":null,\"name\":\"open_modal\"},{\"default\":0,\"kind\":null,\"name\":\"close_modal\"}]}],\"roots\":{\"references\":[{\"attributes\":{},\"id\":\"2433\",\"type\":\"PanTool\"},{\"attributes\":{\"coordinates\":null,\"data_source\":{\"id\":\"2451\"},\"glyph\":{\"id\":\"2454\"},\"group\":null,\"hover_glyph\":null,\"muted_glyph\":{\"id\":\"2456\"},\"nonselection_glyph\":{\"id\":\"2455\"},\"selection_glyph\":{\"id\":\"2471\"},\"view\":{\"id\":\"2458\"}},\"id\":\"2457\",\"type\":\"GlyphRenderer\"},{\"attributes\":{},\"id\":\"2436\",\"type\":\"ResetTool\"},{\"attributes\":{\"overlay\":{\"id\":\"2437\"}},\"id\":\"2435\",\"type\":\"BoxZoomTool\"},{\"attributes\":{},\"id\":\"2539\",\"type\":\"UnionRenderers\"},{\"attributes\":{},\"id\":\"2450\",\"type\":\"AllLabels\"},{\"attributes\":{\"label\":{\"value\":\"3\"},\"renderers\":[{\"id\":\"2524\"}]},\"id\":\"2542\",\"type\":\"LegendItem\"},{\"attributes\":{\"below\":[{\"id\":\"2424\"}],\"center\":[{\"id\":\"2427\"},{\"id\":\"2431\"}],\"height\":300,\"left\":[{\"id\":\"2428\"}],\"margin\":[5,5,5,5],\"min_border_bottom\":10,\"min_border_left\":10,\"min_border_right\":10,\"min_border_top\":10,\"renderers\":[{\"id\":\"2457\"},{\"id\":\"2478\"},{\"id\":\"2500\"},{\"id\":\"2524\"}],\"right\":[{\"id\":\"2469\"}],\"sizing_mode\":\"fixed\",\"title\":{\"id\":\"2416\"},\"toolbar\":{\"id\":\"2438\"},\"width\":700,\"x_range\":{\"id\":\"2409\"},\"x_scale\":{\"id\":\"2420\"},\"y_range\":{\"id\":\"2410\"},\"y_scale\":{\"id\":\"2422\"}},\"id\":\"2415\",\"subtype\":\"Figure\",\"type\":\"Plot\"},{\"attributes\":{\"angle\":{\"value\":0.0},\"fill_alpha\":{\"value\":1.0},\"fill_color\":{\"value\":\"#6d904f\"},\"hatch_alpha\":{\"value\":1.0},\"hatch_color\":{\"value\":\"#6d904f\"},\"hatch_scale\":{\"value\":12.0},\"hatch_weight\":{\"value\":1.0},\"line_alpha\":{\"value\":1.0},\"line_cap\":{\"value\":\"butt\"},\"line_color\":{\"value\":\"#6d904f\"},\"line_dash\":{\"value\":[]},\"line_dash_offset\":{\"value\":0},\"line_join\":{\"value\":\"bevel\"},\"line_width\":{\"value\":1},\"marker\":{\"value\":\"circle\"},\"size\":{\"value\":5.477225575051661},\"x\":{\"field\":\"TotalCoinsMined\"},\"y\":{\"field\":\"TotalCoinSupply\"}},\"id\":\"2543\",\"type\":\"Scatter\"},{\"attributes\":{\"end\":1.1,\"reset_end\":1.1,\"reset_start\":-0.1,\"start\":-0.1,\"tags\":[[[\"TotalCoinSupply\",\"TotalCoinSupply\",null]]]},\"id\":\"2410\",\"type\":\"Range1d\"},{\"attributes\":{\"fill_alpha\":{\"value\":0.1},\"fill_color\":{\"value\":\"#e5ae38\"},\"hatch_alpha\":{\"value\":0.1},\"hatch_color\":{\"value\":\"#e5ae38\"},\"line_alpha\":{\"value\":0.1},\"line_color\":{\"value\":\"#e5ae38\"},\"size\":{\"value\":5.477225575051661},\"x\":{\"field\":\"TotalCoinsMined\"},\"y\":{\"field\":\"TotalCoinSupply\"}},\"id\":\"2498\",\"type\":\"Scatter\"},{\"attributes\":{\"axis_label\":\"TotalCoinsMined\",\"coordinates\":null,\"formatter\":{\"id\":\"2446\"},\"group\":null,\"major_label_policy\":{\"id\":\"2447\"},\"ticker\":{\"id\":\"2425\"}},\"id\":\"2424\",\"type\":\"LinearAxis\"},{\"attributes\":{\"data\":{\"Class\":[2,2,2,2,2,2,2,2,2,2,2,2,2,2,2,2,2,2,2,2,2,2,2,2,2,2,2,2,2,2,2,2,2,2,2,2,2,2,2,2,2,2,2,2,2,2,2,2,2,2,2,2,2,2,2,2,2,2,2,2,2,2,2,2,2,2,2,2,2,2,2,2,2,2,2,2,2,2,2,2,2,2,2,2,2,2,2,2,2,2,2,2,2,2,2,2,2,2,2,2,2,2,2,2,2,2,2,2,2,2,2,2,2,2,2,2,2,2,2,2,2,2,2,2,2,2,2,2,2,2,2,2,2,2,2,2,2,2,2,2,2,2,2,2,2,2,2,2,2,2,2,2,2,2,2,2,2,2,2,2,2,2,2,2,2,2,2,2,2,2,2,2,2,2,2,2,2,2,2,2,2,2,2,2,2,2,2,2,2,2,2,2,2,2,2,2,2,2,2,2,2,2,2,2,2,2,2,2,2,2,2,2,2,2,2,2,2,2,2,2,2,2,2,2,2,2,2,2,2,2,2,2,2,2,2,2,2,2,2],\"CoinName\":[\"Bitcoin\",\"Ethereum\",\"Litecoin\",\"Monero\",\"Ethereum Classic\",\"ZCash\",\"DigiByte\",\"ProsperCoin\",\"Spreadcoin\",\"Argentum\",\"MyriadCoin\",\"MoonCoin\",\"ZetaCoin\",\"SexCoin\",\"Quatloo\",\"QuarkCoin\",\"Riecoin\",\"Digitalcoin \",\"Catcoin\",\"CannaCoin\",\"CryptCoin\",\"Verge\",\"DevCoin\",\"EarthCoin\",\"E-Gulden\",\"Einsteinium\",\"Emerald\",\"Franko\",\"FeatherCoin\",\"GrandCoin\",\"GlobalCoin\",\"GoldCoin\",\"Infinite Coin\",\"IXcoin\",\"KrugerCoin\",\"LuckyCoin\",\"Litebar \",\"MegaCoin\",\"MediterraneanCoin\",\"MinCoin\",\"NobleCoin\",\"Namecoin\",\"NyanCoin\",\"RonPaulCoin\",\"StableCoin\",\"SmartCoin\",\"SysCoin\",\"TigerCoin\",\"TerraCoin\",\"UnbreakableCoin\",\"Unobtanium\",\"UroCoin\",\"ViaCoin\",\"Vertcoin\",\"WorldCoin\",\"JouleCoin\",\"ByteCoin\",\"DigitalNote \",\"MonaCoin\",\"Gulden\",\"PesetaCoin\",\"Wild Beast Coin\",\"Flo\",\"ArtByte\",\"Folding Coin\",\"Unitus\",\"CypherPunkCoin\",\"OmniCron\",\"GreenCoin\",\"Cryptonite\",\"MasterCoin\",\"SoonCoin\",\"1Credit\",\"MarsCoin \",\"Crypto\",\"Anarchists Prime\",\"BowsCoin\",\"Song Coin\",\"BitZeny\",\"Expanse\",\"Siacoin\",\"MindCoin\",\"I0coin\",\"Revolution VR\",\"HOdlcoin\",\"Gamecredits\",\"CarpeDiemCoin\",\"Adzcoin\",\"SoilCoin\",\"YoCoin\",\"SibCoin\",\"Francs\",\"BolivarCoin\",\"Omni\",\"PizzaCoin\",\"Komodo\",\"Karbo\",\"ZayedCoin\",\"Circuits of Value\",\"DopeCoin\",\"DollarCoin\",\"Shilling\",\"ZCoin\",\"Elementrem\",\"ZClassic\",\"KiloCoin\",\"ArtexCoin\",\"Kurrent\",\"Cannabis Industry Coin\",\"OsmiumCoin\",\"Bikercoins\",\"HexxCoin\",\"PacCoin\",\"Citadel\",\"BeaverCoin\",\"VaultCoin\",\"Zero\",\"Canada eCoin\",\"Zoin\",\"DubaiCoin\",\"EB3coin\",\"Coinonat\",\"BenjiRolls\",\"ILCoin\",\"EquiTrader\",\"Quantum Resistant Ledger\",\"Dynamic\",\"Nano\",\"ChanCoin\",\"Dinastycoin\",\"DigitalPrice\",\"Unify\",\"SocialCoin\",\"ArcticCoin\",\"DAS\",\"LeviarCoin\",\"Bitcore\",\"gCn Coin\",\"SmartCash\",\"Onix\",\"Bitcoin Cash\",\"Sojourn Coin\",\"NewYorkCoin\",\"FrazCoin\",\"Kronecoin\",\"AdCoin\",\"Linx\",\"Sumokoin\",\"BitcoinZ\",\"Elements\",\"VIVO Coin\",\"Bitcoin Gold\",\"Pirl\",\"eBoost\",\"Pura\",\"Innova\",\"Ellaism\",\"GoByte\",\"SHIELD\",\"UltraNote\",\"BitCoal\",\"DaxxCoin\",\"AC3\",\"Lethean\",\"PopularCoin\",\"Photon\",\"Sucre\",\"SparksPay\",\"GunCoin\",\"IrishCoin\",\"Pioneer Coin\",\"UnitedBitcoin\",\"Interzone\",\"TurtleCoin\",\"MUNcoin\",\"Niobio Cash\",\"ShareChain\",\"Travelflex\",\"KREDS\",\"BitFlip\",\"LottoCoin\",\"Crypto Improvement Fund\",\"Callisto Network\",\"BitTube\",\"Poseidon\",\"Aidos Kuneen\",\"Bitrolium\",\"Alpenschillling\",\"FuturoCoin\",\"Monero Classic\",\"Jumpcoin\",\"Infinex\",\"KEYCO\",\"GINcoin\",\"PlatinCoin\",\"Loki\",\"Newton Coin\",\"MassGrid\",\"PluraCoin\",\"Motion\",\"PlusOneCoin\",\"Axe\",\"HexCoin\",\"Webchain\",\"Ryo\",\"Urals Coin\",\"Qwertycoin\",\"Project Pai\",\"Azart\",\"Xchange\",\"CrypticCoin\",\"Actinium\",\"Bitcoin SV\",\"FREDEnergy\",\"Universal Molecule\",\"Lithium\",\"PirateCash\",\"Exosis\",\"Block-Logic\",\"Beam\",\"Bithereum\",\"SLICE\",\"BLAST\",\"Bitcoin Rhodium\",\"GlobalToken\",\"SolarCoin\",\"UFO Coin\",\"BlakeCoin\",\"Crypto Escudo\",\"Crown Coin\",\"SmileyCoin\",\"Groestlcoin\",\"Bata\",\"Pakcoin\",\"JoinCoin\",\"Vollar\",\"Reality Clash\",\"Beldex\",\"Horizen\"],\"TotalCoinSupply\":{\"__ndarray__\":\"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\",\"dtype\":\"float64\",\"order\":\"little\",\"shape\":[239]},\"TotalCoinsMined\":{\"__ndarray__\":\"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\",\"dtype\":\"float64\",\"order\":\"little\",\"shape\":[239]}},\"selected\":{\"id\":\"2495\"},\"selection_policy\":{\"id\":\"2513\"}},\"id\":\"2494\",\"type\":\"ColumnDataSource\"},{\"attributes\":{\"tools\":[{\"id\":\"2411\"},{\"id\":\"2432\"},{\"id\":\"2433\"},{\"id\":\"2434\"},{\"id\":\"2435\"},{\"id\":\"2436\"}]},\"id\":\"2438\",\"type\":\"Toolbar\"},{\"attributes\":{},\"id\":\"2473\",\"type\":\"Selection\"},{\"attributes\":{},\"id\":\"2466\",\"type\":\"UnionRenderers\"},{\"attributes\":{\"bottom_units\":\"screen\",\"coordinates\":null,\"fill_alpha\":0.5,\"fill_color\":\"lightgrey\",\"group\":null,\"left_units\":\"screen\",\"level\":\"overlay\",\"line_alpha\":1.0,\"line_color\":\"black\",\"line_dash\":[4,4],\"line_width\":2,\"right_units\":\"screen\",\"syncable\":false,\"top_units\":\"screen\"},\"id\":\"2437\",\"type\":\"BoxAnnotation\"},{\"attributes\":{\"label\":{\"value\":\"0\"},\"renderers\":[{\"id\":\"2457\"}]},\"id\":\"2470\",\"type\":\"LegendItem\"},{\"attributes\":{},\"id\":\"2446\",\"type\":\"BasicTickFormatter\"},{\"attributes\":{\"coordinates\":null,\"data_source\":{\"id\":\"2494\"},\"glyph\":{\"id\":\"2497\"},\"group\":null,\"hover_glyph\":null,\"muted_glyph\":{\"id\":\"2499\"},\"nonselection_glyph\":{\"id\":\"2498\"},\"selection_glyph\":{\"id\":\"2517\"},\"view\":{\"id\":\"2501\"}},\"id\":\"2500\",\"type\":\"GlyphRenderer\"},{\"attributes\":{\"fill_alpha\":{\"value\":0.2},\"fill_color\":{\"value\":\"#fc4f30\"},\"hatch_alpha\":{\"value\":0.2},\"hatch_color\":{\"value\":\"#fc4f30\"},\"line_alpha\":{\"value\":0.2},\"line_color\":{\"value\":\"#fc4f30\"},\"size\":{\"value\":5.477225575051661},\"x\":{\"field\":\"TotalCoinsMined\"},\"y\":{\"field\":\"TotalCoinSupply\"}},\"id\":\"2477\",\"type\":\"Scatter\"},{\"attributes\":{},\"id\":\"2434\",\"type\":\"WheelZoomTool\"},{\"attributes\":{\"fill_alpha\":{\"value\":0.2},\"fill_color\":{\"value\":\"#30a2da\"},\"hatch_alpha\":{\"value\":0.2},\"hatch_color\":{\"value\":\"#30a2da\"},\"line_alpha\":{\"value\":0.2},\"line_color\":{\"value\":\"#30a2da\"},\"size\":{\"value\":5.477225575051661},\"x\":{\"field\":\"TotalCoinsMined\"},\"y\":{\"field\":\"TotalCoinSupply\"}},\"id\":\"2456\",\"type\":\"Scatter\"},{\"attributes\":{\"data\":{\"Class\":[1],\"CoinName\":[\"BitTorrent\"],\"TotalCoinSupply\":{\"__ndarray__\":\"rkfhehSu7z8=\",\"dtype\":\"float64\",\"order\":\"little\",\"shape\":[1]},\"TotalCoinsMined\":{\"__ndarray__\":\"AAAAAAAA8D8=\",\"dtype\":\"float64\",\"order\":\"little\",\"shape\":[1]}},\"selected\":{\"id\":\"2473\"},\"selection_policy\":{\"id\":\"2489\"}},\"id\":\"2472\",\"type\":\"ColumnDataSource\"},{\"attributes\":{\"children\":[{\"id\":\"2408\"},{\"id\":\"2415\"},{\"id\":\"2560\"}],\"margin\":[0,0,0,0],\"name\":\"Row02425\",\"tags\":[\"embedded\"]},\"id\":\"2407\",\"type\":\"Row\"},{\"attributes\":{\"source\":{\"id\":\"2451\"}},\"id\":\"2458\",\"type\":\"CDSView\"},{\"attributes\":{\"fill_alpha\":{\"value\":0.1},\"fill_color\":{\"value\":\"#6d904f\"},\"hatch_alpha\":{\"value\":0.1},\"hatch_color\":{\"value\":\"#6d904f\"},\"line_alpha\":{\"value\":0.1},\"line_color\":{\"value\":\"#6d904f\"},\"size\":{\"value\":5.477225575051661},\"x\":{\"field\":\"TotalCoinsMined\"},\"y\":{\"field\":\"TotalCoinSupply\"}},\"id\":\"2522\",\"type\":\"Scatter\"},{\"attributes\":{\"margin\":[5,5,5,5],\"name\":\"HSpacer02429\",\"sizing_mode\":\"stretch_width\"},\"id\":\"2408\",\"type\":\"Spacer\"},{\"attributes\":{},\"id\":\"2519\",\"type\":\"Selection\"},{\"attributes\":{\"fill_alpha\":{\"value\":0.2},\"fill_color\":{\"value\":\"#e5ae38\"},\"hatch_alpha\":{\"value\":0.2},\"hatch_color\":{\"value\":\"#e5ae38\"},\"line_alpha\":{\"value\":0.2},\"line_color\":{\"value\":\"#e5ae38\"},\"size\":{\"value\":5.477225575051661},\"x\":{\"field\":\"TotalCoinsMined\"},\"y\":{\"field\":\"TotalCoinSupply\"}},\"id\":\"2499\",\"type\":\"Scatter\"},{\"attributes\":{\"callback\":null,\"renderers\":[{\"id\":\"2457\"},{\"id\":\"2478\"},{\"id\":\"2500\"},{\"id\":\"2524\"}],\"tags\":[\"hv_created\"],\"tooltips\":[[\"Class\",\"@{Class}\"],[\"TotalCoinsMined\",\"@{TotalCoinsMined}\"],[\"TotalCoinSupply\",\"@{TotalCoinSupply}\"],[\"CoinName\",\"@{CoinName}\"]]},\"id\":\"2411\",\"type\":\"HoverTool\"},{\"attributes\":{\"fill_color\":{\"value\":\"#e5ae38\"},\"hatch_color\":{\"value\":\"#e5ae38\"},\"line_color\":{\"value\":\"#e5ae38\"},\"size\":{\"value\":5.477225575051661},\"x\":{\"field\":\"TotalCoinsMined\"},\"y\":{\"field\":\"TotalCoinSupply\"}},\"id\":\"2497\",\"type\":\"Scatter\"},{\"attributes\":{\"fill_alpha\":{\"value\":0.2},\"fill_color\":{\"value\":\"#6d904f\"},\"hatch_alpha\":{\"value\":0.2},\"hatch_color\":{\"value\":\"#6d904f\"},\"line_alpha\":{\"value\":0.2},\"line_color\":{\"value\":\"#6d904f\"},\"size\":{\"value\":5.477225575051661},\"x\":{\"field\":\"TotalCoinsMined\"},\"y\":{\"field\":\"TotalCoinSupply\"}},\"id\":\"2523\",\"type\":\"Scatter\"},{\"attributes\":{\"click_policy\":\"mute\",\"coordinates\":null,\"group\":null,\"items\":[{\"id\":\"2470\"},{\"id\":\"2492\"},{\"id\":\"2516\"},{\"id\":\"2542\"}],\"location\":[0,0],\"title\":\"Class\"},\"id\":\"2469\",\"type\":\"Legend\"},{\"attributes\":{\"fill_alpha\":{\"value\":0.1},\"fill_color\":{\"value\":\"#30a2da\"},\"hatch_alpha\":{\"value\":0.1},\"hatch_color\":{\"value\":\"#30a2da\"},\"line_alpha\":{\"value\":0.1},\"line_color\":{\"value\":\"#30a2da\"},\"size\":{\"value\":5.477225575051661},\"x\":{\"field\":\"TotalCoinsMined\"},\"y\":{\"field\":\"TotalCoinSupply\"}},\"id\":\"2455\",\"type\":\"Scatter\"},{\"attributes\":{\"data\":{\"Class\":[0,0,0,0,0,0,0,0,0,0,0,0,0,0,0,0,0,0,0,0,0,0,0,0,0,0,0,0,0,0,0,0,0,0,0,0,0,0,0,0,0,0,0,0,0,0,0,0,0,0,0,0,0,0,0,0,0,0,0,0,0,0,0,0,0,0,0,0,0,0,0,0,0,0,0,0,0,0,0,0,0,0,0,0,0,0,0,0,0,0,0,0,0,0,0,0,0,0,0,0,0,0,0,0,0,0,0,0,0,0,0,0,0,0,0,0,0,0,0,0,0,0,0,0,0,0,0,0,0,0,0,0,0,0,0,0,0,0,0,0,0,0,0,0,0,0,0,0,0,0,0,0,0,0,0,0,0,0,0,0,0,0,0,0,0,0,0,0,0,0,0,0,0,0,0,0,0,0,0,0,0,0,0,0,0,0,0,0,0,0,0,0,0,0,0,0,0,0,0,0,0,0,0,0,0,0,0,0,0,0,0,0,0,0,0,0,0,0,0,0,0,0,0,0,0,0,0,0,0,0,0,0,0,0,0,0,0,0,0,0,0,0,0,0,0,0,0,0,0,0,0,0,0,0,0,0,0,0,0,0,0,0,0,0,0,0,0,0,0,0,0,0,0,0,0,0,0,0,0,0,0,0,0,0,0,0,0],\"CoinName\":[\"42 Coin\",\"404Coin\",\"EliteCoin\",\"Dash\",\"Bitshares\",\"BitcoinDark\",\"PayCoin\",\"KoboCoin\",\"Aurora Coin\",\"BlueCoin\",\"EnergyCoin\",\"BitBar\",\"CryptoBullion\",\"CasinoCoin\",\"Diamond\",\"Exclusive Coin\",\"FlutterCoin\",\"HoboNickels\",\"HyperStake\",\"IOCoin\",\"MaxCoin\",\"MintCoin\",\"MazaCoin\",\"Nautilus Coin\",\"NavCoin\",\"OpalCoin\",\"Orbitcoin\",\"PotCoin\",\"PhoenixCoin\",\"Reddcoin\",\"SuperCoin\",\"SyncCoin\",\"TeslaCoin\",\"TittieCoin\",\"TorCoin\",\"UnitaryStatus Dollar\",\"UltraCoin\",\"VeriCoin\",\"X11 Coin\",\"Crypti\",\"StealthCoin\",\"ZCC Coin\",\"BurstCoin\",\"StorjCoin\",\"Neutron\",\"FairCoin\",\"RubyCoin\",\"Kore\",\"Dnotes\",\"8BIT Coin\",\"Sativa Coin\",\"Ucoin\",\"Vtorrent\",\"IslaCoin\",\"Nexus\",\"Droidz\",\"Squall Coin\",\"Diggits\",\"Paycon\",\"Emercoin\",\"EverGreenCoin\",\"Decred\",\"EDRCoin\",\"Hitcoin\",\"DubaiCoin\",\"PWR Coin\",\"BillaryCoin\",\"GPU Coin\",\"EuropeCoin\",\"ZeitCoin\",\"SwingCoin\",\"SafeExchangeCoin\",\"Nebuchadnezzar\",\"Ratecoin\",\"Revenu\",\"Clockcoin\",\"VIP Tokens\",\"BitSend\",\"Let it Ride\",\"PutinCoin\",\"iBankCoin\",\"Frankywillcoin\",\"MudraCoin\",\"Lutetium Coin\",\"GoldBlocks\",\"CarterCoin\",\"BitTokens\",\"MustangCoin\",\"ZoneCoin\",\"RootCoin\",\"BitCurrency\",\"Swiscoin\",\"BuzzCoin\",\"Opair\",\"PesoBit\",\"Halloween Coin\",\"CoffeeCoin\",\"RoyalCoin\",\"GanjaCoin V2\",\"TeamUP\",\"LanaCoin\",\"ARK\",\"InsaneCoin\",\"EmberCoin\",\"XenixCoin\",\"FreeCoin\",\"PLNCoin\",\"AquariusCoin\",\"Creatio\",\"Eternity\",\"Eurocoin\",\"BitcoinFast\",\"Stakenet\",\"BitConnect Coin\",\"MoneyCoin\",\"Enigma\",\"Russiacoin\",\"PandaCoin\",\"GameUnits\",\"GAKHcoin\",\"Allsafe\",\"LiteCreed\",\"Klingon Empire Darsek\",\"Internet of People\",\"KushCoin\",\"Printerium\",\"Impeach\",\"Zilbercoin\",\"FirstCoin\",\"FindCoin\",\"OpenChat\",\"RenosCoin\",\"VirtacoinPlus\",\"TajCoin\",\"Impact\",\"Atmos\",\"HappyCoin\",\"MacronCoin\",\"Condensate\",\"Independent Money System\",\"ArgusCoin\",\"LomoCoin\",\"ProCurrency\",\"GoldReserve\",\"GrowthCoin\",\"Phreak\",\"Degas Coin\",\"HTML5 Coin\",\"Ultimate Secure Cash\",\"QTUM\",\"Espers\",\"Denarius\",\"Virta Unique Coin\",\"Bitcoin Planet\",\"BritCoin\",\"Linda\",\"DeepOnion\",\"Signatum\",\"Cream\",\"Monoeci\",\"Draftcoin\",\"Stakecoin\",\"CoinonatX\",\"Ethereum Dark\",\"Obsidian\",\"Cardano\",\"Regalcoin\",\"TrezarCoin\",\"TerraNovaCoin\",\"Rupee\",\"WomenCoin\",\"Theresa May Coin\",\"NamoCoin\",\"LUXCoin\",\"Xios\",\"Bitcloud 2.0\",\"KekCoin\",\"BlackholeCoin\",\"Infinity Economics\",\"Magnet\",\"Lamden Tau\",\"Electra\",\"Bitcoin Diamond\",\"Cash & Back Coin\",\"Bulwark\",\"Kalkulus\",\"GermanCoin\",\"LiteCoin Ultra\",\"PhantomX\",\"Digiwage\",\"Trollcoin\",\"Litecoin Plus\",\"Monkey Project\",\"TokenPay\",\"1717 Masonic Commemorative Token\",\"My Big Coin\",\"Unified Society USDEX\",\"Tokyo Coin\",\"Stipend\",\"Pushi\",\"Ellerium\",\"Velox\",\"Ontology\",\"Bitspace\",\"Briacoin\",\"Ignition\",\"MedicCoin\",\"Bitcoin Green\",\"Deviant Coin\",\"Abjcoin\",\"Semux\",\"Carebit\",\"Zealium\",\"Proton\",\"iDealCash\",\"Bitcoin Incognito\",\"HollyWoodCoin\",\"Swisscoin\",\"Xt3ch\",\"TheVig\",\"EmaratCoin\",\"Dekado\",\"Lynx\",\"Poseidon Quark\",\"BitcoinWSpectrum\",\"Muse\",\"Trivechain\",\"Dystem\",\"Giant\",\"Peony Coin\",\"Absolute Coin\",\"Vitae\",\"TPCash\",\"ARENON\",\"EUNO\",\"MMOCoin\",\"Ketan\",\"XDNA\",\"PAXEX\",\"ThunderStake\",\"Kcash\",\"Bettex coin\",\"BitMoney\",\"Junson Ming Chan Coin\",\"HerbCoin\",\"Oduwa\",\"Galilel\",\"Crypto Sports\",\"Credit\",\"Dash Platinum\",\"Nasdacoin\",\"Beetle Coin\",\"Titan Coin\",\"Award\",\"Insane Coin\",\"ALAX\",\"LiteDoge\",\"TruckCoin\",\"OrangeCoin\",\"BitstarCoin\",\"NeosCoin\",\"HyperCoin\",\"PinkCoin\",\"AudioCoin\",\"IncaKoin\",\"Piggy Coin\",\"Genstake\",\"XiaoMiCoin\",\"CapriCoin\",\" ClubCoin\",\"Radium\",\"Creditbit \",\"OKCash\",\"Lisk\",\"HiCoin\",\"WhiteCoin\",\"FriendshipCoin\",\"Triangles Coin\",\"EOS\",\"Oxycoin\",\"TigerCash\",\"Waves\",\"Particl\",\"Nxt\",\"ZEPHYR\",\"Gapcoin\",\"BitcoinPlus\"],\"TotalCoinSupply\":{\"__ndarray__\":\"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\",\"dtype\":\"float64\",\"order\":\"little\",\"shape\":[287]},\"TotalCoinsMined\":{\"__ndarray__\":\"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\",\"dtype\":\"float64\",\"order\":\"little\",\"shape\":[287]}},\"selected\":{\"id\":\"2452\"},\"selection_policy\":{\"id\":\"2466\"}},\"id\":\"2451\",\"type\":\"ColumnDataSource\"},{\"attributes\":{},\"id\":\"2452\",\"type\":\"Selection\"},{\"attributes\":{},\"id\":\"2489\",\"type\":\"UnionRenderers\"},{\"attributes\":{\"axis\":{\"id\":\"2424\"},\"coordinates\":null,\"grid_line_color\":null,\"group\":null,\"ticker\":null},\"id\":\"2427\",\"type\":\"Grid\"},{\"attributes\":{\"source\":{\"id\":\"2494\"}},\"id\":\"2501\",\"type\":\"CDSView\"},{\"attributes\":{\"coordinates\":null,\"group\":null,\"text_color\":\"black\",\"text_font_size\":\"12pt\"},\"id\":\"2416\",\"type\":\"Title\"},{\"attributes\":{},\"id\":\"2449\",\"type\":\"BasicTickFormatter\"},{\"attributes\":{},\"id\":\"2420\",\"type\":\"LinearScale\"},{\"attributes\":{\"label\":{\"value\":\"1\"},\"renderers\":[{\"id\":\"2478\"}]},\"id\":\"2492\",\"type\":\"LegendItem\"},{\"attributes\":{\"fill_color\":{\"value\":\"#30a2da\"},\"hatch_color\":{\"value\":\"#30a2da\"},\"line_color\":{\"value\":\"#30a2da\"},\"size\":{\"value\":5.477225575051661},\"x\":{\"field\":\"TotalCoinsMined\"},\"y\":{\"field\":\"TotalCoinSupply\"}},\"id\":\"2454\",\"type\":\"Scatter\"},{\"attributes\":{\"angle\":{\"value\":0.0},\"fill_alpha\":{\"value\":1.0},\"fill_color\":{\"value\":\"#fc4f30\"},\"hatch_alpha\":{\"value\":1.0},\"hatch_color\":{\"value\":\"#fc4f30\"},\"hatch_scale\":{\"value\":12.0},\"hatch_weight\":{\"value\":1.0},\"line_alpha\":{\"value\":1.0},\"line_cap\":{\"value\":\"butt\"},\"line_color\":{\"value\":\"#fc4f30\"},\"line_dash\":{\"value\":[]},\"line_dash_offset\":{\"value\":0},\"line_join\":{\"value\":\"bevel\"},\"line_width\":{\"value\":1},\"marker\":{\"value\":\"circle\"},\"size\":{\"value\":5.477225575051661},\"x\":{\"field\":\"TotalCoinsMined\"},\"y\":{\"field\":\"TotalCoinSupply\"}},\"id\":\"2493\",\"type\":\"Scatter\"},{\"attributes\":{},\"id\":\"2429\",\"type\":\"BasicTicker\"},{\"attributes\":{\"axis_label\":\"TotalCoinSupply\",\"coordinates\":null,\"formatter\":{\"id\":\"2449\"},\"group\":null,\"major_label_policy\":{\"id\":\"2450\"},\"ticker\":{\"id\":\"2429\"}},\"id\":\"2428\",\"type\":\"LinearAxis\"},{\"attributes\":{\"data\":{\"Class\":[3,3,3,3,3],\"CoinName\":[\"Vechain\",\"BiblePay\",\"LitecoinCash\",\"Poa Network\",\"Acute Angle Cloud\"],\"TotalCoinSupply\":{\"__ndarray__\":\"+nQumcwytj+U9gZfmEx1P7x5qkNuhks/hFoo4ZaLMD/8qfHSTWJQPw==\",\"dtype\":\"float64\",\"order\":\"little\",\"shape\":[5]},\"TotalCoinsMined\":{\"__ndarray__\":\"zaDgBxGurD+PWA2R2lNdP5CkxfJKIUU/nBkleI8SKz96Q0MFuIxQPw==\",\"dtype\":\"float64\",\"order\":\"little\",\"shape\":[5]}},\"selected\":{\"id\":\"2519\"},\"selection_policy\":{\"id\":\"2539\"}},\"id\":\"2518\",\"type\":\"ColumnDataSource\"},{\"attributes\":{},\"id\":\"2422\",\"type\":\"LinearScale\"},{\"attributes\":{\"source\":{\"id\":\"2472\"}},\"id\":\"2479\",\"type\":\"CDSView\"},{\"attributes\":{},\"id\":\"2425\",\"type\":\"BasicTicker\"},{\"attributes\":{\"angle\":{\"value\":0.0},\"fill_alpha\":{\"value\":1.0},\"fill_color\":{\"value\":\"#30a2da\"},\"hatch_alpha\":{\"value\":1.0},\"hatch_color\":{\"value\":\"#30a2da\"},\"hatch_scale\":{\"value\":12.0},\"hatch_weight\":{\"value\":1.0},\"line_alpha\":{\"value\":1.0},\"line_cap\":{\"value\":\"butt\"},\"line_color\":{\"value\":\"#30a2da\"},\"line_dash\":{\"value\":[]},\"line_dash_offset\":{\"value\":0},\"line_join\":{\"value\":\"bevel\"},\"line_width\":{\"value\":1},\"marker\":{\"value\":\"circle\"},\"size\":{\"value\":5.477225575051661},\"x\":{\"field\":\"TotalCoinsMined\"},\"y\":{\"field\":\"TotalCoinSupply\"}},\"id\":\"2471\",\"type\":\"Scatter\"},{\"attributes\":{\"coordinates\":null,\"data_source\":{\"id\":\"2518\"},\"glyph\":{\"id\":\"2521\"},\"group\":null,\"hover_glyph\":null,\"muted_glyph\":{\"id\":\"2523\"},\"nonselection_glyph\":{\"id\":\"2522\"},\"selection_glyph\":{\"id\":\"2543\"},\"view\":{\"id\":\"2525\"}},\"id\":\"2524\",\"type\":\"GlyphRenderer\"},{\"attributes\":{},\"id\":\"2432\",\"type\":\"SaveTool\"},{\"attributes\":{},\"id\":\"2495\",\"type\":\"Selection\"},{\"attributes\":{\"axis\":{\"id\":\"2428\"},\"coordinates\":null,\"dimension\":1,\"grid_line_color\":null,\"group\":null,\"ticker\":null},\"id\":\"2431\",\"type\":\"Grid\"},{\"attributes\":{\"label\":{\"value\":\"2\"},\"renderers\":[{\"id\":\"2500\"}]},\"id\":\"2516\",\"type\":\"LegendItem\"},{\"attributes\":{},\"id\":\"2447\",\"type\":\"AllLabels\"},{\"attributes\":{\"angle\":{\"value\":0.0},\"fill_alpha\":{\"value\":1.0},\"fill_color\":{\"value\":\"#e5ae38\"},\"hatch_alpha\":{\"value\":1.0},\"hatch_color\":{\"value\":\"#e5ae38\"},\"hatch_scale\":{\"value\":12.0},\"hatch_weight\":{\"value\":1.0},\"line_alpha\":{\"value\":1.0},\"line_cap\":{\"value\":\"butt\"},\"line_color\":{\"value\":\"#e5ae38\"},\"line_dash\":{\"value\":[]},\"line_dash_offset\":{\"value\":0},\"line_join\":{\"value\":\"bevel\"},\"line_width\":{\"value\":1},\"marker\":{\"value\":\"circle\"},\"size\":{\"value\":5.477225575051661},\"x\":{\"field\":\"TotalCoinsMined\"},\"y\":{\"field\":\"TotalCoinSupply\"}},\"id\":\"2517\",\"type\":\"Scatter\"},{\"attributes\":{\"fill_color\":{\"value\":\"#fc4f30\"},\"hatch_color\":{\"value\":\"#fc4f30\"},\"line_color\":{\"value\":\"#fc4f30\"},\"size\":{\"value\":5.477225575051661},\"x\":{\"field\":\"TotalCoinsMined\"},\"y\":{\"field\":\"TotalCoinSupply\"}},\"id\":\"2475\",\"type\":\"Scatter\"},{\"attributes\":{\"fill_color\":{\"value\":\"#6d904f\"},\"hatch_color\":{\"value\":\"#6d904f\"},\"line_color\":{\"value\":\"#6d904f\"},\"size\":{\"value\":5.477225575051661},\"x\":{\"field\":\"TotalCoinsMined\"},\"y\":{\"field\":\"TotalCoinSupply\"}},\"id\":\"2521\",\"type\":\"Scatter\"},{\"attributes\":{},\"id\":\"2513\",\"type\":\"UnionRenderers\"},{\"attributes\":{\"end\":1.042857142857143,\"reset_end\":1.042857142857143,\"reset_start\":-0.04285714285714286,\"start\":-0.04285714285714286,\"tags\":[[[\"TotalCoinsMined\",\"TotalCoinsMined\",null]]]},\"id\":\"2409\",\"type\":\"Range1d\"},{\"attributes\":{\"coordinates\":null,\"data_source\":{\"id\":\"2472\"},\"glyph\":{\"id\":\"2475\"},\"group\":null,\"hover_glyph\":null,\"muted_glyph\":{\"id\":\"2477\"},\"nonselection_glyph\":{\"id\":\"2476\"},\"selection_glyph\":{\"id\":\"2493\"},\"view\":{\"id\":\"2479\"}},\"id\":\"2478\",\"type\":\"GlyphRenderer\"},{\"attributes\":{\"fill_alpha\":{\"value\":0.1},\"fill_color\":{\"value\":\"#fc4f30\"},\"hatch_alpha\":{\"value\":0.1},\"hatch_color\":{\"value\":\"#fc4f30\"},\"line_alpha\":{\"value\":0.1},\"line_color\":{\"value\":\"#fc4f30\"},\"size\":{\"value\":5.477225575051661},\"x\":{\"field\":\"TotalCoinsMined\"},\"y\":{\"field\":\"TotalCoinSupply\"}},\"id\":\"2476\",\"type\":\"Scatter\"},{\"attributes\":{\"source\":{\"id\":\"2518\"}},\"id\":\"2525\",\"type\":\"CDSView\"},{\"attributes\":{\"margin\":[5,5,5,5],\"name\":\"HSpacer02430\",\"sizing_mode\":\"stretch_width\"},\"id\":\"2560\",\"type\":\"Spacer\"}],\"root_ids\":[\"2407\"]},\"title\":\"Bokeh Application\",\"version\":\"2.4.3\"}};\n",
       "    var render_items = [{\"docid\":\"cb831f5d-6bcb-4380-821f-ef4d62d83e92\",\"root_ids\":[\"2407\"],\"roots\":{\"2407\":\"0a6fa988-de31-4283-ab4f-362ec88ebc91\"}}];\n",
       "    root.Bokeh.embed.embed_items_notebook(docs_json, render_items);\n",
       "  }\n",
       "  if (root.Bokeh !== undefined && root.Bokeh.Panel !== undefined) {\n",
       "    embed_document(root);\n",
       "  } else {\n",
       "    var attempts = 0;\n",
       "    var timer = setInterval(function(root) {\n",
       "      if (root.Bokeh !== undefined && root.Bokeh.Panel !== undefined) {\n",
       "        clearInterval(timer);\n",
       "        embed_document(root);\n",
       "      } else if (document.readyState == \"complete\") {\n",
       "        attempts++;\n",
       "        if (attempts > 200) {\n",
       "          clearInterval(timer);\n",
       "          console.log(\"Bokeh: ERROR: Unable to run BokehJS code because BokehJS library is missing\");\n",
       "        }\n",
       "      }\n",
       "    }, 25, root)\n",
       "  }\n",
       "})(window);</script>"
      ],
      "text/plain": [
       ":NdOverlay   [Class]\n",
       "   :Scatter   [TotalCoinsMined]   (TotalCoinSupply,CoinName)"
      ]
     },
     "execution_count": 104,
     "metadata": {
      "application/vnd.holoviews_exec.v0+json": {
       "id": "2407"
      }
     },
     "output_type": "execute_result"
    }
   ],
   "source": [
    "# Create a hvplot.scatter plot using x=\"TotalCoinsMined\" and y=\"TotalCoinSupply\".\n",
    "plot_df.hvplot.scatter(x=\"TotalCoinsMined\", y=\"TotalCoinSupply\", by=\"Class\", hover_cols = [\"CoinName\"])"
   ]
  },
  {
   "cell_type": "code",
   "execution_count": null,
   "metadata": {},
   "outputs": [],
   "source": []
  }
 ],
 "metadata": {
  "file_extension": ".py",
  "kernelspec": {
   "display_name": "Python 3 (ipykernel)",
   "language": "python",
   "name": "python3"
  },
  "language_info": {
   "codemirror_mode": {
    "name": "ipython",
    "version": 3
   },
   "file_extension": ".py",
   "mimetype": "text/x-python",
   "name": "python",
   "nbconvert_exporter": "python",
   "pygments_lexer": "ipython3",
   "version": "3.7.13"
  },
  "latex_envs": {
   "LaTeX_envs_menu_present": true,
   "autoclose": false,
   "autocomplete": true,
   "bibliofile": "biblio.bib",
   "cite_by": "apalike",
   "current_citInitial": 1,
   "eqLabelWithNumbers": true,
   "eqNumInitial": 1,
   "hotkeys": {
    "equation": "Ctrl-E",
    "itemize": "Ctrl-I"
   },
   "labels_anchors": false,
   "latex_user_defs": false,
   "report_style_numbering": false,
   "user_envs_cfg": false
  },
  "mimetype": "text/x-python",
  "name": "python",
  "npconvert_exporter": "python",
  "pygments_lexer": "ipython3",
  "version": 3
 },
 "nbformat": 4,
 "nbformat_minor": 4
}
